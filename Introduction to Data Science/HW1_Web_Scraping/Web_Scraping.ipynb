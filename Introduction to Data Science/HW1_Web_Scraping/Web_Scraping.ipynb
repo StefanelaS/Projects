{
 "cells": [
  {
   "cell_type": "markdown",
   "metadata": {
    "colab_type": "text",
    "id": "Gbgp0NXdc137"
   },
   "source": [
    "# Project 1: Web scraping and basic summarization\n",
    "*University of Ljubljana, Faculty for computer and information science* <br />\n",
    "*Course: Introduction to data science*"
   ]
  },
  {
   "cell_type": "markdown",
   "metadata": {
    "colab_type": "text",
    "id": "UkYxh9TVc13-"
   },
   "source": [
    "The goal of this project is to automatically retrieve structured data from page [rtvslo.si](https://www.rtvslo.si) for search terms \"rusija\" and \"ukrajina\". For both search terms each news article was parced and the data was expored to JSON file format."
   ]
  },
  {
   "cell_type": "markdown",
   "metadata": {
    "colab_type": "text",
    "id": "vmDFHSpSc14M"
   },
   "source": [
    "## Environment setup"
   ]
  },
  {
   "cell_type": "markdown",
   "metadata": {
    "colab_type": "text",
    "id": "U6cCtBRGc14R"
   },
   "source": [
    "- Libraries needed to run this notebook are: numpy, matplotlib and selenium.\n",
    "\n",
    "- Run the following commands to set up the environment:\n",
    " \n",
    "> conda create -n project1_env python=3.9\n",
    "\n",
    "> conda activate project1_env\n",
    " \n",
    "> conda install -y numpy\n",
    " \n",
    "> conda install -y matplotlib\n",
    "  \n",
    "> conda install -y selenium\n",
    "\n",
    "- Or use project1_env.yml file from the same GitHub repository to setup the enviroment with command:\n",
    "\n",
    ">conda create -f project1_env.yml`\n",
    "\n",
    "- Also, for this project chrome driver was used, which was downloaded from the https://chromedriver.chromium.org/downloads."
   ]
  },
  {
   "cell_type": "code",
   "execution_count": null,
   "metadata": {},
   "outputs": [],
   "source": []
  },
  {
   "cell_type": "code",
   "execution_count": 1,
   "metadata": {
    "colab": {},
    "colab_type": "code",
    "id": "X3ooqpJOc14V"
   },
   "outputs": [],
   "source": [
    "# Loading all the libraries needed for running the code chunks below\n",
    "\n",
    "import json\n",
    "import matplotlib.pyplot as plt\n",
    "import numpy as np\n",
    "from selenium import webdriver\n",
    "from selenium.webdriver.common.by import By\n",
    "from selenium.webdriver.common.keys import Keys\n",
    "from selenium.common.exceptions import NoSuchElementException\n",
    "from selenium.common.exceptions import StaleElementReferenceException\n",
    "from selenium.common.exceptions import NoSuchWindowException \n"
   ]
  },
  {
   "cell_type": "markdown",
   "metadata": {
    "colab_type": "text",
    "id": "aIXBDoF1c14Z"
   },
   "source": [
    "## Web scraping"
   ]
  },
  {
   "cell_type": "markdown",
   "metadata": {
    "colab_type": "text",
    "id": "5KbM1Lx0c14a"
   },
   "source": [
    "Functions in this code do the following: a) programatically open rtv.slo.si page, b) sequentially enter search term 'ukrajina' and 'rusija', c) iterate through all the results and make a list of all the article links, d) go through the list of links of all articles and parse each article.\n",
    "\n",
    "\n",
    "An example of Web pages from rtvslo.si:\n",
    "\n",
    "<table>\n",
    "    <tr>\n",
    "        <td style=\"text-align: left;\">rtvslo.si search results page</td>\n",
    "        <td style=\"text-align: left;\">rtvslo.si news article page</td>\n",
    "    </tr>\n",
    "    <tr>\n",
    "        <td><img src=\"./rtvslo1.png\" /></td>\n",
    "        <td><img src=\"./rtvslo2.png\" /></td>\n",
    "    </tr>\n",
    "</table>\n"
   ]
  },
  {
   "cell_type": "markdown",
   "metadata": {
    "colab_type": "text",
    "id": "CuMR9RRWc14b"
   },
   "source": [
    "Data extracted in this project was exported in a JSON format, that contains following information for every article: name of the author, date and time of publishment, title, subtitle, headline, text content, information if the article contains a video or not, tags and number of comments on the article.\n",
    "\n",
    "JSON Schema of the data:\n",
    "\n",
    "```\n",
    "[  \n",
    "  {\n",
    "    \"author\": \"G. K., Al. Ma.\",\n",
    "    \"datetime_published\": \"3. november 2022 ob 19:57\",\n",
    "    \"title\": \"Logar: Sem proti ostremu dialogu. Pirc Musar: Če vam to uspe znotraj stranke, dobite odlikovanje.\",\n",
    "    \"subtitle\": \"Soočenje 2. kroga predsedniških volitev na TV Slovenija\",\n",
    "    \"headline\": \"V prvem soočenju drugega kroga predsedniških volitev sta kandidata Nataša Pirc Musar in Anže Logar med drugim predstavljala svoja stališča glede vojne v Ukrajini in prihodnosti, ki jo prinaša, glede draginje in ukrepov vlade ter drugih aktualnih tem.\",\n",
    "    \"content\": \"Teme pogovora so bile narodna sprava, naložbe v Slovensko vojsko, trenutne razmere in vladni ukrepi. Dotaknila sta se tudi naraščajočega verbalnega in fizičnega nasilja v družbi, imenovanj in kadrovanj, za katera bosta kot predsednica oz. predsednik pristojna, odnosa do evropske enotnosti ter vrednot v družbi... \",\n",
    "    \"video(yes/no)\": \"yes\",\n",
    "    \"tags\": [\n",
    "      \"Nataša Pirc Musar\",\n",
    "      \"Anže Logar\",\n",
    "      \"soočenje\"\n",
    "    ],\n",
    "    \"comments_num\": 362\n",
    "  },\n",
    "  {\n",
    "    ...\n",
    "]\n",
    "```"
   ]
  },
  {
   "cell_type": "markdown",
   "metadata": {},
   "source": [
    "### Functions"
   ]
  },
  {
   "cell_type": "code",
   "execution_count": 9,
   "metadata": {
    "colab": {},
    "colab_type": "code",
    "id": "mGR3NslWc14c"
   },
   "outputs": [],
   "source": [
    "# Implementation of search results page parsing \n",
    "\n",
    "# Function parse_search_results takes as arguments url of the current page and list of links of the articles from the \n",
    "# previous pages. It goes through the current page, finds links of all the articles from the current page and appends them\n",
    "# to the list of links from the previous pages. Function returns list of links and url of the next page.\n",
    "\n",
    "\n",
    "def parse_search_results(url, links):\n",
    "    \n",
    "    driver.get(url)\n",
    "    driver.implicitly_wait(1)\n",
    "    html = driver.page_source\n",
    "    \n",
    "    # finding links of all articles on the current page   \n",
    "    for md in driver.find_elements(By.CLASS_NAME, 'md-news'):\n",
    "        link = md.find_element(By.TAG_NAME, 'a')\n",
    "        href = link.get_attribute('href')\n",
    "        if href:\n",
    "            links.append(href)\n",
    "            \n",
    "    # finding next page link  \n",
    "    for pl in driver.find_elements(By.CLASS_NAME, \"page-link\"):\n",
    "        next_page_url = pl.get_attribute('href')\n",
    "    \n",
    "    return links, next_page_url"
   ]
  },
  {
   "cell_type": "code",
   "execution_count": 10,
   "metadata": {
    "colab": {},
    "colab_type": "code",
    "id": "uIHflU3nc14e"
   },
   "outputs": [],
   "source": [
    "# Implementation of news article page parsing\n",
    "\n",
    "# Function parse_news_article takes as an argument url of one article, parses the article collecting the following data: name \n",
    "# of the author, date and time of publishment, title, subtitle, headline, text content, infromation if the article has the\n",
    "# video or not and the number of comments. Function returns a dictionary that contains all of this data for one article.\n",
    "\n",
    "\n",
    "def parse_news_article(url):   \n",
    "    \n",
    "    news_article_data = {'author':'','datetime_published':'','title': '','subtitle':'','headline':'','content':'','video(yes/no)':'','tags':'','comments_num':''}\n",
    "\n",
    "    driver.get(url)\n",
    "    driver.implicitly_wait(1)\n",
    "    html = driver.page_source\n",
    "    \n",
    "    # finding the name of the author\n",
    "    try:\n",
    "        author = driver.find_element(By.CLASS_NAME, 'author')\n",
    "        news_article_data['author'] = author.text\n",
    "    except NoSuchElementException:\n",
    "        news_article_data['author'] = 'Unknown author'\n",
    "        \n",
    "    # finding date and time of publishment  \n",
    "    try:\n",
    "        date = driver.find_element(By.CLASS_NAME, 'publish-meta')\n",
    "        datetime = date.text.split('\\n')\n",
    "        news_article_data['datetime_published'] = datetime[0]\n",
    "    except NoSuchElementException:\n",
    "        news_article_data['datetime_published'] = 'Unknown date'\n",
    "    \n",
    "    # finding the title\n",
    "    try:\n",
    "        header = driver.find_element(By.CLASS_NAME, 'article-header')\n",
    "        title = header.find_element(By.TAG_NAME, 'h1')\n",
    "        news_article_data['title'] = title.text\n",
    "    except NoSuchElementException:\n",
    "        news_article_data['title'] = 'No title'\n",
    "    \n",
    "    # findinh the subtitle\n",
    "    try:\n",
    "        subtitle = driver.find_element(By.CLASS_NAME, 'subtitle')\n",
    "        news_article_data['subtitle'] = subtitle.text\n",
    "    except NoSuchElementException:\n",
    "        news_article_data['subtitle'] = 'No subtitle'\n",
    "     \n",
    "    # finding the headline\n",
    "    try:\n",
    "        headline = driver.find_element(By.CLASS_NAME, 'lead')\n",
    "        news_article_data['headline'] = headline.text\n",
    "    except NoSuchElementException:\n",
    "        news_article_data['headline'] = 'No headline'\n",
    "    \n",
    "    # finding the article text content\n",
    "    content_list = []\n",
    "    try:\n",
    "        for art in driver.find_elements(By.TAG_NAME, 'article'):\n",
    "            for p in art.find_elements(By.TAG_NAME, 'p'):\n",
    "                content_list.append(p.text)\n",
    "            content = ' '.join(e for e in content_list)\n",
    "            news_article_data['content'] = content\n",
    "    except StaleElementReferenceException or NoSuchWindowException or NoSuchElementException:\n",
    "        news_article_data['content'] = content_list\n",
    "    \n",
    "    # checking if the article has a video or not   \n",
    "    try:\n",
    "        video = driver.find_element(By.CLASS_NAME, 'video')\n",
    "        news_article_data['video(yes/no)'] = 'yes'\n",
    "    except NoSuchElementException:\n",
    "        news_article_data['video(yes/no)'] = 'no'\n",
    "    \n",
    "    # finding the tags\n",
    "    tags = []\n",
    "    try:\n",
    "        art_tags = driver.find_element(By.CLASS_NAME, 'article-tags')\n",
    "        for tag in art_tags.find_elements(By.CLASS_NAME, 'tag'):\n",
    "            tags.append(tag.text)\n",
    "        news_article_data['tags'] = tags\n",
    "    except NoSuchElementException:\n",
    "        tags = []\n",
    "    news_article_data['tags'] = tags\n",
    "    \n",
    "    # finding the number of comments on the article\n",
    "    try:\n",
    "        comm = driver.find_element(By.CLASS_NAME, 'numComments')\n",
    "        comm_num = comm.text.strip('()')\n",
    "        news_article_data['comments_num'] = int(comm_num)\n",
    "    except NoSuchElementException:\n",
    "        news_article_data['comments_num'] = 0\n",
    "    \n",
    "    return news_article_data"
   ]
  },
  {
   "cell_type": "code",
   "execution_count": 11,
   "metadata": {
    "colab": {},
    "colab_type": "code",
    "id": "ycXUr0nSc14h"
   },
   "outputs": [],
   "source": [
    "# Implementation of parsing, data merging and final representation\n",
    "\n",
    "# Function search takes search keywords ('ukrajina' or 'rusija') and url of the main page as arguments. \n",
    "# It finds search button on the webpage, enters keyword and searches for the results. \n",
    "# Then, it calles parse_search_results function in order to get links of all of the articles for chosen keyword \n",
    "# (84 pages for each search keyword) and parse_news_article function to parse every single article. \n",
    "# This function appends dictionary with data of each news article to one big dictionary and returns it. \n",
    "\n",
    "\n",
    "def search(keyword, url):\n",
    "    \n",
    "    driver.get(url)\n",
    "    driver.implicitly_wait(1)\n",
    "    html = driver.page_source\n",
    "    \n",
    "    # entering search term/keyword\n",
    "    button = driver.find_element(By.NAME, 'q')\n",
    "    button.send_keys(keyword)\n",
    "    button.send_keys(Keys.ENTER)\n",
    "    next_page_url = driver.current_url\n",
    "    \n",
    "    links = []\n",
    "    \n",
    "    # search results parsing\n",
    "    for i in range(0,84):                                                 #\n",
    "        links, next_page_url = parse_search_results(next_page_url,links)\n",
    "    \n",
    "    data = []\n",
    "    \n",
    "    # article parsing\n",
    "    for i in range(0,int(len(links))):\n",
    "        article = parse_news_article(links[i])\n",
    "        data.append(article)\n",
    "    \n",
    "    return data"
   ]
  },
  {
   "cell_type": "code",
   "execution_count": 12,
   "metadata": {
    "colab": {},
    "colab_type": "code",
    "id": "Yp0FEp9hc14m"
   },
   "outputs": [
    {
     "name": "stderr",
     "output_type": "stream",
     "text": [
      "C:\\Users\\Asus\\AppData\\Local\\Temp/ipykernel_11200/2691020705.py:4: DeprecationWarning: executable_path has been deprecated, please pass in a Service object\n",
      "  driver = webdriver.Chrome('C:/Users/Asus/Desktop/Intro_to_Data_Science/chromedriver')\n"
     ]
    }
   ],
   "source": [
    "# Main program \n",
    "\n",
    "main_url = 'https://www.rtvslo.si'\n",
    "driver = webdriver.Chrome('C:/Users/Asus/Desktop/Intro_to_Data_Science/chromedriver')  # provide a path to the driver\n",
    "data_uk = search('ukrajina', main_url)\n",
    "data_r = search('rusija', main_url)\n",
    "driver.close()\n",
    "\n",
    "# Saving data to UTF-8 encoded JSON\n",
    "\n",
    "with open(\"data_rusija.json\", \"w\", encoding='utf-8') as jsonfile:\n",
    "    json.dump(data_r, jsonfile, ensure_ascii=False, indent = 2)\n",
    "    \n",
    "with open(\"data_ukrajina.json\", \"w\", encoding='utf-8') as jsonfile:\n",
    "    json.dump(data_uk, jsonfile, ensure_ascii=False, indent = 2)"
   ]
  },
  {
   "cell_type": "markdown",
   "metadata": {
    "colab_type": "text",
    "id": "_4y30zo_c14p"
   },
   "source": [
    "## Basic summarization\n"
   ]
  },
  {
   "cell_type": "code",
   "execution_count": 2,
   "metadata": {
    "colab": {},
    "colab_type": "code",
    "id": "wPjO-LSvc14q"
   },
   "outputs": [],
   "source": [
    "# Reading the data from JSON file format\n",
    "\n",
    "with open('data_rusija.json', encoding='utf-8') as data_file:\n",
    "    data_rus = json.loads(data_file.read())\n",
    "    \n",
    "with open('data_ukrajina.json', encoding='utf-8') as data_file:\n",
    "    data_ukr = json.loads(data_file.read())"
   ]
  },
  {
   "cell_type": "markdown",
   "metadata": {
    "colab_type": "text",
    "id": "d1jQe5ELc14s"
   },
   "source": [
    "### Visualization 1\n",
    "\n",
    "This bar chart shows how many articles referring to 'ukrajina' or 'rusija' were published per month in 2022*. The highest \n",
    "number of news for both keywords was in the month of March, which was expected, considering that it was at the very beginning \n",
    "of the conflict. Already in April, we have a rapid decline in the total number of news connected to these two countries. Until July more articles were about Ukraine, after which the pattern changed, so from July onward Russia was mentioned more often in the news.\n",
    "\n",
    "*NOTE: The search shows a limited number of articles (84 pages in total), so the articles on the RTV SLO website for both search terms are only available from March 2022 onwards.\n"
   ]
  },
  {
   "cell_type": "code",
   "execution_count": 6,
   "metadata": {
    "colab": {},
    "colab_type": "code",
    "id": "LpGWh7BPc14t"
   },
   "outputs": [],
   "source": [
    "# Visualization 1 code\n",
    "\n",
    "# Function nums_of_articles_per_month calculates number of the articles in the months from March till October in 2022\n",
    "# for both search terms 'rusija' and 'ukrajina'. It takes as an input full article database and returns a list of 8 elements, \n",
    "# where every element represents the number of articles in one month from March to October.\n",
    "\n",
    "\n",
    "def num_of_articles_per_month(data):\n",
    "    months = [0, 0, 0, 0, 0, 0, 0, 0]\n",
    "    for i in range(len(data)):\n",
    "        if '2022' in data[i]['datetime_published']:\n",
    "            for j in month_name:\n",
    "                if j in data[i]['datetime_published']:  #checks if month from the month_name is it the datetime_published key in the database\n",
    "                    k = month_name.index(j)\n",
    "                    months[k] += 1\n",
    "    return months  "
   ]
  },
  {
   "cell_type": "code",
   "execution_count": 95,
   "metadata": {},
   "outputs": [
    {
     "data": {
      "image/png": "[encoded data removed]",
      "text/plain": [
       "<Figure size 432x288 with 1 Axes>"
      ]
     },
     "metadata": {},
     "output_type": "display_data"
    }
   ],
   "source": [
    "month_name = ['marec', 'april', 'maj', 'junij', 'julij', 'avgust', 'september', 'oktober']\n",
    "month_rus = num_of_articles_per_month(data_rus)   \n",
    "month_ukr = num_of_articles_per_month(data_ukr)\n",
    "\n",
    "x_axis = np.arange(len(month_name))\n",
    " \n",
    "# creating the bar plot\n",
    "plt.bar(x_axis - 0.2, month_rus, color ='b', width = 0.4, edgecolor = 'black', label = 'Russia')\n",
    "plt.bar(x_axis + 0.2, month_ukr, color ='orange', width = 0.4, edgecolor = 'black', label = 'Ukraine')\n",
    "plt.xlabel(\"Months in 2022\")\n",
    "plt.ylabel(\"No. of articles\")\n",
    "plt.title(\"No. of articles mentioning Russia \\nor Ukraine per month in 2022\")\n",
    "plt.xticks(x_axis, ['Mar','Apr','May','Jun','Jul','Aug','Sep','Oct'])\n",
    "plt.legend()\n",
    "plt.show()"
   ]
  },
  {
   "cell_type": "markdown",
   "metadata": {
    "colab_type": "text",
    "id": "_SVSulJQc14v"
   },
   "source": [
    "### Visualization 2\n",
    "\n",
    "This pie chart shows the percentage of articles out of total number of articles parsed that refer to Ukraine only, Russia only and those that refer to the both keywords (overlapping articles). This chart shows that out of the total number of articles that ae obtained for the search terms 'ukrajina' and 'rusija', as many as 34.9% of the articles overlap. This means that from March 2022 till October 2022, these two terms appear more often together in the news, than each of them individually. The percentage of articles referring only to Ukraine or only to Russia is approximately the same (32.5% and 32.6%, respectively)."
   ]
  },
  {
   "cell_type": "code",
   "execution_count": 91,
   "metadata": {
    "colab": {},
    "colab_type": "code",
    "id": "8GvtoWSDc14v"
   },
   "outputs": [
    {
     "data": {
      "image/png": "[encoded data removed]",
      "text/plain": [
       "<Figure size 432x288 with 1 Axes>"
      ]
     },
     "metadata": {},
     "output_type": "display_data"
    }
   ],
   "source": [
    "# Visualization 2 code\n",
    "\n",
    "overlapping_art = 0\n",
    "overlapping_index = []\n",
    "for i in range(len(data_rus)):\n",
    "    for j in range(len(data_ukr)):\n",
    "        if data_rus[i]['title'] == data_ukr[j]['title']: # compares titles of the articles for search terms 'rusija' and 'ukrajina'\n",
    "            overlapping_index.append(i)                  # makes a list of indexes of overlapping articles \n",
    "            overlapping_art += 1                         # counts articles that appear when searching with both keywords        \n",
    "\n",
    "rus_art = len(data_rus) - overlapping_art                # articles that appear only when searching with the keyword 'rusija'\n",
    "ukr_art = len(data_ukr) - overlapping_art                # articles that appear only when searching with the keyword 'ukrajina'\n",
    "total = overlapping_art + rus_art + ukr_art              # total number of unique articles for keywords 'rusija' and 'ukrajina'\n",
    "\n",
    "data = [rus_art, ukr_art, overlapping_art]\n",
    "labels = ['search term \"rusija\"', 'search term \"ukrajina\"','overlapping articles']\n",
    "plt.pie(data, labels = labels, autopct='%.1f%%')\n",
    "plt.title('Percentage of overlapping and \\nnon-overlapping articles')\n",
    "plt.show()\n"
   ]
  },
  {
   "cell_type": "code",
   "execution_count": 90,
   "metadata": {},
   "outputs": [
    {
     "name": "stdout",
     "output_type": "stream",
     "text": [
      "1472\n"
     ]
    }
   ],
   "source": [
    "# Removing the overlapping articles\n",
    "\n",
    "data_rus_c = data_rus.copy()\n",
    "for index in overlapping_index:\n",
    "    data_rus_c[index] = 0                                # sets all overlapping articles in data_rus_c to 0\n",
    "\n",
    "data_rus_no_overlap = [x for x in data_rus_c if x != 0]  # list of articles for search term 'rusija' excluding overlapping articles\n",
    "\n",
    "no_overlap = data_ukr + data_rus_no_overlap              # merges the list of all articles with search term 'ukrajina' and the\n",
    "print(len(no_overlap))                                   # list of articles with serach term 'rusija' with excluded overlapping articles"
   ]
  },
  {
   "cell_type": "markdown",
   "metadata": {
    "colab_type": "text",
    "id": "po4uso66c14x"
   },
   "source": [
    "### Visualization 3\n",
    "\n",
    "This horizontal bar chart shows in how many articles, out of total 1472 non-overlapping aricles for search terms 'ukrajina' and\n",
    "'rusija' are following political figures mentioned: Putin, Zelenski, Scholz, Biden, Lavrov, Macron, Erdogan, Golob, Pahor, Vučić and Orban. The graph shows that Putin is by far the most \"popular\" in the news, followed by Zelensky, Scholz and Biden.\n"
   ]
  },
  {
   "cell_type": "code",
   "execution_count": 53,
   "metadata": {
    "colab": {},
    "colab_type": "code",
    "id": "9xKMH6rjc14y"
   },
   "outputs": [
    {
     "data": {
      "image/png": "[encoded data removed]",
      "text/plain": [
       "<Figure size 432x288 with 1 Axes>"
      ]
     },
     "metadata": {},
     "output_type": "display_data"
    }
   ],
   "source": [
    "# Visualization 3 code\n",
    "\n",
    "people = ['Orban','Vučić','Pahor','Golob','Erdogan','Macron','Lavrov','Biden','Scholz','Zelenski','Putin'] \n",
    "words_num = [0, 0, 0, 0, 0, 0, 0, 0, 0, 0, 0]\n",
    "    \n",
    "for i in range(0,len(no_overlap)):\n",
    "    for j in people:\n",
    "        if (j in no_overlap[i]['content']) == True:      # checks if the word from the people list is in the article, and if it is:\n",
    "            k = people.index(j)                          # finds index of that word in the people list\n",
    "            words_num[k] += 1                            # adds 1 to the same index in words_num\n",
    "\n",
    "plt.style.use('ggplot')\n",
    "plt.barh(people, words_num)\n",
    "plt.title('Number of articles mentioning political figures')\n",
    "plt.ylabel('Political figure')\n",
    "plt.xlabel('No. of articles')\n",
    "plt.show()"
   ]
  },
  {
   "cell_type": "markdown",
   "metadata": {
    "colab_type": "text",
    "id": "Ibr8rBN_c14z"
   },
   "source": [
    "### Visualization 4\n",
    "\n",
    "This bar plot shows the number of articles with and without video, and also, average number of comments and average length in words for these two classes. As expected, the majority of articles on the RTV Slo website do not have video, however, it's visible from this plot that articles with video have, on average, a lot more comments. Articles with and without video have approximately the same average length in words, a little over 500 words."
   ]
  },
  {
   "cell_type": "code",
   "execution_count": 128,
   "metadata": {},
   "outputs": [
    {
     "data": {
      "image/png": "[encoded data removed]",
      "text/plain": [
       "<Figure size 432x288 with 1 Axes>"
      ]
     },
     "metadata": {},
     "output_type": "display_data"
    }
   ],
   "source": [
    "# Visualization 4 code\n",
    "\n",
    "total_words = []\n",
    "comments = []\n",
    "total_words_v = []\n",
    "comments_v = []\n",
    "\n",
    "no_video = 0\n",
    "video = 0\n",
    "sum_len = 0\n",
    "sum_len_v = 0\n",
    "sum_comm = 0\n",
    "sum_comm_v = 0\n",
    "\n",
    "for i in range (0, len(no_overlap)):\n",
    "    if no_overlap[i]['video(yes/no)'] == 'no':\n",
    "        no_video += 1                                        # counts articles without video\n",
    "        try:\n",
    "            text = no_overlap[i]['content']\n",
    "            l = len(text.split(' '))                         # splits text to words and finds the number of words in the article\n",
    "            sum_len += l                                     # sums all lengths of articles without video\n",
    "            total_words.append(l)                             \n",
    "            comments.append(no_overlap[i]['comments_num'])\n",
    "            sum_comm += no_overlap[i]['comments_num']        # sums all comments on articles without video\n",
    "        except AttributeError:\n",
    "            continue\n",
    "    else:\n",
    "        video += 1                                           # counts articles with video\n",
    "        try:\n",
    "            text_v = no_overlap[i]['content']\n",
    "            l_v = len(text_v.split(' '))                     # splits text to words and finds the number of words in the article\n",
    "            total_words_v.append(l)                             \n",
    "            sum_len_v += l                                   # sums all lengths of articles without video\n",
    "            comments_v.append(no_overlap[i]['comments_num']) # sums all comments on articles without video\n",
    "            sum_comm_v += no_overlap[i]['comments_num'] \n",
    "        except AttributeError:\n",
    "            continue\n",
    "\n",
    "\n",
    "av_comm = [sum_comm/ no_video, sum_comm_v / video]            # average number of comments\n",
    "av_len = [sum_len / no_video, sum_len_v/ video]               # average length in words\n",
    "articles = [no_video, video]                                  # number of articles\n",
    "\n",
    "\n",
    "# plotting bar chart\n",
    "x_labels = ['without video', 'with video']\n",
    "x_axis = np.arange(len(x_labels))\n",
    "width = 0.2\n",
    "\n",
    "bar1 = plt.bar(x_axis, articles, width, color='r')\n",
    "bar2 = plt.bar(x_axis + width, av_comm, width, color = 'b')\n",
    "bar3 = plt.bar(x_axis + width*2, av_len, width, color='orange')\n",
    "\n",
    "plt.title(\"Average no. of comments and words \\nan articles with and without video\")\n",
    "plt.xticks(x_axis + width, x_labels)\n",
    "plt.legend( (bar1, bar2, bar3), ('No. of articles', 'Average no. of comments', 'Average no. of words') )\n",
    "plt.show()"
   ]
  },
  {
   "cell_type": "markdown",
   "metadata": {
    "colab_type": "text",
    "id": "riFWfhi8c142"
   },
   "source": [
    "### Visualization 5\n",
    "\n",
    "This bar plot shows the 18 most frequently used tags and the average number of comments on news with these tags.\n",
    "It shows that readers on RTV Slo most often comment on the news that mention the Ukrainian and Russian president and military operations in Ukraine. They are less likely to comment on news that refer to gas, NATO, wheat, EU, Slovenia and sanctions, and the least likely to comment on news related to refugees and help.\n"
   ]
  },
  {
   "cell_type": "code",
   "execution_count": 92,
   "metadata": {
    "scrolled": true
   },
   "outputs": [
    {
     "data": {
      "image/png": "[encoded data removed]",
      "text/plain": [
       "<Figure size 432x288 with 1 Axes>"
      ]
     },
     "metadata": {},
     "output_type": "display_data"
    }
   ],
   "source": [
    "# Visualization 5 code\n",
    "\n",
    "all_tags = []\n",
    "\n",
    "# finding all tags\n",
    "for i in range (0, len(no_overlap)):\n",
    "    for t in no_overlap[i]['tags']:\n",
    "        if t.lower() not in all_tags:\n",
    "            all_tags.append(t.lower())\n",
    "\n",
    "# counting occurance of each tag\n",
    "zero_tags = [0]*len(all_tags)\n",
    "for j in all_tags:\n",
    "    for i in range (0, len(no_overlap)):\n",
    "        if j in [x.lower() for x in no_overlap[i]['tags']]:\n",
    "            tag_index = all_tags.index(j)\n",
    "            zero_tags[tag_index] += 1\n",
    "            \n",
    "# finding total number of comments on all articles with a tag\n",
    "zero_comm = [0]*len(all_tags)\n",
    "for j in all_tags:\n",
    "    for i in range (0, len(no_overlap)):\n",
    "        if j in [x.lower() for x in no_overlap[i]['tags']]:\n",
    "            tag_index = all_tags.index(j)\n",
    "            zero_comm[tag_index] += no_overlap[i]['comments_num']\n",
    "\n",
    "# finding average number  \n",
    "average_comm = []\n",
    "for x in range(0, len(zero_comm)):\n",
    "    average_comm.append(zero_comm[x]/zero_tags[x])\n",
    "\n",
    "# finding tags that occur more than 20 times\n",
    "tags_comms = list(zip(all_tags, zero_tags, average_comm))\n",
    "x = []\n",
    "y = []\n",
    "for k in range(len(tags_comms)):\n",
    "    if tags_comms[k][1]>25:\n",
    "        x.append(tags_comms[k][2])\n",
    "        y.append(tags_comms[k][0])\n",
    "        \n",
    "# plotting\n",
    "plt.style.use('ggplot')\n",
    "plt.barh(y,x)\n",
    "plt.title('Average no. of comments on articles \\nwith most fruequently used tags')\n",
    "plt.ylabel('Tag')\n",
    "plt.xlabel('Average no. of comments')\n",
    "plt.show()"
   ]
  },
  {
   "cell_type": "code",
   "execution_count": null,
   "metadata": {},
   "outputs": [],
   "source": []
  }
 ],
 "metadata": {
  "colab": {
   "name": "Web_Scraping.ipynb",
   "provenance": []
  },
  "kernelspec": {
   "display_name": "Python 3 (ipykernel)",
   "language": "python",
   "name": "python3"
  },
  "language_info": {
   "codemirror_mode": {
    "name": "ipython",
    "version": 3
   },
   "file_extension": ".py",
   "mimetype": "text/x-python",
   "name": "python",
   "nbconvert_exporter": "python",
   "pygments_lexer": "ipython3",
   "version": "3.9.16"
  },
  "vscode": {
   "interpreter": {
    "hash": "0f014f56bb72be1b028047a194cebb828d8159a661a0e634698cb1483f661b6e"
   }
  }
 },
 "nbformat": 4,
 "nbformat_minor": 1
}
