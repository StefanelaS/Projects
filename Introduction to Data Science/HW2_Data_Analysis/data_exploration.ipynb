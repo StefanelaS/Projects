{
 "cells": [
  {
   "cell_type": "markdown",
   "metadata": {
    "colab_type": "text",
    "id": "Gbgp0NXdc137"
   },
   "source": [
    "# Project 2: Initial exploration and data visualization\n",
    "*University of Ljubljana, Faculty for computer and information science* <br />\n",
    "*Course: Introduction to data science, 2022-2023*"
   ]
  },
  {
   "cell_type": "markdown",
   "metadata": {},
   "source": [
    "Stefanela, Stevanović"
   ]
  },
  {
   "cell_type": "markdown",
   "metadata": {
    "colab_type": "text",
    "id": "vmDFHSpSc14M"
   },
   "source": [
    "## Environment setup"
   ]
  },
  {
   "cell_type": "markdown",
   "metadata": {
    "colab_type": "text",
    "id": "U6cCtBRGc14R"
   },
   "source": [
    "- Libraries needed to run this notebook are: pandas, numpy and matplotlib.\n",
    "\n",
    "- Run the following commands to set up the environment:\n",
    " \n",
    "> conda create -n project_2 python=3.9 pandas numpy matplotlib\n",
    "\n",
    "> conda activate project_2\n",
    "\n",
    "- Or use project2_env.yml file from the same GitHub repository to setup the enviroment with command:\n",
    "\n",
    "> conda create -f project2_env.yml`"
   ]
  },
  {
   "cell_type": "code",
   "execution_count": 2,
   "metadata": {
    "colab": {},
    "colab_type": "code",
    "id": "X3ooqpJOc14V"
   },
   "outputs": [],
   "source": [
    "from datetime import datetime\n",
    "import matplotlib\n",
    "import matplotlib.pyplot as plt\n",
    "import numpy as np\n",
    "import pandas as pd"
   ]
  },
  {
   "cell_type": "markdown",
   "metadata": {
    "colab_type": "text",
    "id": "aIXBDoF1c14Z"
   },
   "source": [
    "# Exploration and data visualization"
   ]
  },
  {
   "cell_type": "markdown",
   "metadata": {},
   "source": [
    "## Loading and preparing the data"
   ]
  },
  {
   "cell_type": "code",
   "execution_count": 2,
   "metadata": {},
   "outputs": [
    {
     "data": {
      "text/html": [
       "<div>\n",
       "<style scoped>\n",
       "    .dataframe tbody tr th:only-of-type {\n",
       "        vertical-align: middle;\n",
       "    }\n",
       "\n",
       "    .dataframe tbody tr th {\n",
       "        vertical-align: top;\n",
       "    }\n",
       "\n",
       "    .dataframe thead th {\n",
       "        text-align: right;\n",
       "    }\n",
       "</style>\n",
       "<table border=\"1\" class=\"dataframe\">\n",
       "  <thead>\n",
       "    <tr style=\"text-align: right;\">\n",
       "      <th></th>\n",
       "      <th>claim_total_value</th>\n",
       "      <th>date_closed</th>\n",
       "      <th>date_open</th>\n",
       "      <th>event_date</th>\n",
       "      <th>policy_id</th>\n",
       "      <th>customer_id</th>\n",
       "    </tr>\n",
       "  </thead>\n",
       "  <tbody>\n",
       "    <tr>\n",
       "      <th>0</th>\n",
       "      <td>72802</td>\n",
       "      <td>2018-12-20</td>\n",
       "      <td>2003-02-10</td>\n",
       "      <td>2003-01-24</td>\n",
       "      <td>10937855.0</td>\n",
       "      <td>1554606.0</td>\n",
       "    </tr>\n",
       "    <tr>\n",
       "      <th>1</th>\n",
       "      <td>1000810</td>\n",
       "      <td>2020-01-28</td>\n",
       "      <td>2002-12-31</td>\n",
       "      <td>2002-12-25</td>\n",
       "      <td>5793869.0</td>\n",
       "      <td>623343.0</td>\n",
       "    </tr>\n",
       "    <tr>\n",
       "      <th>2</th>\n",
       "      <td>78</td>\n",
       "      <td>2020-10-07</td>\n",
       "      <td>2018-08-06</td>\n",
       "      <td>2002-11-09</td>\n",
       "      <td>5251602.0</td>\n",
       "      <td>526177.0</td>\n",
       "    </tr>\n",
       "    <tr>\n",
       "      <th>3</th>\n",
       "      <td>450</td>\n",
       "      <td>NaN</td>\n",
       "      <td>2020-08-21</td>\n",
       "      <td>2020-01-12</td>\n",
       "      <td>10275807.0</td>\n",
       "      <td>1435549.0</td>\n",
       "    </tr>\n",
       "    <tr>\n",
       "      <th>4</th>\n",
       "      <td>3392</td>\n",
       "      <td>2019-04-02</td>\n",
       "      <td>2004-07-29</td>\n",
       "      <td>2004-07-01</td>\n",
       "      <td>10015834.0</td>\n",
       "      <td>1389780.0</td>\n",
       "    </tr>\n",
       "    <tr>\n",
       "      <th>...</th>\n",
       "      <td>...</td>\n",
       "      <td>...</td>\n",
       "      <td>...</td>\n",
       "      <td>...</td>\n",
       "      <td>...</td>\n",
       "      <td>...</td>\n",
       "    </tr>\n",
       "    <tr>\n",
       "      <th>683627</th>\n",
       "      <td>242</td>\n",
       "      <td>2020-11-04</td>\n",
       "      <td>2020-10-21</td>\n",
       "      <td>2019-07-16</td>\n",
       "      <td>14378432.0</td>\n",
       "      <td>2171276.0</td>\n",
       "    </tr>\n",
       "    <tr>\n",
       "      <th>683628</th>\n",
       "      <td>1421</td>\n",
       "      <td>2020-10-30</td>\n",
       "      <td>2020-09-11</td>\n",
       "      <td>2020-08-20</td>\n",
       "      <td>14378432.0</td>\n",
       "      <td>2171276.0</td>\n",
       "    </tr>\n",
       "    <tr>\n",
       "      <th>683629</th>\n",
       "      <td>1861</td>\n",
       "      <td>2020-07-02</td>\n",
       "      <td>2020-05-22</td>\n",
       "      <td>2020-05-21</td>\n",
       "      <td>12540784.0</td>\n",
       "      <td>1840848.0</td>\n",
       "    </tr>\n",
       "    <tr>\n",
       "      <th>683630</th>\n",
       "      <td>1761</td>\n",
       "      <td>2020-11-30</td>\n",
       "      <td>2020-07-14</td>\n",
       "      <td>2020-07-06</td>\n",
       "      <td>7457610.0</td>\n",
       "      <td>927297.0</td>\n",
       "    </tr>\n",
       "    <tr>\n",
       "      <th>683631</th>\n",
       "      <td>270</td>\n",
       "      <td>2020-09-18</td>\n",
       "      <td>2020-09-14</td>\n",
       "      <td>2020-08-27</td>\n",
       "      <td>10394462.0</td>\n",
       "      <td>1456758.0</td>\n",
       "    </tr>\n",
       "  </tbody>\n",
       "</table>\n",
       "<p>683632 rows × 6 columns</p>\n",
       "</div>"
      ],
      "text/plain": [
       "        claim_total_value date_closed   date_open  event_date   policy_id  \\\n",
       "0                   72802  2018-12-20  2003-02-10  2003-01-24  10937855.0   \n",
       "1                 1000810  2020-01-28  2002-12-31  2002-12-25   5793869.0   \n",
       "2                      78  2020-10-07  2018-08-06  2002-11-09   5251602.0   \n",
       "3                     450         NaN  2020-08-21  2020-01-12  10275807.0   \n",
       "4                    3392  2019-04-02  2004-07-29  2004-07-01  10015834.0   \n",
       "...                   ...         ...         ...         ...         ...   \n",
       "683627                242  2020-11-04  2020-10-21  2019-07-16  14378432.0   \n",
       "683628               1421  2020-10-30  2020-09-11  2020-08-20  14378432.0   \n",
       "683629               1861  2020-07-02  2020-05-22  2020-05-21  12540784.0   \n",
       "683630               1761  2020-11-30  2020-07-14  2020-07-06   7457610.0   \n",
       "683631                270  2020-09-18  2020-09-14  2020-08-27  10394462.0   \n",
       "\n",
       "        customer_id  \n",
       "0         1554606.0  \n",
       "1          623343.0  \n",
       "2          526177.0  \n",
       "3         1435549.0  \n",
       "4         1389780.0  \n",
       "...             ...  \n",
       "683627    2171276.0  \n",
       "683628    2171276.0  \n",
       "683629    1840848.0  \n",
       "683630     927297.0  \n",
       "683631    1456758.0  \n",
       "\n",
       "[683632 rows x 6 columns]"
      ]
     },
     "execution_count": 2,
     "metadata": {},
     "output_type": "execute_result"
    }
   ],
   "source": [
    "claim_data = pd.read_csv('claim_data.csv')\n",
    "\n",
    "# removing rows without policy_id information and redundant columns\n",
    "claim_data.dropna(subset = ['policy_id'], inplace = True)\n",
    "claim_data.drop(['claim_expense','claim_paid','claim_recovered','claim_reserved','claim_status','claim_id'], inplace = True, axis = 1)\n",
    "claim_data.reset_index(drop = True, inplace = True)\n",
    "\n",
    "# removing data from 90s\n",
    "for i in range(0, len(claim_data['date_open'])):\n",
    "    if claim_data['date_open'][i][1] == '9':\n",
    "        claim_data.drop([i], inplace = True, axis = 0)\n",
    "\n",
    "claim_data.reset_index(drop = True, inplace = True)\n",
    "claim_data"
   ]
  },
  {
   "cell_type": "code",
   "execution_count": 4,
   "metadata": {},
   "outputs": [
    {
     "ename": "FileNotFoundError",
     "evalue": "[Errno 2] No such file or directory: 'customer_data.csv'",
     "output_type": "error",
     "traceback": [
      "\u001b[1;31m---------------------------------------------------------------------------\u001b[0m",
      "\u001b[1;31mFileNotFoundError\u001b[0m                         Traceback (most recent call last)",
      "\u001b[1;32m~\\AppData\\Local\\Temp/ipykernel_7728/3929779285.py\u001b[0m in \u001b[0;36m<module>\u001b[1;34m\u001b[0m\n\u001b[1;32m----> 1\u001b[1;33m \u001b[0mcustomer_data\u001b[0m \u001b[1;33m=\u001b[0m \u001b[0mpd\u001b[0m\u001b[1;33m.\u001b[0m\u001b[0mread_csv\u001b[0m\u001b[1;33m(\u001b[0m\u001b[1;34m'customer_data.csv'\u001b[0m\u001b[1;33m)\u001b[0m\u001b[1;33m\u001b[0m\u001b[1;33m\u001b[0m\u001b[0m\n\u001b[0m\u001b[0;32m      2\u001b[0m \u001b[1;33m\u001b[0m\u001b[0m\n\u001b[0;32m      3\u001b[0m \u001b[1;31m# removing redundant columns\u001b[0m\u001b[1;33m\u001b[0m\u001b[1;33m\u001b[0m\u001b[0m\n\u001b[0;32m      4\u001b[0m \u001b[0mcustomer_data\u001b[0m\u001b[1;33m.\u001b[0m\u001b[0mdrop\u001b[0m\u001b[1;33m(\u001b[0m\u001b[1;33m[\u001b[0m\u001b[1;34m'household_id'\u001b[0m\u001b[1;33m,\u001b[0m \u001b[1;34m'household_role'\u001b[0m\u001b[1;33m,\u001b[0m \u001b[1;34m'date_of_birth'\u001b[0m\u001b[1;33m]\u001b[0m\u001b[1;33m,\u001b[0m \u001b[0minplace\u001b[0m \u001b[1;33m=\u001b[0m \u001b[1;32mTrue\u001b[0m\u001b[1;33m,\u001b[0m \u001b[0maxis\u001b[0m \u001b[1;33m=\u001b[0m \u001b[1;36m1\u001b[0m\u001b[1;33m)\u001b[0m\u001b[1;33m\u001b[0m\u001b[1;33m\u001b[0m\u001b[0m\n\u001b[0;32m      5\u001b[0m \u001b[1;33m\u001b[0m\u001b[0m\n",
      "\u001b[1;32m~\\anaconda3\\lib\\site-packages\\pandas\\util\\_decorators.py\u001b[0m in \u001b[0;36mwrapper\u001b[1;34m(*args, **kwargs)\u001b[0m\n\u001b[0;32m    309\u001b[0m                     \u001b[0mstacklevel\u001b[0m\u001b[1;33m=\u001b[0m\u001b[0mstacklevel\u001b[0m\u001b[1;33m,\u001b[0m\u001b[1;33m\u001b[0m\u001b[1;33m\u001b[0m\u001b[0m\n\u001b[0;32m    310\u001b[0m                 )\n\u001b[1;32m--> 311\u001b[1;33m             \u001b[1;32mreturn\u001b[0m \u001b[0mfunc\u001b[0m\u001b[1;33m(\u001b[0m\u001b[1;33m*\u001b[0m\u001b[0margs\u001b[0m\u001b[1;33m,\u001b[0m \u001b[1;33m**\u001b[0m\u001b[0mkwargs\u001b[0m\u001b[1;33m)\u001b[0m\u001b[1;33m\u001b[0m\u001b[1;33m\u001b[0m\u001b[0m\n\u001b[0m\u001b[0;32m    312\u001b[0m \u001b[1;33m\u001b[0m\u001b[0m\n\u001b[0;32m    313\u001b[0m         \u001b[1;32mreturn\u001b[0m \u001b[0mwrapper\u001b[0m\u001b[1;33m\u001b[0m\u001b[1;33m\u001b[0m\u001b[0m\n",
      "\u001b[1;32m~\\anaconda3\\lib\\site-packages\\pandas\\io\\parsers\\readers.py\u001b[0m in \u001b[0;36mread_csv\u001b[1;34m(filepath_or_buffer, sep, delimiter, header, names, index_col, usecols, squeeze, prefix, mangle_dupe_cols, dtype, engine, converters, true_values, false_values, skipinitialspace, skiprows, skipfooter, nrows, na_values, keep_default_na, na_filter, verbose, skip_blank_lines, parse_dates, infer_datetime_format, keep_date_col, date_parser, dayfirst, cache_dates, iterator, chunksize, compression, thousands, decimal, lineterminator, quotechar, quoting, doublequote, escapechar, comment, encoding, encoding_errors, dialect, error_bad_lines, warn_bad_lines, on_bad_lines, delim_whitespace, low_memory, memory_map, float_precision, storage_options)\u001b[0m\n\u001b[0;32m    584\u001b[0m     \u001b[0mkwds\u001b[0m\u001b[1;33m.\u001b[0m\u001b[0mupdate\u001b[0m\u001b[1;33m(\u001b[0m\u001b[0mkwds_defaults\u001b[0m\u001b[1;33m)\u001b[0m\u001b[1;33m\u001b[0m\u001b[1;33m\u001b[0m\u001b[0m\n\u001b[0;32m    585\u001b[0m \u001b[1;33m\u001b[0m\u001b[0m\n\u001b[1;32m--> 586\u001b[1;33m     \u001b[1;32mreturn\u001b[0m \u001b[0m_read\u001b[0m\u001b[1;33m(\u001b[0m\u001b[0mfilepath_or_buffer\u001b[0m\u001b[1;33m,\u001b[0m \u001b[0mkwds\u001b[0m\u001b[1;33m)\u001b[0m\u001b[1;33m\u001b[0m\u001b[1;33m\u001b[0m\u001b[0m\n\u001b[0m\u001b[0;32m    587\u001b[0m \u001b[1;33m\u001b[0m\u001b[0m\n\u001b[0;32m    588\u001b[0m \u001b[1;33m\u001b[0m\u001b[0m\n",
      "\u001b[1;32m~\\anaconda3\\lib\\site-packages\\pandas\\io\\parsers\\readers.py\u001b[0m in \u001b[0;36m_read\u001b[1;34m(filepath_or_buffer, kwds)\u001b[0m\n\u001b[0;32m    480\u001b[0m \u001b[1;33m\u001b[0m\u001b[0m\n\u001b[0;32m    481\u001b[0m     \u001b[1;31m# Create the parser.\u001b[0m\u001b[1;33m\u001b[0m\u001b[1;33m\u001b[0m\u001b[0m\n\u001b[1;32m--> 482\u001b[1;33m     \u001b[0mparser\u001b[0m \u001b[1;33m=\u001b[0m \u001b[0mTextFileReader\u001b[0m\u001b[1;33m(\u001b[0m\u001b[0mfilepath_or_buffer\u001b[0m\u001b[1;33m,\u001b[0m \u001b[1;33m**\u001b[0m\u001b[0mkwds\u001b[0m\u001b[1;33m)\u001b[0m\u001b[1;33m\u001b[0m\u001b[1;33m\u001b[0m\u001b[0m\n\u001b[0m\u001b[0;32m    483\u001b[0m \u001b[1;33m\u001b[0m\u001b[0m\n\u001b[0;32m    484\u001b[0m     \u001b[1;32mif\u001b[0m \u001b[0mchunksize\u001b[0m \u001b[1;32mor\u001b[0m \u001b[0miterator\u001b[0m\u001b[1;33m:\u001b[0m\u001b[1;33m\u001b[0m\u001b[1;33m\u001b[0m\u001b[0m\n",
      "\u001b[1;32m~\\anaconda3\\lib\\site-packages\\pandas\\io\\parsers\\readers.py\u001b[0m in \u001b[0;36m__init__\u001b[1;34m(self, f, engine, **kwds)\u001b[0m\n\u001b[0;32m    809\u001b[0m             \u001b[0mself\u001b[0m\u001b[1;33m.\u001b[0m\u001b[0moptions\u001b[0m\u001b[1;33m[\u001b[0m\u001b[1;34m\"has_index_names\"\u001b[0m\u001b[1;33m]\u001b[0m \u001b[1;33m=\u001b[0m \u001b[0mkwds\u001b[0m\u001b[1;33m[\u001b[0m\u001b[1;34m\"has_index_names\"\u001b[0m\u001b[1;33m]\u001b[0m\u001b[1;33m\u001b[0m\u001b[1;33m\u001b[0m\u001b[0m\n\u001b[0;32m    810\u001b[0m \u001b[1;33m\u001b[0m\u001b[0m\n\u001b[1;32m--> 811\u001b[1;33m         \u001b[0mself\u001b[0m\u001b[1;33m.\u001b[0m\u001b[0m_engine\u001b[0m \u001b[1;33m=\u001b[0m \u001b[0mself\u001b[0m\u001b[1;33m.\u001b[0m\u001b[0m_make_engine\u001b[0m\u001b[1;33m(\u001b[0m\u001b[0mself\u001b[0m\u001b[1;33m.\u001b[0m\u001b[0mengine\u001b[0m\u001b[1;33m)\u001b[0m\u001b[1;33m\u001b[0m\u001b[1;33m\u001b[0m\u001b[0m\n\u001b[0m\u001b[0;32m    812\u001b[0m \u001b[1;33m\u001b[0m\u001b[0m\n\u001b[0;32m    813\u001b[0m     \u001b[1;32mdef\u001b[0m \u001b[0mclose\u001b[0m\u001b[1;33m(\u001b[0m\u001b[0mself\u001b[0m\u001b[1;33m)\u001b[0m\u001b[1;33m:\u001b[0m\u001b[1;33m\u001b[0m\u001b[1;33m\u001b[0m\u001b[0m\n",
      "\u001b[1;32m~\\anaconda3\\lib\\site-packages\\pandas\\io\\parsers\\readers.py\u001b[0m in \u001b[0;36m_make_engine\u001b[1;34m(self, engine)\u001b[0m\n\u001b[0;32m   1038\u001b[0m             )\n\u001b[0;32m   1039\u001b[0m         \u001b[1;31m# error: Too many arguments for \"ParserBase\"\u001b[0m\u001b[1;33m\u001b[0m\u001b[1;33m\u001b[0m\u001b[0m\n\u001b[1;32m-> 1040\u001b[1;33m         \u001b[1;32mreturn\u001b[0m \u001b[0mmapping\u001b[0m\u001b[1;33m[\u001b[0m\u001b[0mengine\u001b[0m\u001b[1;33m]\u001b[0m\u001b[1;33m(\u001b[0m\u001b[0mself\u001b[0m\u001b[1;33m.\u001b[0m\u001b[0mf\u001b[0m\u001b[1;33m,\u001b[0m \u001b[1;33m**\u001b[0m\u001b[0mself\u001b[0m\u001b[1;33m.\u001b[0m\u001b[0moptions\u001b[0m\u001b[1;33m)\u001b[0m  \u001b[1;31m# type: ignore[call-arg]\u001b[0m\u001b[1;33m\u001b[0m\u001b[1;33m\u001b[0m\u001b[0m\n\u001b[0m\u001b[0;32m   1041\u001b[0m \u001b[1;33m\u001b[0m\u001b[0m\n\u001b[0;32m   1042\u001b[0m     \u001b[1;32mdef\u001b[0m \u001b[0m_failover_to_python\u001b[0m\u001b[1;33m(\u001b[0m\u001b[0mself\u001b[0m\u001b[1;33m)\u001b[0m\u001b[1;33m:\u001b[0m\u001b[1;33m\u001b[0m\u001b[1;33m\u001b[0m\u001b[0m\n",
      "\u001b[1;32m~\\anaconda3\\lib\\site-packages\\pandas\\io\\parsers\\c_parser_wrapper.py\u001b[0m in \u001b[0;36m__init__\u001b[1;34m(self, src, **kwds)\u001b[0m\n\u001b[0;32m     49\u001b[0m \u001b[1;33m\u001b[0m\u001b[0m\n\u001b[0;32m     50\u001b[0m         \u001b[1;31m# open handles\u001b[0m\u001b[1;33m\u001b[0m\u001b[1;33m\u001b[0m\u001b[0m\n\u001b[1;32m---> 51\u001b[1;33m         \u001b[0mself\u001b[0m\u001b[1;33m.\u001b[0m\u001b[0m_open_handles\u001b[0m\u001b[1;33m(\u001b[0m\u001b[0msrc\u001b[0m\u001b[1;33m,\u001b[0m \u001b[0mkwds\u001b[0m\u001b[1;33m)\u001b[0m\u001b[1;33m\u001b[0m\u001b[1;33m\u001b[0m\u001b[0m\n\u001b[0m\u001b[0;32m     52\u001b[0m         \u001b[1;32massert\u001b[0m \u001b[0mself\u001b[0m\u001b[1;33m.\u001b[0m\u001b[0mhandles\u001b[0m \u001b[1;32mis\u001b[0m \u001b[1;32mnot\u001b[0m \u001b[1;32mNone\u001b[0m\u001b[1;33m\u001b[0m\u001b[1;33m\u001b[0m\u001b[0m\n\u001b[0;32m     53\u001b[0m \u001b[1;33m\u001b[0m\u001b[0m\n",
      "\u001b[1;32m~\\anaconda3\\lib\\site-packages\\pandas\\io\\parsers\\base_parser.py\u001b[0m in \u001b[0;36m_open_handles\u001b[1;34m(self, src, kwds)\u001b[0m\n\u001b[0;32m    220\u001b[0m         \u001b[0mLet\u001b[0m \u001b[0mthe\u001b[0m \u001b[0mreaders\u001b[0m \u001b[0mopen\u001b[0m \u001b[0mIOHandles\u001b[0m \u001b[0mafter\u001b[0m \u001b[0mthey\u001b[0m \u001b[0mare\u001b[0m \u001b[0mdone\u001b[0m \u001b[1;32mwith\u001b[0m \u001b[0mtheir\u001b[0m \u001b[0mpotential\u001b[0m \u001b[0mraises\u001b[0m\u001b[1;33m.\u001b[0m\u001b[1;33m\u001b[0m\u001b[1;33m\u001b[0m\u001b[0m\n\u001b[0;32m    221\u001b[0m         \"\"\"\n\u001b[1;32m--> 222\u001b[1;33m         self.handles = get_handle(\n\u001b[0m\u001b[0;32m    223\u001b[0m             \u001b[0msrc\u001b[0m\u001b[1;33m,\u001b[0m\u001b[1;33m\u001b[0m\u001b[1;33m\u001b[0m\u001b[0m\n\u001b[0;32m    224\u001b[0m             \u001b[1;34m\"r\"\u001b[0m\u001b[1;33m,\u001b[0m\u001b[1;33m\u001b[0m\u001b[1;33m\u001b[0m\u001b[0m\n",
      "\u001b[1;32m~\\anaconda3\\lib\\site-packages\\pandas\\io\\common.py\u001b[0m in \u001b[0;36mget_handle\u001b[1;34m(path_or_buf, mode, encoding, compression, memory_map, is_text, errors, storage_options)\u001b[0m\n\u001b[0;32m    700\u001b[0m         \u001b[1;32mif\u001b[0m \u001b[0mioargs\u001b[0m\u001b[1;33m.\u001b[0m\u001b[0mencoding\u001b[0m \u001b[1;32mand\u001b[0m \u001b[1;34m\"b\"\u001b[0m \u001b[1;32mnot\u001b[0m \u001b[1;32min\u001b[0m \u001b[0mioargs\u001b[0m\u001b[1;33m.\u001b[0m\u001b[0mmode\u001b[0m\u001b[1;33m:\u001b[0m\u001b[1;33m\u001b[0m\u001b[1;33m\u001b[0m\u001b[0m\n\u001b[0;32m    701\u001b[0m             \u001b[1;31m# Encoding\u001b[0m\u001b[1;33m\u001b[0m\u001b[1;33m\u001b[0m\u001b[0m\n\u001b[1;32m--> 702\u001b[1;33m             handle = open(\n\u001b[0m\u001b[0;32m    703\u001b[0m                 \u001b[0mhandle\u001b[0m\u001b[1;33m,\u001b[0m\u001b[1;33m\u001b[0m\u001b[1;33m\u001b[0m\u001b[0m\n\u001b[0;32m    704\u001b[0m                 \u001b[0mioargs\u001b[0m\u001b[1;33m.\u001b[0m\u001b[0mmode\u001b[0m\u001b[1;33m,\u001b[0m\u001b[1;33m\u001b[0m\u001b[1;33m\u001b[0m\u001b[0m\n",
      "\u001b[1;31mFileNotFoundError\u001b[0m: [Errno 2] No such file or directory: 'customer_data.csv'"
     ]
    }
   ],
   "source": [
    "customer_data = pd.read_csv('customer_data.csv')\n",
    "\n",
    "# removing redundant columns\n",
    "customer_data.drop(['household_id', 'household_role', 'date_of_birth'], inplace = True, axis = 1)\n",
    "\n",
    "customer_data"
   ]
  },
  {
   "cell_type": "code",
   "execution_count": 4,
   "metadata": {},
   "outputs": [
    {
     "name": "stderr",
     "output_type": "stream",
     "text": [
      "C:\\Users\\Asus\\anaconda3\\lib\\site-packages\\IPython\\core\\interactiveshell.py:3444: DtypeWarning: Columns (1,2) have mixed types.Specify dtype option on import or set low_memory=False.\n",
      "  exec(code_obj, self.user_global_ns, self.user_ns)\n"
     ]
    },
    {
     "data": {
      "text/html": [
       "<div>\n",
       "<style scoped>\n",
       "    .dataframe tbody tr th:only-of-type {\n",
       "        vertical-align: middle;\n",
       "    }\n",
       "\n",
       "    .dataframe tbody tr th {\n",
       "        vertical-align: top;\n",
       "    }\n",
       "\n",
       "    .dataframe thead th {\n",
       "        text-align: right;\n",
       "    }\n",
       "</style>\n",
       "<table border=\"1\" class=\"dataframe\">\n",
       "  <thead>\n",
       "    <tr style=\"text-align: right;\">\n",
       "      <th></th>\n",
       "      <th>underwriting_date</th>\n",
       "      <th>policy_id</th>\n",
       "      <th>customer_id</th>\n",
       "      <th>product_group</th>\n",
       "    </tr>\n",
       "  </thead>\n",
       "  <tbody>\n",
       "    <tr>\n",
       "      <th>0</th>\n",
       "      <td>NaN</td>\n",
       "      <td>0</td>\n",
       "      <td>697.0</td>\n",
       "      <td>NaN</td>\n",
       "    </tr>\n",
       "    <tr>\n",
       "      <th>1</th>\n",
       "      <td>NaN</td>\n",
       "      <td>1</td>\n",
       "      <td>1499.0</td>\n",
       "      <td>0.0</td>\n",
       "    </tr>\n",
       "    <tr>\n",
       "      <th>2</th>\n",
       "      <td>NaN</td>\n",
       "      <td>2</td>\n",
       "      <td>2710.0</td>\n",
       "      <td>NaN</td>\n",
       "    </tr>\n",
       "    <tr>\n",
       "      <th>3</th>\n",
       "      <td>NaN</td>\n",
       "      <td>3</td>\n",
       "      <td>4483.0</td>\n",
       "      <td>NaN</td>\n",
       "    </tr>\n",
       "    <tr>\n",
       "      <th>4</th>\n",
       "      <td>NaN</td>\n",
       "      <td>4</td>\n",
       "      <td>7920.0</td>\n",
       "      <td>NaN</td>\n",
       "    </tr>\n",
       "    <tr>\n",
       "      <th>...</th>\n",
       "      <td>...</td>\n",
       "      <td>...</td>\n",
       "      <td>...</td>\n",
       "      <td>...</td>\n",
       "    </tr>\n",
       "    <tr>\n",
       "      <th>14900405</th>\n",
       "      <td>2020-05-20</td>\n",
       "      <td>15279990</td>\n",
       "      <td>2333028.0</td>\n",
       "      <td>6.0</td>\n",
       "    </tr>\n",
       "    <tr>\n",
       "      <th>14900406</th>\n",
       "      <td>2019-03-27</td>\n",
       "      <td>15279991</td>\n",
       "      <td>2333029.0</td>\n",
       "      <td>51.0</td>\n",
       "    </tr>\n",
       "    <tr>\n",
       "      <th>14900407</th>\n",
       "      <td>2020-03-27</td>\n",
       "      <td>15279992</td>\n",
       "      <td>2333029.0</td>\n",
       "      <td>51.0</td>\n",
       "    </tr>\n",
       "    <tr>\n",
       "      <th>14900408</th>\n",
       "      <td>2018-03-27</td>\n",
       "      <td>15279993</td>\n",
       "      <td>2333029.0</td>\n",
       "      <td>51.0</td>\n",
       "    </tr>\n",
       "    <tr>\n",
       "      <th>14900409</th>\n",
       "      <td>2020-07-03</td>\n",
       "      <td>15279994</td>\n",
       "      <td>2333030.0</td>\n",
       "      <td>51.0</td>\n",
       "    </tr>\n",
       "  </tbody>\n",
       "</table>\n",
       "<p>14900410 rows × 4 columns</p>\n",
       "</div>"
      ],
      "text/plain": [
       "         underwriting_date  policy_id  customer_id  product_group\n",
       "0                      NaN          0        697.0            NaN\n",
       "1                      NaN          1       1499.0            0.0\n",
       "2                      NaN          2       2710.0            NaN\n",
       "3                      NaN          3       4483.0            NaN\n",
       "4                      NaN          4       7920.0            NaN\n",
       "...                    ...        ...          ...            ...\n",
       "14900405        2020-05-20   15279990    2333028.0            6.0\n",
       "14900406        2019-03-27   15279991    2333029.0           51.0\n",
       "14900407        2020-03-27   15279992    2333029.0           51.0\n",
       "14900408        2018-03-27   15279993    2333029.0           51.0\n",
       "14900409        2020-07-03   15279994    2333030.0           51.0\n",
       "\n",
       "[14900410 rows x 4 columns]"
      ]
     },
     "execution_count": 4,
     "metadata": {},
     "output_type": "execute_result"
    }
   ],
   "source": [
    "policy_data = pd.read_csv('policy_data.csv')\n",
    "\n",
    "# removing rows without customer_id \n",
    "policy_data.dropna(subset = ['customer_id'], inplace = True)\n",
    "\n",
    "# removing redundant columns\n",
    "policy_data.drop(['first_end_date', 'cancellation_or_end_date','sales_channel','line','status','premium','product_name'], inplace = True, axis = 1)\n",
    "\n",
    "policy_data.reset_index(drop = True, inplace = True)\n",
    "policy_data"
   ]
  },
  {
   "cell_type": "markdown",
   "metadata": {
    "colab_type": "text",
    "id": "_4y30zo_c14p"
   },
   "source": [
    "## Data statistics"
   ]
  },
  {
   "cell_type": "markdown",
   "metadata": {},
   "source": [
    "### Statistics 1 - In which months do events happen most often?"
   ]
  },
  {
   "cell_type": "code",
   "execution_count": 6,
   "metadata": {},
   "outputs": [
    {
     "name": "stdout",
     "output_type": "stream",
     "text": [
      "[56353, 55096, 37048, 30335, 50296, 65366, 75351, 54202, 65635, 71918, 66091, 55940]\n",
      "[8.243189673961538, 8.059318550504585, 5.41929783757612, 4.437335346115082, 7.3571853821725455, 9.561590975248343, 11.022174243122386, 7.928546247902743, 9.600939688223619, 10.520002750021575, 9.667642339215162, 8.182776965936302]\n"
     ]
    }
   ],
   "source": [
    "# defining new dataframe claim, which is equal to claim_data dataframe with removed claims with no event_date information \n",
    "claim = claim_data.dropna(subset = ['event_date'])\n",
    "claim.reset_index(drop = True, inplace = True)\n",
    "\n",
    "# calculating number of events per month \n",
    "event_month = [0]*12\n",
    "\n",
    "for i in range(0,len(claim['event_date'])):\n",
    "    \n",
    "    if claim['event_date'][i][5] == '0':\n",
    "        \n",
    "        for j in range (1,10):\n",
    "            \n",
    "            if claim['event_date'][i][6] == '{}'.format(j):\n",
    "                event_month[j-1] += 1\n",
    "            \n",
    "    if claim['event_date'][i][5] == '1':\n",
    "        \n",
    "        for j in range(0,3):\n",
    "            \n",
    "            if claim['event_date'][i][6] == '{}'.format(j):\n",
    "                event_month[j+9] += 1\n",
    "\n",
    "# calculating total number of events in 2000-2020            \n",
    "sum_event = 0\n",
    "for i in event_month:\n",
    "    sum_event += i\n",
    "\n",
    "# calculating the percentage of events that occured in each month\n",
    "event_perc = [(i/sum_event)*100 for i in event_month]    \n",
    "    \n",
    "print(event_month)\n",
    "print(event_perc)"
   ]
  },
  {
   "cell_type": "markdown",
   "metadata": {},
   "source": [
    "### Statistics 2 - In which days of the week do events happen most often?"
   ]
  },
  {
   "cell_type": "code",
   "execution_count": 7,
   "metadata": {},
   "outputs": [
    {
     "name": "stdout",
     "output_type": "stream",
     "text": [
      "[121329, 112627, 110780, 107736, 116278, 71958, 42923]\n",
      "[17.747732329282904, 16.47482340619428, 16.204648414129842, 15.759378963212612, 17.008883447356833, 10.525853859757676, 6.278679580065854]\n"
     ]
    }
   ],
   "source": [
    "# finding which day in the week is each date in event_date\n",
    "week_days = []\n",
    "for i in range(0,len(claim['event_date'])):\n",
    "    dt = datetime.strptime(claim['event_date'][i], \"%Y-%m-%d\")\n",
    "    day = dt.weekday()\n",
    "    week_days.append(day)\n",
    "\n",
    "# calculating number of events in each day of the week\n",
    "num_of_days = [0]*7\n",
    "for i in range(0,len(week_days)):\n",
    "    for j in range(0,8):\n",
    "        if week_days[i] == j:\n",
    "            num_of_days[j] += 1\n",
    "\n",
    "# calculating the percentage of events that occured in each day of the week\n",
    "days_perc = [(i/sum_event)*100 for i in num_of_days]\n",
    "\n",
    "print(num_of_days)\n",
    "print(days_perc)"
   ]
  },
  {
   "cell_type": "markdown",
   "metadata": {},
   "source": [
    "### Statistics 3 - Which 30 product groups have the most underwtitten policies?"
   ]
  },
  {
   "cell_type": "code",
   "execution_count": 225,
   "metadata": {},
   "outputs": [
    {
     "data": {
      "text/html": [
       "<div>\n",
       "<style scoped>\n",
       "    .dataframe tbody tr th:only-of-type {\n",
       "        vertical-align: middle;\n",
       "    }\n",
       "\n",
       "    .dataframe tbody tr th {\n",
       "        vertical-align: top;\n",
       "    }\n",
       "\n",
       "    .dataframe thead th {\n",
       "        text-align: right;\n",
       "    }\n",
       "</style>\n",
       "<table border=\"1\" class=\"dataframe\">\n",
       "  <thead>\n",
       "    <tr style=\"text-align: right;\">\n",
       "      <th></th>\n",
       "      <th>occurancies</th>\n",
       "    </tr>\n",
       "    <tr>\n",
       "      <th>product_group</th>\n",
       "      <th></th>\n",
       "    </tr>\n",
       "  </thead>\n",
       "  <tbody>\n",
       "    <tr>\n",
       "      <th>6.0</th>\n",
       "      <td>8193385</td>\n",
       "    </tr>\n",
       "    <tr>\n",
       "      <th>51.0</th>\n",
       "      <td>2390541</td>\n",
       "    </tr>\n",
       "    <tr>\n",
       "      <th>61.0</th>\n",
       "      <td>832348</td>\n",
       "    </tr>\n",
       "    <tr>\n",
       "      <th>2.0</th>\n",
       "      <td>352611</td>\n",
       "    </tr>\n",
       "    <tr>\n",
       "      <th>1.0</th>\n",
       "      <td>313895</td>\n",
       "    </tr>\n",
       "    <tr>\n",
       "      <th>75.0</th>\n",
       "      <td>241626</td>\n",
       "    </tr>\n",
       "    <tr>\n",
       "      <th>5.0</th>\n",
       "      <td>209786</td>\n",
       "    </tr>\n",
       "    <tr>\n",
       "      <th>10.0</th>\n",
       "      <td>185657</td>\n",
       "    </tr>\n",
       "    <tr>\n",
       "      <th>9.0</th>\n",
       "      <td>181008</td>\n",
       "    </tr>\n",
       "    <tr>\n",
       "      <th>3.0</th>\n",
       "      <td>148957</td>\n",
       "    </tr>\n",
       "    <tr>\n",
       "      <th>0.0</th>\n",
       "      <td>142188</td>\n",
       "    </tr>\n",
       "    <tr>\n",
       "      <th>4.0</th>\n",
       "      <td>138341</td>\n",
       "    </tr>\n",
       "    <tr>\n",
       "      <th>32.0</th>\n",
       "      <td>94363</td>\n",
       "    </tr>\n",
       "    <tr>\n",
       "      <th>50.0</th>\n",
       "      <td>84924</td>\n",
       "    </tr>\n",
       "    <tr>\n",
       "      <th>19.0</th>\n",
       "      <td>68380</td>\n",
       "    </tr>\n",
       "    <tr>\n",
       "      <th>33.0</th>\n",
       "      <td>66093</td>\n",
       "    </tr>\n",
       "    <tr>\n",
       "      <th>11.0</th>\n",
       "      <td>61903</td>\n",
       "    </tr>\n",
       "    <tr>\n",
       "      <th>18.0</th>\n",
       "      <td>58435</td>\n",
       "    </tr>\n",
       "    <tr>\n",
       "      <th>87.0</th>\n",
       "      <td>53919</td>\n",
       "    </tr>\n",
       "    <tr>\n",
       "      <th>23.0</th>\n",
       "      <td>51600</td>\n",
       "    </tr>\n",
       "    <tr>\n",
       "      <th>27.0</th>\n",
       "      <td>42458</td>\n",
       "    </tr>\n",
       "    <tr>\n",
       "      <th>15.0</th>\n",
       "      <td>31864</td>\n",
       "    </tr>\n",
       "    <tr>\n",
       "      <th>69.0</th>\n",
       "      <td>29898</td>\n",
       "    </tr>\n",
       "    <tr>\n",
       "      <th>99.0</th>\n",
       "      <td>29754</td>\n",
       "    </tr>\n",
       "    <tr>\n",
       "      <th>24.0</th>\n",
       "      <td>29460</td>\n",
       "    </tr>\n",
       "    <tr>\n",
       "      <th>53.0</th>\n",
       "      <td>28549</td>\n",
       "    </tr>\n",
       "    <tr>\n",
       "      <th>7.0</th>\n",
       "      <td>25732</td>\n",
       "    </tr>\n",
       "    <tr>\n",
       "      <th>52.0</th>\n",
       "      <td>24906</td>\n",
       "    </tr>\n",
       "    <tr>\n",
       "      <th>59.0</th>\n",
       "      <td>22160</td>\n",
       "    </tr>\n",
       "    <tr>\n",
       "      <th>76.0</th>\n",
       "      <td>22134</td>\n",
       "    </tr>\n",
       "  </tbody>\n",
       "</table>\n",
       "</div>"
      ],
      "text/plain": [
       "               occurancies\n",
       "product_group             \n",
       "6.0                8193385\n",
       "51.0               2390541\n",
       "61.0                832348\n",
       "2.0                 352611\n",
       "1.0                 313895\n",
       "75.0                241626\n",
       "5.0                 209786\n",
       "10.0                185657\n",
       "9.0                 181008\n",
       "3.0                 148957\n",
       "0.0                 142188\n",
       "4.0                 138341\n",
       "32.0                 94363\n",
       "50.0                 84924\n",
       "19.0                 68380\n",
       "33.0                 66093\n",
       "11.0                 61903\n",
       "18.0                 58435\n",
       "87.0                 53919\n",
       "23.0                 51600\n",
       "27.0                 42458\n",
       "15.0                 31864\n",
       "69.0                 29898\n",
       "99.0                 29754\n",
       "24.0                 29460\n",
       "53.0                 28549\n",
       "7.0                  25732\n",
       "52.0                 24906\n",
       "59.0                 22160\n",
       "76.0                 22134"
      ]
     },
     "execution_count": 225,
     "metadata": {},
     "output_type": "execute_result"
    }
   ],
   "source": [
    "region_product = pd.merge(customer_data,policy_data , how='inner', left_on = 'customer_id', right_on = 'customer_id')\n",
    "region_product.drop(['customer_id','gender','policy_id','customer_type','underwriting_date'], inplace = True, axis = 1)\n",
    "region_product.dropna(subset = ['country_part', 'product_group'], inplace = True)\n",
    "region_product.reset_index(drop = True, inplace = True)\n",
    "\n",
    "# finding top 30 best selling products\n",
    "acb = region_product.copy()\n",
    "naj = acb.groupby(['product_group']).count()\n",
    "naj['occurancies'] = naj['country_part']\n",
    "naj.drop(['country_part'], inplace = True, axis = 1)\n",
    "naj = naj.sort_values(by='occurancies', ascending=False)\n",
    "top30 = naj[:76]\n",
    "top30\n"
   ]
  },
  {
   "cell_type": "markdown",
   "metadata": {},
   "source": [
    "### Statistics 4 - Does the number of events per product group differ in different parts of the country?"
   ]
  },
  {
   "cell_type": "code",
   "execution_count": 226,
   "metadata": {},
   "outputs": [],
   "source": [
    "sales = region_product.groupby(['product_group','country_part']).size()\n",
    "top_sales_mat = np.zeros((6,30))\n",
    "k = 0\n",
    "flag = 0\n",
    "labels_sale = []\n",
    "for i in range(159):\n",
    "    try:\n",
    "        p = top30['occurancies'][i]\n",
    "        top_sales_mat[0][k] = sales[i]['centre']\n",
    "        flag += 1\n",
    "    except KeyError:\n",
    "        pass\n",
    "    try:\n",
    "        p = top30['occurancies'][i]\n",
    "        top_sales_mat[1][k] = sales[i]['insular']\n",
    "        flag += 1\n",
    "    except KeyError:\n",
    "        pass\n",
    "    try:\n",
    "        p = top30['occurancies'][i]\n",
    "        top_sales_mat[2][k] = sales[i]['north_east']\n",
    "        flag += 1\n",
    "    except KeyError:\n",
    "        pass\n",
    "    try:\n",
    "        p = top30['occurancies'][i]\n",
    "        top_sales_mat[3][k] = sales[i]['north_west']\n",
    "        flag += 1\n",
    "    except KeyError:\n",
    "        pass\n",
    "    try:\n",
    "        p = top30['occurancies'][i]\n",
    "        top_sales_mat[4][k] = sales[i]['south']\n",
    "        flag += 1\n",
    "    except KeyError:\n",
    "        pass\n",
    "    try:\n",
    "        p = top30['occurancies'][i]\n",
    "        top_sales_mat[5][k] = sales[i]['other']\n",
    "        flag += 1\n",
    "    except KeyError:\n",
    "        pass\n",
    "    if flag > 0:\n",
    "        k += 1\n",
    "        flag = 0\n",
    "        labels_sale.append(i)"
   ]
  },
  {
   "cell_type": "code",
   "execution_count": 227,
   "metadata": {},
   "outputs": [],
   "source": [
    "claim_region = pd.merge(claim_data,customer_data , how='inner', left_on = 'customer_id', right_on = 'customer_id')\n",
    "claim_region_product = pd.merge(claim_region,policy_data , how='inner', left_on = 'policy_id', right_on = 'policy_id')\n",
    "columns_to_drop = ['date_closed','date_open', 'policy_id', 'customer_type', 'customer_id_x','customer_id_y','gender','underwriting_date']\n",
    "claim_region_product.drop(columns_to_drop, inplace = True, axis = 1)\n",
    "claim_region_product.dropna(subset = ['country_part', 'product_group'], inplace = True)\n",
    "claim_region_product.reset_index(drop = True, inplace = True)\n",
    "\n",
    "occ = claim_region_product.groupby(['product_group','country_part']).size()\n",
    "\n",
    "events_mat = np.zeros((6,30))\n",
    "labels = []\n",
    "k = 0\n",
    "        \n",
    "for i in labels_sale:\n",
    "    try:\n",
    "        events_mat[0][k] = occ[i]['centre'] \n",
    "        flag += 1\n",
    "    except KeyError:\n",
    "        pass\n",
    "    try:\n",
    "        events_mat[1][k] = occ[i]['insular']\n",
    "        flag += 1\n",
    "    except KeyError:\n",
    "        pass\n",
    "    try:\n",
    "        events_mat[2][k] = occ[i]['north_east']\n",
    "        flag += 1\n",
    "    except KeyError:\n",
    "        pass\n",
    "    try:\n",
    "        events_mat[3][k] = occ[i]['north_west']\n",
    "        flag += 1\n",
    "    except KeyError:\n",
    "        pass\n",
    "    try:\n",
    "        events_mat[4][k] = occ[i]['south']\n",
    "        flag += 1\n",
    "    except KeyError:\n",
    "        pass\n",
    "    try:\n",
    "        events_mat[5][k] = occ[i]['other']\n",
    "        flag += 1\n",
    "    except KeyError:\n",
    "        pass\n",
    "    k=k+1\n",
    "    labels.append(str(i))"
   ]
  },
  {
   "cell_type": "code",
   "execution_count": 267,
   "metadata": {},
   "outputs": [],
   "source": [
    "perc = np.zeros((6,30))\n",
    "for i in range(6):\n",
    "    for j in range(30):\n",
    "        perc[i][j] = events_mat[i][j]/top_sales_mat[i][j]"
   ]
  },
  {
   "cell_type": "markdown",
   "metadata": {},
   "source": [
    "### Statistics 5 - How does month of the year affect the number of events happening for different product groups? "
   ]
  },
  {
   "cell_type": "code",
   "execution_count": 229,
   "metadata": {},
   "outputs": [],
   "source": [
    "event_product = pd.merge(claim_data, policy_data , how='inner', left_on = 'policy_id', right_on = 'policy_id')\n",
    "event_product.drop(['claim_total_value','date_open', 'date_closed', 'customer_id_x', 'customer_id_y', 'underwriting_date'], inplace = True, axis = 1)\n",
    "event_product.dropna(subset = ['event_date', 'product_group'], inplace = True)\n",
    "event_product.reset_index(drop = True, inplace = True)\n",
    "\n",
    "# creating a new column that contains only a month of the event\n",
    "month = []\n",
    "for i in event_product['event_date']:\n",
    "    dt = datetime.strptime(i, \"%Y-%m-%d\")\n",
    "    month.append(dt.month)\n",
    "\n",
    "event_product['event_month'] = month\n",
    "\n",
    "event_product.drop(['event_date', 'policy_id'], inplace = True, axis = 1)\n",
    "\n",
    "ep = event_product.groupby(['product_group','event_month']).size()"
   ]
  },
  {
   "cell_type": "code",
   "execution_count": 230,
   "metadata": {},
   "outputs": [],
   "source": [
    "# counting number of events in each month for every product group\n",
    "event_mat = np.zeros((30,12))\n",
    "k = -1\n",
    "labels_i = []\n",
    "for i in range(159):\n",
    "    flag = 0\n",
    "    try:\n",
    "        p = top30['occurancies'][i]\n",
    "        k = k+1\n",
    "        labels_i.append(str(i))\n",
    "        flag = 1\n",
    "    except KeyError:\n",
    "        pass\n",
    "    if flag:\n",
    "        for j in range(12):\n",
    "            try:\n",
    "                event_mat[k][j] = ep[i][j+1]\n",
    "            except KeyError:\n",
    "                pass"
   ]
  },
  {
   "cell_type": "code",
   "execution_count": 231,
   "metadata": {},
   "outputs": [],
   "source": [
    "# calculating number of underwritten policies for every product_group\n",
    "pr_occ = policy_data.groupby(['product_group']).size()\n",
    "pr_policies = []\n",
    "top30_pr = [int(i) for i in labels_i]\n",
    "for i in top30_pr:\n",
    "    pr_policies.append(pr_occ[i])\n",
    "\n",
    "# dividing  each product array in the event_mat with number of underwritten policies for that product\n",
    "matrix = np.zeros((30,12))\n",
    "for i in range(0,30):\n",
    "    for j in range(0,12):\n",
    "        x = event_mat[i][j]/pr_policies[i]\n",
    "        matrix[i][j] = x"
   ]
  },
  {
   "cell_type": "code",
   "execution_count": 263,
   "metadata": {},
   "outputs": [],
   "source": [
    "matrix = np.zeros((30,12))\n",
    "for i in range(0,30):\n",
    "    for j in range(0,12):\n",
    "        x = event_mat[i][j]/pr_policies[i]\n",
    "        matrix[i][j] = x\n",
    "        \n",
    "matrix_t = matrix.transpose()"
   ]
  },
  {
   "cell_type": "markdown",
   "metadata": {
    "colab_type": "text",
    "id": "d1jQe5ELc14s"
   },
   "source": [
    "## Data visualizations"
   ]
  },
  {
   "cell_type": "markdown",
   "metadata": {
    "colab_type": "text",
    "id": "_SVSulJQc14v"
   },
   "source": [
    "### Visualization 1 - In which months do events happen most often?"
   ]
  },
  {
   "cell_type": "code",
   "execution_count": 8,
   "metadata": {},
   "outputs": [
    {
     "data": {
      "image/png": "[encoded data removed]",
      "text/plain": [
       "<Figure size 504x288 with 1 Axes>"
      ]
     },
     "metadata": {},
     "output_type": "display_data"
    }
   ],
   "source": [
    "plt.style.use('ggplot')\n",
    "\n",
    "x = ['Jan','Feb','Mar','Apr','May','Jun','Jul','Aug','Sep','Oct','Nov','Dec']\n",
    "\n",
    "fig, ax = plt.subplots(figsize=(7, 4))\n",
    "plt.barh(x, event_perc, color = 'navy')\n",
    "\n",
    "plt.ylabel('Month')\n",
    "plt.xlabel('Percentage of events (%)')\n",
    "plt.title('Percentage of events that happened in each month (2000-2020)', fontsize = 13)\n",
    "plt.show()"
   ]
  },
  {
   "cell_type": "markdown",
   "metadata": {},
   "source": [
    "### Visualization 2 - In which days of the week do events happen most often?"
   ]
  },
  {
   "cell_type": "code",
   "execution_count": 13,
   "metadata": {},
   "outputs": [
    {
     "data": {
      "image/png": "[encoded data removed]",
      "text/plain": [
       "<Figure size 504x288 with 1 Axes>"
      ]
     },
     "metadata": {},
     "output_type": "display_data"
    }
   ],
   "source": [
    "plt.style.use('ggplot')\n",
    "\n",
    "days = ['Mon','Tue','Wed','Thu','Fri','Sat','Sun']\n",
    "\n",
    "fig, ax = plt.subplots(figsize=(7, 4))\n",
    "plt.bar(days, days_perc, color = 'navy')\n",
    "\n",
    "plt.xlabel('Day of the week', fontsize = 10)\n",
    "plt.ylabel('Percentage of events (%)', fontsize = 10)\n",
    "plt.title('Percentage of events that happened in each day of the week (2000-2020)', fontsize = 10.5)\n",
    "plt.show()"
   ]
  },
  {
   "cell_type": "markdown",
   "metadata": {},
   "source": [
    "### Visualization 3 - Which 30 product groups have the most underwtitten policies?"
   ]
  },
  {
   "cell_type": "code",
   "execution_count": 250,
   "metadata": {},
   "outputs": [
    {
     "data": {
      "text/plain": [
       "Text(0.5, 1.0, 'Underwritten policies for 30 best-selling product groups (2000-2020)')"
      ]
     },
     "execution_count": 250,
     "metadata": {},
     "output_type": "execute_result"
    },
    {
     "data": {
      "image/png": "[encoded data removed]",
      "text/plain": [
       "<Figure size 560x320 with 1 Axes>"
      ]
     },
     "metadata": {},
     "output_type": "display_data"
    }
   ],
   "source": [
    "fig, ax = plt.subplots(figsize=(7,4))\n",
    "ax.set_xticks(np.arange(0,30))\n",
    "plt.plot(pr_policies, color = 'navy')\n",
    "\n",
    "ax.set_xticklabels(labels_i)\n",
    "\n",
    "plt.xlabel('Product group')\n",
    "plt.ylabel('Number of policies')\n",
    "plt.title('Underwritten policies for 30 best-selling product groups (2000-2020)', fontsize = 13)"
   ]
  },
  {
   "cell_type": "markdown",
   "metadata": {},
   "source": [
    "### Visualization 4 - Does the number of events per product group differ in different parts of the country?"
   ]
  },
  {
   "cell_type": "code",
   "execution_count": 287,
   "metadata": {},
   "outputs": [
    {
     "data": {
      "image/png": "[encoded data removed]",
      "text/plain": [
       "<Figure size 640x400 with 2 Axes>"
      ]
     },
     "metadata": {},
     "output_type": "display_data"
    }
   ],
   "source": [
    "regions = ['centre','insular','north_east','north_west','south','other']\n",
    "fig = plt.figure(figsize=(8,5))\n",
    "ax = fig.add_subplot(111)\n",
    "cax = ax.matshow(perc, cmap=matplotlib.cm.cividis)\n",
    "fig.colorbar(cax,fraction=0.01, pad=0.03)\n",
    "\n",
    "ax.set_yticks(np.arange(0,6))\n",
    "ax.set_xticks(np.arange(0,30))\n",
    "plt.xlabel('Product', fontsize=10)\n",
    "plt.ylabel('Country part', fontsize=10)\n",
    "\n",
    "ax.set_yticklabels(['centre','insular','north_east','north_west','south','other'])\n",
    "ax.set_xticklabels(labels)\n",
    "ax.grid(False)\n",
    "\n",
    "plt.xticks(fontsize=8)\n",
    "plt.yticks(fontsize=8)\n",
    "\n",
    "plt.show()"
   ]
  },
  {
   "cell_type": "markdown",
   "metadata": {},
   "source": [
    "### Visualization 5 - How does month of the year affect the number of events happening for different product groups? "
   ]
  },
  {
   "cell_type": "code",
   "execution_count": 299,
   "metadata": {},
   "outputs": [
    {
     "data": {
      "image/png": "[encoded data removed]",
      "text/plain": [
       "<Figure size 640x400 with 2 Axes>"
      ]
     },
     "metadata": {},
     "output_type": "display_data"
    }
   ],
   "source": [
    "x = ['Jan','Feb','Mar','Apr','May','Jun','Jul','Aug','Sep','Oct','Nov','Dec']\n",
    "fig = plt.figure(figsize=(8,5))\n",
    "ax = fig.add_subplot(111)\n",
    "cax = ax.matshow(matrix_t, cmap=matplotlib.cm.cividis)\n",
    "fig.colorbar(cax,fraction=0.015, pad=0.03)\n",
    "\n",
    "ax.set_yticks(np.arange(0,12))\n",
    "ax.set_xticks(np.arange(0,30))\n",
    "ax.grid(False)\n",
    "plt.xlabel('Product', fontsize=10)\n",
    "plt.ylabel('Month', fontsize=10)\n",
    "\n",
    "ax.set_yticklabels(x)\n",
    "ax.set_xticklabels(labels_i)\n",
    "plt.xticks(fontsize=8)\n",
    "plt.yticks(fontsize=8)\n",
    "\n",
    "plt.show()"
   ]
  }
 ],
 "metadata": {
  "colab": {
   "name": "Web_Scraping.ipynb",
   "provenance": []
  },
  "kernelspec": {
   "display_name": "Python 3 (ipykernel)",
   "language": "python",
   "name": "python3"
  },
  "language_info": {
   "codemirror_mode": {
    "name": "ipython",
    "version": 3
   },
   "file_extension": ".py",
   "mimetype": "text/x-python",
   "name": "python",
   "nbconvert_exporter": "python",
   "pygments_lexer": "ipython3",
   "version": "3.9.7"
  }
 },
 "nbformat": 4,
 "nbformat_minor": 1
}
