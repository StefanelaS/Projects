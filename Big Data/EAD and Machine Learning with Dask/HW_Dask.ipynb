{
 "cells": [
  {
   "cell_type": "markdown",
   "id": "c94e7c42-2715-40e7-bd85-da808114ff95",
   "metadata": {},
   "source": [
    "# Assignment3 - Dask\n",
    "##### Stefanela Stevanovic, 63220492"
   ]
  },
  {
   "cell_type": "markdown",
   "id": "0cd9b033-efdc-4f02-a0fa-94534b6dca2a",
   "metadata": {},
   "source": [
    "## Introduction"
   ]
  },
  {
   "cell_type": "markdown",
   "id": "e3b14e11-978f-4ae9-9d5e-1f7f27ac0c7f",
   "metadata": {},
   "source": [
    "The goal of this assignment is to use data from https://www.kaggle.com/datasets/elemento/nyc-yellow-taxi-trip-data to predict the trip distance for NYC Yellow Taxi rides. Given the dataset's significant size, we will utilize Dask to facilitate parallelization across multiple workers, enhancing computational efficiency. We will implement three predictive models - linear regression, decision tree and random forest regression, and evaluate each model's performance based on the Root Mean Square Error (RMSE) metric with 5-fold cross-validation technique. Additionally, for the decision tree and random forest models, we will employ grid search with cross-validation to find the optimal set of hyperparameters."
   ]
  },
  {
   "cell_type": "markdown",
   "id": "2eb9accb-c606-47ba-893b-c94d08d3d3c9",
   "metadata": {},
   "source": [
    "## Getting Started"
   ]
  },
  {
   "cell_type": "markdown",
   "id": "c438a4ea-690c-41a6-b561-753b4eed1b2f",
   "metadata": {},
   "source": [
    "First, we begin by importing all the necessary libraries required for this project and connecting to Local cluster using Dask distributed 'Client'.  The configuration for our setup involves 6 workers, each with 2 threads and the memory limit of 5GB per worker. This specific setup was determined through a process of trial and error. We utilized the Dask Dashboard to monitor the usage of CPU and memory resources and based on these observations, we optimized the settings to ensure that there are no idle workers while also preventing the system from approaching the memory limits."
   ]
  },
  {
   "cell_type": "code",
   "execution_count": 1,
   "id": "d5cbaae7-5c8c-4f30-8144-2760069efa22",
   "metadata": {},
   "outputs": [],
   "source": [
    "# import needed libraries\n",
    "import time\n",
    "from math import sqrt\n",
    "import numpy as np\n",
    "import pandas as pd\n",
    "import seaborn as sns\n",
    "import matplotlib.pyplot as plt\n",
    "import dask.dataframe as dd\n",
    "import dask.array as da\n",
    "from dask.distributed import Client\n",
    "from dask_ml.metrics import mean_squared_error\n",
    "from dask_ml.preprocessing import StandardScaler\n",
    "from dask_ml.linear_model import LinearRegression\n",
    "from dask_ml.model_selection import KFold, train_test_split, GridSearchCV\n",
    "from sklearn.tree import DecisionTreeRegressor\n",
    "from sklearn.ensemble import RandomForestRegressor\n",
    "import warnings\n",
    "warnings.filterwarnings('ignore')\n",
    "import logging\n",
    "logging.getLogger('distributed.shuffle._scheduler_plugin').setLevel(logging.ERROR)\n",
    "logging.getLogger('distributed.scheduler').setLevel(logging.ERROR)"
   ]
  },
  {
   "cell_type": "code",
   "execution_count": 2,
   "id": "ac620e69-7a54-4f29-a3cd-1684b4289c96",
   "metadata": {},
   "outputs": [
    {
     "data": {
      "text/html": [
       "<div>\n",
       "    <div style=\"width: 24px; height: 24px; background-color: #e1e1e1; border: 3px solid #9D9D9D; border-radius: 5px; position: absolute;\"> </div>\n",
       "    <div style=\"margin-left: 48px;\">\n",
       "        <h3 style=\"margin-bottom: 0px;\">Client</h3>\n",
       "        <p style=\"color: #9D9D9D; margin-bottom: 0px;\">Client-29ad2282-f6a8-11ee-bcb4-e470b8cd2741</p>\n",
       "        <table style=\"width: 100%; text-align: left;\">\n",
       "\n",
       "        <tr>\n",
       "        \n",
       "            <td style=\"text-align: left;\"><strong>Connection method:</strong> Cluster object</td>\n",
       "            <td style=\"text-align: left;\"><strong>Cluster type:</strong> distributed.LocalCluster</td>\n",
       "        \n",
       "        </tr>\n",
       "\n",
       "        \n",
       "            <tr>\n",
       "                <td style=\"text-align: left;\">\n",
       "                    <strong>Dashboard: </strong> <a href=\"http://127.0.0.1:8787/status\" target=\"_blank\">http://127.0.0.1:8787/status</a>\n",
       "                </td>\n",
       "                <td style=\"text-align: left;\"></td>\n",
       "            </tr>\n",
       "        \n",
       "\n",
       "        </table>\n",
       "\n",
       "        \n",
       "\n",
       "        \n",
       "            <details>\n",
       "            <summary style=\"margin-bottom: 20px;\"><h3 style=\"display: inline;\">Cluster Info</h3></summary>\n",
       "            <div class=\"jp-RenderedHTMLCommon jp-RenderedHTML jp-mod-trusted jp-OutputArea-output\">\n",
       "    <div style=\"width: 24px; height: 24px; background-color: #e1e1e1; border: 3px solid #9D9D9D; border-radius: 5px; position: absolute;\">\n",
       "    </div>\n",
       "    <div style=\"margin-left: 48px;\">\n",
       "        <h3 style=\"margin-bottom: 0px; margin-top: 0px;\">LocalCluster</h3>\n",
       "        <p style=\"color: #9D9D9D; margin-bottom: 0px;\">8c49a367</p>\n",
       "        <table style=\"width: 100%; text-align: left;\">\n",
       "            <tr>\n",
       "                <td style=\"text-align: left;\">\n",
       "                    <strong>Dashboard:</strong> <a href=\"http://127.0.0.1:8787/status\" target=\"_blank\">http://127.0.0.1:8787/status</a>\n",
       "                </td>\n",
       "                <td style=\"text-align: left;\">\n",
       "                    <strong>Workers:</strong> 6\n",
       "                </td>\n",
       "            </tr>\n",
       "            <tr>\n",
       "                <td style=\"text-align: left;\">\n",
       "                    <strong>Total threads:</strong> 12\n",
       "                </td>\n",
       "                <td style=\"text-align: left;\">\n",
       "                    <strong>Total memory:</strong> 27.94 GiB\n",
       "                </td>\n",
       "            </tr>\n",
       "            \n",
       "            <tr>\n",
       "    <td style=\"text-align: left;\"><strong>Status:</strong> running</td>\n",
       "    <td style=\"text-align: left;\"><strong>Using processes:</strong> True</td>\n",
       "</tr>\n",
       "\n",
       "            \n",
       "        </table>\n",
       "\n",
       "        <details>\n",
       "            <summary style=\"margin-bottom: 20px;\">\n",
       "                <h3 style=\"display: inline;\">Scheduler Info</h3>\n",
       "            </summary>\n",
       "\n",
       "            <div style=\"\">\n",
       "    <div>\n",
       "        <div style=\"width: 24px; height: 24px; background-color: #FFF7E5; border: 3px solid #FF6132; border-radius: 5px; position: absolute;\"> </div>\n",
       "        <div style=\"margin-left: 48px;\">\n",
       "            <h3 style=\"margin-bottom: 0px;\">Scheduler</h3>\n",
       "            <p style=\"color: #9D9D9D; margin-bottom: 0px;\">Scheduler-01bc22c6-ad66-4689-9bab-4617c458b47f</p>\n",
       "            <table style=\"width: 100%; text-align: left;\">\n",
       "                <tr>\n",
       "                    <td style=\"text-align: left;\">\n",
       "                        <strong>Comm:</strong> tcp://127.0.0.1:54956\n",
       "                    </td>\n",
       "                    <td style=\"text-align: left;\">\n",
       "                        <strong>Workers:</strong> 6\n",
       "                    </td>\n",
       "                </tr>\n",
       "                <tr>\n",
       "                    <td style=\"text-align: left;\">\n",
       "                        <strong>Dashboard:</strong> <a href=\"http://127.0.0.1:8787/status\" target=\"_blank\">http://127.0.0.1:8787/status</a>\n",
       "                    </td>\n",
       "                    <td style=\"text-align: left;\">\n",
       "                        <strong>Total threads:</strong> 12\n",
       "                    </td>\n",
       "                </tr>\n",
       "                <tr>\n",
       "                    <td style=\"text-align: left;\">\n",
       "                        <strong>Started:</strong> Just now\n",
       "                    </td>\n",
       "                    <td style=\"text-align: left;\">\n",
       "                        <strong>Total memory:</strong> 27.94 GiB\n",
       "                    </td>\n",
       "                </tr>\n",
       "            </table>\n",
       "        </div>\n",
       "    </div>\n",
       "\n",
       "    <details style=\"margin-left: 48px;\">\n",
       "        <summary style=\"margin-bottom: 20px;\">\n",
       "            <h3 style=\"display: inline;\">Workers</h3>\n",
       "        </summary>\n",
       "\n",
       "        \n",
       "        <div style=\"margin-bottom: 20px;\">\n",
       "            <div style=\"width: 24px; height: 24px; background-color: #DBF5FF; border: 3px solid #4CC9FF; border-radius: 5px; position: absolute;\"> </div>\n",
       "            <div style=\"margin-left: 48px;\">\n",
       "            <details>\n",
       "                <summary>\n",
       "                    <h4 style=\"margin-bottom: 0px; display: inline;\">Worker: 0</h4>\n",
       "                </summary>\n",
       "                <table style=\"width: 100%; text-align: left;\">\n",
       "                    <tr>\n",
       "                        <td style=\"text-align: left;\">\n",
       "                            <strong>Comm: </strong> tcp://127.0.0.1:54998\n",
       "                        </td>\n",
       "                        <td style=\"text-align: left;\">\n",
       "                            <strong>Total threads: </strong> 2\n",
       "                        </td>\n",
       "                    </tr>\n",
       "                    <tr>\n",
       "                        <td style=\"text-align: left;\">\n",
       "                            <strong>Dashboard: </strong> <a href=\"http://127.0.0.1:55006/status\" target=\"_blank\">http://127.0.0.1:55006/status</a>\n",
       "                        </td>\n",
       "                        <td style=\"text-align: left;\">\n",
       "                            <strong>Memory: </strong> 4.66 GiB\n",
       "                        </td>\n",
       "                    </tr>\n",
       "                    <tr>\n",
       "                        <td style=\"text-align: left;\">\n",
       "                            <strong>Nanny: </strong> tcp://127.0.0.1:54959\n",
       "                        </td>\n",
       "                        <td style=\"text-align: left;\"></td>\n",
       "                    </tr>\n",
       "                    <tr>\n",
       "                        <td colspan=\"2\" style=\"text-align: left;\">\n",
       "                            <strong>Local directory: </strong> C:\\Users\\Korisnik\\AppData\\Local\\Temp\\dask-scratch-space\\worker-mzrihpjf\n",
       "                        </td>\n",
       "                    </tr>\n",
       "\n",
       "                    \n",
       "\n",
       "                    \n",
       "\n",
       "                </table>\n",
       "            </details>\n",
       "            </div>\n",
       "        </div>\n",
       "        \n",
       "        <div style=\"margin-bottom: 20px;\">\n",
       "            <div style=\"width: 24px; height: 24px; background-color: #DBF5FF; border: 3px solid #4CC9FF; border-radius: 5px; position: absolute;\"> </div>\n",
       "            <div style=\"margin-left: 48px;\">\n",
       "            <details>\n",
       "                <summary>\n",
       "                    <h4 style=\"margin-bottom: 0px; display: inline;\">Worker: 1</h4>\n",
       "                </summary>\n",
       "                <table style=\"width: 100%; text-align: left;\">\n",
       "                    <tr>\n",
       "                        <td style=\"text-align: left;\">\n",
       "                            <strong>Comm: </strong> tcp://127.0.0.1:55013\n",
       "                        </td>\n",
       "                        <td style=\"text-align: left;\">\n",
       "                            <strong>Total threads: </strong> 2\n",
       "                        </td>\n",
       "                    </tr>\n",
       "                    <tr>\n",
       "                        <td style=\"text-align: left;\">\n",
       "                            <strong>Dashboard: </strong> <a href=\"http://127.0.0.1:55017/status\" target=\"_blank\">http://127.0.0.1:55017/status</a>\n",
       "                        </td>\n",
       "                        <td style=\"text-align: left;\">\n",
       "                            <strong>Memory: </strong> 4.66 GiB\n",
       "                        </td>\n",
       "                    </tr>\n",
       "                    <tr>\n",
       "                        <td style=\"text-align: left;\">\n",
       "                            <strong>Nanny: </strong> tcp://127.0.0.1:54960\n",
       "                        </td>\n",
       "                        <td style=\"text-align: left;\"></td>\n",
       "                    </tr>\n",
       "                    <tr>\n",
       "                        <td colspan=\"2\" style=\"text-align: left;\">\n",
       "                            <strong>Local directory: </strong> C:\\Users\\Korisnik\\AppData\\Local\\Temp\\dask-scratch-space\\worker-n5ux_wvx\n",
       "                        </td>\n",
       "                    </tr>\n",
       "\n",
       "                    \n",
       "\n",
       "                    \n",
       "\n",
       "                </table>\n",
       "            </details>\n",
       "            </div>\n",
       "        </div>\n",
       "        \n",
       "        <div style=\"margin-bottom: 20px;\">\n",
       "            <div style=\"width: 24px; height: 24px; background-color: #DBF5FF; border: 3px solid #4CC9FF; border-radius: 5px; position: absolute;\"> </div>\n",
       "            <div style=\"margin-left: 48px;\">\n",
       "            <details>\n",
       "                <summary>\n",
       "                    <h4 style=\"margin-bottom: 0px; display: inline;\">Worker: 2</h4>\n",
       "                </summary>\n",
       "                <table style=\"width: 100%; text-align: left;\">\n",
       "                    <tr>\n",
       "                        <td style=\"text-align: left;\">\n",
       "                            <strong>Comm: </strong> tcp://127.0.0.1:54996\n",
       "                        </td>\n",
       "                        <td style=\"text-align: left;\">\n",
       "                            <strong>Total threads: </strong> 2\n",
       "                        </td>\n",
       "                    </tr>\n",
       "                    <tr>\n",
       "                        <td style=\"text-align: left;\">\n",
       "                            <strong>Dashboard: </strong> <a href=\"http://127.0.0.1:55002/status\" target=\"_blank\">http://127.0.0.1:55002/status</a>\n",
       "                        </td>\n",
       "                        <td style=\"text-align: left;\">\n",
       "                            <strong>Memory: </strong> 4.66 GiB\n",
       "                        </td>\n",
       "                    </tr>\n",
       "                    <tr>\n",
       "                        <td style=\"text-align: left;\">\n",
       "                            <strong>Nanny: </strong> tcp://127.0.0.1:54961\n",
       "                        </td>\n",
       "                        <td style=\"text-align: left;\"></td>\n",
       "                    </tr>\n",
       "                    <tr>\n",
       "                        <td colspan=\"2\" style=\"text-align: left;\">\n",
       "                            <strong>Local directory: </strong> C:\\Users\\Korisnik\\AppData\\Local\\Temp\\dask-scratch-space\\worker-rr88206i\n",
       "                        </td>\n",
       "                    </tr>\n",
       "\n",
       "                    \n",
       "\n",
       "                    \n",
       "\n",
       "                </table>\n",
       "            </details>\n",
       "            </div>\n",
       "        </div>\n",
       "        \n",
       "        <div style=\"margin-bottom: 20px;\">\n",
       "            <div style=\"width: 24px; height: 24px; background-color: #DBF5FF; border: 3px solid #4CC9FF; border-radius: 5px; position: absolute;\"> </div>\n",
       "            <div style=\"margin-left: 48px;\">\n",
       "            <details>\n",
       "                <summary>\n",
       "                    <h4 style=\"margin-bottom: 0px; display: inline;\">Worker: 3</h4>\n",
       "                </summary>\n",
       "                <table style=\"width: 100%; text-align: left;\">\n",
       "                    <tr>\n",
       "                        <td style=\"text-align: left;\">\n",
       "                            <strong>Comm: </strong> tcp://127.0.0.1:54997\n",
       "                        </td>\n",
       "                        <td style=\"text-align: left;\">\n",
       "                            <strong>Total threads: </strong> 2\n",
       "                        </td>\n",
       "                    </tr>\n",
       "                    <tr>\n",
       "                        <td style=\"text-align: left;\">\n",
       "                            <strong>Dashboard: </strong> <a href=\"http://127.0.0.1:55004/status\" target=\"_blank\">http://127.0.0.1:55004/status</a>\n",
       "                        </td>\n",
       "                        <td style=\"text-align: left;\">\n",
       "                            <strong>Memory: </strong> 4.66 GiB\n",
       "                        </td>\n",
       "                    </tr>\n",
       "                    <tr>\n",
       "                        <td style=\"text-align: left;\">\n",
       "                            <strong>Nanny: </strong> tcp://127.0.0.1:54962\n",
       "                        </td>\n",
       "                        <td style=\"text-align: left;\"></td>\n",
       "                    </tr>\n",
       "                    <tr>\n",
       "                        <td colspan=\"2\" style=\"text-align: left;\">\n",
       "                            <strong>Local directory: </strong> C:\\Users\\Korisnik\\AppData\\Local\\Temp\\dask-scratch-space\\worker-b05tv9wk\n",
       "                        </td>\n",
       "                    </tr>\n",
       "\n",
       "                    \n",
       "\n",
       "                    \n",
       "\n",
       "                </table>\n",
       "            </details>\n",
       "            </div>\n",
       "        </div>\n",
       "        \n",
       "        <div style=\"margin-bottom: 20px;\">\n",
       "            <div style=\"width: 24px; height: 24px; background-color: #DBF5FF; border: 3px solid #4CC9FF; border-radius: 5px; position: absolute;\"> </div>\n",
       "            <div style=\"margin-left: 48px;\">\n",
       "            <details>\n",
       "                <summary>\n",
       "                    <h4 style=\"margin-bottom: 0px; display: inline;\">Worker: 4</h4>\n",
       "                </summary>\n",
       "                <table style=\"width: 100%; text-align: left;\">\n",
       "                    <tr>\n",
       "                        <td style=\"text-align: left;\">\n",
       "                            <strong>Comm: </strong> tcp://127.0.0.1:55016\n",
       "                        </td>\n",
       "                        <td style=\"text-align: left;\">\n",
       "                            <strong>Total threads: </strong> 2\n",
       "                        </td>\n",
       "                    </tr>\n",
       "                    <tr>\n",
       "                        <td style=\"text-align: left;\">\n",
       "                            <strong>Dashboard: </strong> <a href=\"http://127.0.0.1:55019/status\" target=\"_blank\">http://127.0.0.1:55019/status</a>\n",
       "                        </td>\n",
       "                        <td style=\"text-align: left;\">\n",
       "                            <strong>Memory: </strong> 4.66 GiB\n",
       "                        </td>\n",
       "                    </tr>\n",
       "                    <tr>\n",
       "                        <td style=\"text-align: left;\">\n",
       "                            <strong>Nanny: </strong> tcp://127.0.0.1:54963\n",
       "                        </td>\n",
       "                        <td style=\"text-align: left;\"></td>\n",
       "                    </tr>\n",
       "                    <tr>\n",
       "                        <td colspan=\"2\" style=\"text-align: left;\">\n",
       "                            <strong>Local directory: </strong> C:\\Users\\Korisnik\\AppData\\Local\\Temp\\dask-scratch-space\\worker-r93x9wsq\n",
       "                        </td>\n",
       "                    </tr>\n",
       "\n",
       "                    \n",
       "\n",
       "                    \n",
       "\n",
       "                </table>\n",
       "            </details>\n",
       "            </div>\n",
       "        </div>\n",
       "        \n",
       "        <div style=\"margin-bottom: 20px;\">\n",
       "            <div style=\"width: 24px; height: 24px; background-color: #DBF5FF; border: 3px solid #4CC9FF; border-radius: 5px; position: absolute;\"> </div>\n",
       "            <div style=\"margin-left: 48px;\">\n",
       "            <details>\n",
       "                <summary>\n",
       "                    <h4 style=\"margin-bottom: 0px; display: inline;\">Worker: 5</h4>\n",
       "                </summary>\n",
       "                <table style=\"width: 100%; text-align: left;\">\n",
       "                    <tr>\n",
       "                        <td style=\"text-align: left;\">\n",
       "                            <strong>Comm: </strong> tcp://127.0.0.1:55012\n",
       "                        </td>\n",
       "                        <td style=\"text-align: left;\">\n",
       "                            <strong>Total threads: </strong> 2\n",
       "                        </td>\n",
       "                    </tr>\n",
       "                    <tr>\n",
       "                        <td style=\"text-align: left;\">\n",
       "                            <strong>Dashboard: </strong> <a href=\"http://127.0.0.1:55014/status\" target=\"_blank\">http://127.0.0.1:55014/status</a>\n",
       "                        </td>\n",
       "                        <td style=\"text-align: left;\">\n",
       "                            <strong>Memory: </strong> 4.66 GiB\n",
       "                        </td>\n",
       "                    </tr>\n",
       "                    <tr>\n",
       "                        <td style=\"text-align: left;\">\n",
       "                            <strong>Nanny: </strong> tcp://127.0.0.1:54964\n",
       "                        </td>\n",
       "                        <td style=\"text-align: left;\"></td>\n",
       "                    </tr>\n",
       "                    <tr>\n",
       "                        <td colspan=\"2\" style=\"text-align: left;\">\n",
       "                            <strong>Local directory: </strong> C:\\Users\\Korisnik\\AppData\\Local\\Temp\\dask-scratch-space\\worker-9ypajt21\n",
       "                        </td>\n",
       "                    </tr>\n",
       "\n",
       "                    \n",
       "\n",
       "                    \n",
       "\n",
       "                </table>\n",
       "            </details>\n",
       "            </div>\n",
       "        </div>\n",
       "        \n",
       "\n",
       "    </details>\n",
       "</div>\n",
       "\n",
       "        </details>\n",
       "    </div>\n",
       "</div>\n",
       "            </details>\n",
       "        \n",
       "\n",
       "    </div>\n",
       "</div>"
      ],
      "text/plain": [
       "<Client: 'tcp://127.0.0.1:54956' processes=6 threads=12, memory=27.94 GiB>"
      ]
     },
     "execution_count": 2,
     "metadata": {},
     "output_type": "execute_result"
    }
   ],
   "source": [
    "client = Client(n_workers=6, threads_per_worker=2, memory_limit='5GB')\n",
    "client"
   ]
  },
  {
   "cell_type": "code",
   "execution_count": 3,
   "id": "96a07124-1e01-45ab-bb42-de8579ea057c",
   "metadata": {},
   "outputs": [
    {
     "name": "stdout",
     "output_type": "stream",
     "text": [
      "Number of partitions: 36\n",
      "Total data points: 23655844.0\n"
     ]
    }
   ],
   "source": [
    "# load data \n",
    "ddf_2015 = dd.read_csv('Data/yellow_tripdata_2015-01.csv', blocksize=100e6)\n",
    "ddf_2016 = dd.read_csv('Data/yellow_tripdata_2016-01.csv', blocksize=100e6, dtype={'tip_amount': 'float64', 'tolls_amount': 'float64'})   \n",
    "\n",
    "# fix column name in ddf_2016 to match one in ddf_2015\n",
    "ddf_2016 = ddf_2016.rename(columns={'RatecodeID': 'RateCodeID'})\n",
    "\n",
    "# concatenate ddfs\n",
    "ddf = dd.concat([ddf_2015, ddf_2016], axis=0)\n",
    "\n",
    "# number of partitions\n",
    "print(f\"Number of partitions: {ddf.npartitions}\")\n",
    "\n",
    "# total number of data points in the ddf\n",
    "n = ddf.shape[0].compute()\n",
    "print(f\"Total data points: {n}\")"
   ]
  },
  {
   "cell_type": "code",
   "execution_count": 4,
   "id": "9285b552-628a-4e76-aeda-49ebd9b595af",
   "metadata": {},
   "outputs": [
    {
     "data": {
      "text/html": [
       "<div>\n",
       "<style scoped>\n",
       "    .dataframe tbody tr th:only-of-type {\n",
       "        vertical-align: middle;\n",
       "    }\n",
       "\n",
       "    .dataframe tbody tr th {\n",
       "        vertical-align: top;\n",
       "    }\n",
       "\n",
       "    .dataframe thead th {\n",
       "        text-align: right;\n",
       "    }\n",
       "</style>\n",
       "<table border=\"1\" class=\"dataframe\">\n",
       "  <thead>\n",
       "    <tr style=\"text-align: right;\">\n",
       "      <th></th>\n",
       "      <th>VendorID</th>\n",
       "      <th>tpep_pickup_datetime</th>\n",
       "      <th>tpep_dropoff_datetime</th>\n",
       "      <th>passenger_count</th>\n",
       "      <th>trip_distance</th>\n",
       "      <th>pickup_longitude</th>\n",
       "      <th>pickup_latitude</th>\n",
       "      <th>RateCodeID</th>\n",
       "      <th>store_and_fwd_flag</th>\n",
       "      <th>dropoff_longitude</th>\n",
       "      <th>dropoff_latitude</th>\n",
       "      <th>payment_type</th>\n",
       "      <th>fare_amount</th>\n",
       "      <th>extra</th>\n",
       "      <th>mta_tax</th>\n",
       "      <th>tip_amount</th>\n",
       "      <th>tolls_amount</th>\n",
       "      <th>improvement_surcharge</th>\n",
       "      <th>total_amount</th>\n",
       "    </tr>\n",
       "  </thead>\n",
       "  <tbody>\n",
       "    <tr>\n",
       "      <th>0</th>\n",
       "      <td>2</td>\n",
       "      <td>2015-01-15 19:05:39</td>\n",
       "      <td>2015-01-15 19:23:42</td>\n",
       "      <td>1</td>\n",
       "      <td>1.59</td>\n",
       "      <td>-73.993896</td>\n",
       "      <td>40.750111</td>\n",
       "      <td>1</td>\n",
       "      <td>N</td>\n",
       "      <td>-73.974785</td>\n",
       "      <td>40.750618</td>\n",
       "      <td>1</td>\n",
       "      <td>12.0</td>\n",
       "      <td>1.0</td>\n",
       "      <td>0.5</td>\n",
       "      <td>3.25</td>\n",
       "      <td>0.0</td>\n",
       "      <td>0.3</td>\n",
       "      <td>17.05</td>\n",
       "    </tr>\n",
       "    <tr>\n",
       "      <th>1</th>\n",
       "      <td>1</td>\n",
       "      <td>2015-01-10 20:33:38</td>\n",
       "      <td>2015-01-10 20:53:28</td>\n",
       "      <td>1</td>\n",
       "      <td>3.30</td>\n",
       "      <td>-74.001648</td>\n",
       "      <td>40.724243</td>\n",
       "      <td>1</td>\n",
       "      <td>N</td>\n",
       "      <td>-73.994415</td>\n",
       "      <td>40.759109</td>\n",
       "      <td>1</td>\n",
       "      <td>14.5</td>\n",
       "      <td>0.5</td>\n",
       "      <td>0.5</td>\n",
       "      <td>2.00</td>\n",
       "      <td>0.0</td>\n",
       "      <td>0.3</td>\n",
       "      <td>17.80</td>\n",
       "    </tr>\n",
       "    <tr>\n",
       "      <th>2</th>\n",
       "      <td>1</td>\n",
       "      <td>2015-01-10 20:33:38</td>\n",
       "      <td>2015-01-10 20:43:41</td>\n",
       "      <td>1</td>\n",
       "      <td>1.80</td>\n",
       "      <td>-73.963341</td>\n",
       "      <td>40.802788</td>\n",
       "      <td>1</td>\n",
       "      <td>N</td>\n",
       "      <td>-73.951820</td>\n",
       "      <td>40.824413</td>\n",
       "      <td>2</td>\n",
       "      <td>9.5</td>\n",
       "      <td>0.5</td>\n",
       "      <td>0.5</td>\n",
       "      <td>0.00</td>\n",
       "      <td>0.0</td>\n",
       "      <td>0.3</td>\n",
       "      <td>10.80</td>\n",
       "    </tr>\n",
       "    <tr>\n",
       "      <th>3</th>\n",
       "      <td>1</td>\n",
       "      <td>2015-01-10 20:33:39</td>\n",
       "      <td>2015-01-10 20:35:31</td>\n",
       "      <td>1</td>\n",
       "      <td>0.50</td>\n",
       "      <td>-74.009087</td>\n",
       "      <td>40.713818</td>\n",
       "      <td>1</td>\n",
       "      <td>N</td>\n",
       "      <td>-74.004326</td>\n",
       "      <td>40.719986</td>\n",
       "      <td>2</td>\n",
       "      <td>3.5</td>\n",
       "      <td>0.5</td>\n",
       "      <td>0.5</td>\n",
       "      <td>0.00</td>\n",
       "      <td>0.0</td>\n",
       "      <td>0.3</td>\n",
       "      <td>4.80</td>\n",
       "    </tr>\n",
       "    <tr>\n",
       "      <th>4</th>\n",
       "      <td>1</td>\n",
       "      <td>2015-01-10 20:33:39</td>\n",
       "      <td>2015-01-10 20:52:58</td>\n",
       "      <td>1</td>\n",
       "      <td>3.00</td>\n",
       "      <td>-73.971176</td>\n",
       "      <td>40.762428</td>\n",
       "      <td>1</td>\n",
       "      <td>N</td>\n",
       "      <td>-74.004181</td>\n",
       "      <td>40.742653</td>\n",
       "      <td>2</td>\n",
       "      <td>15.0</td>\n",
       "      <td>0.5</td>\n",
       "      <td>0.5</td>\n",
       "      <td>0.00</td>\n",
       "      <td>0.0</td>\n",
       "      <td>0.3</td>\n",
       "      <td>16.30</td>\n",
       "    </tr>\n",
       "  </tbody>\n",
       "</table>\n",
       "</div>"
      ],
      "text/plain": [
       "   VendorID tpep_pickup_datetime tpep_dropoff_datetime  passenger_count  \\\n",
       "0         2  2015-01-15 19:05:39   2015-01-15 19:23:42                1   \n",
       "1         1  2015-01-10 20:33:38   2015-01-10 20:53:28                1   \n",
       "2         1  2015-01-10 20:33:38   2015-01-10 20:43:41                1   \n",
       "3         1  2015-01-10 20:33:39   2015-01-10 20:35:31                1   \n",
       "4         1  2015-01-10 20:33:39   2015-01-10 20:52:58                1   \n",
       "\n",
       "   trip_distance  pickup_longitude  pickup_latitude  RateCodeID  \\\n",
       "0           1.59        -73.993896        40.750111           1   \n",
       "1           3.30        -74.001648        40.724243           1   \n",
       "2           1.80        -73.963341        40.802788           1   \n",
       "3           0.50        -74.009087        40.713818           1   \n",
       "4           3.00        -73.971176        40.762428           1   \n",
       "\n",
       "  store_and_fwd_flag  dropoff_longitude  dropoff_latitude  payment_type  \\\n",
       "0                  N         -73.974785         40.750618             1   \n",
       "1                  N         -73.994415         40.759109             1   \n",
       "2                  N         -73.951820         40.824413             2   \n",
       "3                  N         -74.004326         40.719986             2   \n",
       "4                  N         -74.004181         40.742653             2   \n",
       "\n",
       "   fare_amount  extra  mta_tax  tip_amount  tolls_amount  \\\n",
       "0         12.0    1.0      0.5        3.25           0.0   \n",
       "1         14.5    0.5      0.5        2.00           0.0   \n",
       "2          9.5    0.5      0.5        0.00           0.0   \n",
       "3          3.5    0.5      0.5        0.00           0.0   \n",
       "4         15.0    0.5      0.5        0.00           0.0   \n",
       "\n",
       "   improvement_surcharge  total_amount  \n",
       "0                    0.3         17.05  \n",
       "1                    0.3         17.80  \n",
       "2                    0.3         10.80  \n",
       "3                    0.3          4.80  \n",
       "4                    0.3         16.30  "
      ]
     },
     "execution_count": 4,
     "metadata": {},
     "output_type": "execute_result"
    }
   ],
   "source": [
    "ddf.head()"
   ]
  },
  {
   "cell_type": "markdown",
   "id": "a74aafd5-ae67-4f04-a62f-009b7dd48ca0",
   "metadata": {},
   "source": [
    "Our task is to predict trip distance (the elapsed trip distance in miles reported by the taximeter), meaning 'trip_distance' will be our dependent variable. For that purpose we can use some or all of the following features:\n",
    "\n",
    "* VendorID - A code indicating the TPEP provider that provided the record, where 1 = Creative Mobile Technologies and 2 = VeriFone Inc.\n",
    "* tpep_pickup_datetime - The date and time when the meter was engaged.\n",
    "* tpep_dropoff_datetime - The date and time when the meter was disengaged.\n",
    "* passenger_count - The number of passengers in the vehicle. This is a driver-entered value.\n",
    "* pickup_longitude - Longitude where the meter was engaged.\n",
    "* pickup_latitude - Latitude where the meter was engaged.\n",
    "* RateCodeID - The final rate code in effect at the end of the trip, where 1 = Standard rate, 2 = JFK, 3 = Newark, 4 = Nassau or Westchester, 5 = Negotiated fare and 6 = Group ride.\n",
    "* store_and_fwd_flag - This flag indicates whether the trip record was held in vehicle memory before sending to the vendor, aka “store and forward,” because the vehicle did not have a connection to the server, where Y = store and forward trip and N = not a store and forward trip.\n",
    "* dropoff_longitude - Longitude where the meter was disengaged.\n",
    "* dropoff_latitude - Latitude where the meter was disengaged.\n",
    "* payment_type - A numeric code signifying how the passenger paid for the trip, wher 1 = Credit Card and 2 = Cash, 3 = No charge, 4 = Dispute, 5 = Unknown, 6 = Voided trip.\n",
    "* fare_amount - The time-and-distance fare calculated by the meter.\n",
    "* extra - Miscellaneous extras and surcharges. Currently, this only includes the 0.50 dollar and 1 dollar rush hour and overnight charges.\n",
    "* mta_tax - 0.50 MTA tax that is automatically triggered based on the metered rate in use.\n",
    "* tip_amount - This field is automatically populated for credit card tips. Cash tips are not included.\n",
    "* tolls_amount - Total amount of all tolls paid in trip.\n",
    "* improvement_surcharge - 0.30 improvement surcharge assessed trips at the flag drop. the improvement surcharge began being levied in 2015.\n",
    "* total_amount - The total amount charged to passengers. Does not include cash trips."
   ]
  },
  {
   "cell_type": "markdown",
   "id": "91442adb-33fe-48b5-a54e-9eb701382c84",
   "metadata": {},
   "source": [
    "## Data preprocessing"
   ]
  },
  {
   "cell_type": "markdown",
   "id": "1ba8d4c9-6700-486e-a4f6-490fc5f0e4fa",
   "metadata": {},
   "source": [
    "From the description of the features, it's evident that some are not beneficial for predicting the dependent variable. For example, features such as 'mta_tax' and 'improvement_surcharge' are supposed to be constant values and can be dropped immediately. Furthermore, we can also consider the columns 'store_and_fwd_flag' and 'VendorID' to be of no significance in predicting 'trip_distance'."
   ]
  },
  {
   "cell_type": "code",
   "execution_count": 4,
   "id": "05530799-7033-4395-a4f5-5acbb76ae949",
   "metadata": {},
   "outputs": [],
   "source": [
    "ddf = ddf.drop(['mta_tax', 'improvement_surcharge', 'store_and_fwd_flag', 'VendorID'], axis=1)"
   ]
  },
  {
   "cell_type": "markdown",
   "id": "1514065e-a940-40ed-9c24-77889e22ed5d",
   "metadata": {},
   "source": [
    "#### Check for missing values"
   ]
  },
  {
   "cell_type": "markdown",
   "id": "c3772f34-0f85-4d69-a42b-016f78c6362c",
   "metadata": {},
   "source": [
    "Fortunately for us, there are no missing values, so we can just continue with our analysis."
   ]
  },
  {
   "cell_type": "code",
   "execution_count": 5,
   "id": "153b6768-d146-4680-8192-e3381b3a87f2",
   "metadata": {},
   "outputs": [
    {
     "name": "stdout",
     "output_type": "stream",
     "text": [
      "tpep_pickup_datetime     0\n",
      "tpep_dropoff_datetime    0\n",
      "passenger_count          0\n",
      "trip_distance            0\n",
      "pickup_longitude         0\n",
      "pickup_latitude          0\n",
      "RateCodeID               0\n",
      "dropoff_longitude        0\n",
      "dropoff_latitude         0\n",
      "payment_type             0\n",
      "fare_amount              0\n",
      "extra                    0\n",
      "tip_amount               0\n",
      "tolls_amount             0\n",
      "total_amount             0\n",
      "dtype: int64\n"
     ]
    }
   ],
   "source": [
    "nan_counts = ddf.isna().sum().compute()\n",
    "print(nan_counts)"
   ]
  },
  {
   "cell_type": "markdown",
   "id": "e8bd2f8f-58e1-4d0b-b9ec-6ba576f0128d",
   "metadata": {},
   "source": [
    "#### Handling datetime features"
   ]
  },
  {
   "cell_type": "markdown",
   "id": "bb3a42ff-a4b2-476f-8777-1c09f43068fb",
   "metadata": {},
   "source": [
    "From tpep_pickup_datetime and tpep_dropoff_datetime we created three features:\n",
    "* day_of_week - Day of the week when trip happened (0 = Monday, 6 = Sunday)\n",
    "* hour - Hour in which pickup happened.\n",
    "* trip_duration - Calculated as difference in minutes between dropoff and pickup time."
   ]
  },
  {
   "cell_type": "code",
   "execution_count": 6,
   "id": "86d07da2-a39d-4f07-a413-ec6f2fd4e494",
   "metadata": {},
   "outputs": [],
   "source": [
    "# convert to datetime format\n",
    "ddf['tpep_pickup_datetime'] = dd.to_datetime(ddf['tpep_pickup_datetime'], format='%Y-%m-%d %H:%M:%S')\n",
    "ddf['tpep_dropoff_datetime'] = dd.to_datetime(ddf['tpep_dropoff_datetime'], format='%Y-%m-%d %H:%M:%S')\n",
    "\n",
    "# create new columns hour and day_of_week\n",
    "ddf['day_of_week'] = ddf['tpep_pickup_datetime'].dt.dayofweek \n",
    "ddf['hour'] = ddf['tpep_pickup_datetime'].dt.hour\n",
    "\n",
    "# compute trip duration in minutes\n",
    "ddf['trip_duration'] = ((ddf['tpep_dropoff_datetime'] - ddf['tpep_pickup_datetime']).dt.total_seconds())/60\n",
    "\n",
    "# drop columns\n",
    "ddf = ddf.drop(['tpep_pickup_datetime', 'tpep_dropoff_datetime'], axis=1)"
   ]
  },
  {
   "cell_type": "markdown",
   "id": "4cdcd109-05a3-41d6-85ca-8bced354008e",
   "metadata": {},
   "source": [
    "#### Encoding"
   ]
  },
  {
   "cell_type": "markdown",
   "id": "6c6830d3-cb4d-4c1d-966d-074136b9e83c",
   "metadata": {},
   "source": [
    "Since we don't expect exact day of the week to play significant role, we will encode it into a binary variable weekend, marking Saturday and Sunday as 1, and rest of the days as 0."
   ]
  },
  {
   "cell_type": "code",
   "execution_count": 7,
   "id": "2499c216-a1f7-4772-844c-da5e083c918e",
   "metadata": {},
   "outputs": [],
   "source": [
    "ddf['weekend'] = ddf['day_of_week'].map(lambda x: 0 if x < 5 else 1, meta=('weekend', 'int64'))\n",
    "ddf = ddf.drop(['day_of_week'], axis=1)"
   ]
  },
  {
   "cell_type": "markdown",
   "id": "d6145244-0e64-4d3f-b75e-3fc92204a2fe",
   "metadata": {},
   "source": [
    "#### Handling coordinates features"
   ]
  },
  {
   "cell_type": "markdown",
   "id": "1c79a4dd-7db4-413c-a217-b644f292d66b",
   "metadata": {},
   "source": [
    "\n",
    "The pickup and dropoff longitude and latitude, by themselves, may not provide much insight into the trip distance. However, we anticipate that the absolute difference between the pickup and dropoff latitudes, as well as the pickup and dropoff longitudes, will be valuable in estimating trip distance Because of thisy, we will introduce a new feature, 'll_diff', which represents the sum of the absolute differences in both latitude and longitud.e"
   ]
  },
  {
   "cell_type": "code",
   "execution_count": 8,
   "id": "56309a92-0bcd-43a1-a450-ac4379343e21",
   "metadata": {},
   "outputs": [],
   "source": [
    "ll_diff = (abs(ddf['pickup_latitude'] - ddf['dropoff_latitude'])) + (abs(ddf['pickup_longitude'] - ddf['dropoff_longitude']))\n",
    "ddf = ddf.drop(['pickup_latitude', 'pickup_longitude', 'dropoff_latitude', 'dropoff_longitude'], axis=1)\n",
    "ddf['ll_diff'] = ll_diff"
   ]
  },
  {
   "cell_type": "markdown",
   "id": "3b26bdee-0279-44dd-8bf2-9bc6a8eaf306",
   "metadata": {},
   "source": [
    "#### Remove duplicate rows"
   ]
  },
  {
   "cell_type": "code",
   "execution_count": 9,
   "id": "bd44f2a4-dc17-43ea-b17b-20ede790dc0d",
   "metadata": {},
   "outputs": [],
   "source": [
    "# drop dulicates\n",
    "ddf = ddf.drop_duplicates()"
   ]
  },
  {
   "cell_type": "markdown",
   "id": "5bc7ddea-fb3f-466a-ba3a-11f37d3a12d5",
   "metadata": {},
   "source": [
    "#### Remove outliers and invalid values"
   ]
  },
  {
   "cell_type": "markdown",
   "id": "a36a4e63-8c91-4314-8757-bd334917248b",
   "metadata": {},
   "source": [
    "Firstly we want to check statistics on features, such as minimum and maximum values. These values will indicate if there are negative values for features that shouldn't have negative values, or if there are outliers that are nonsensical and should be removed."
   ]
  },
  {
   "cell_type": "code",
   "execution_count": 12,
   "id": "2721fc1c-5812-4a1c-854f-0a8c8b5f5786",
   "metadata": {},
   "outputs": [
    {
     "name": "stderr",
     "output_type": "stream",
     "text": [
      "BokehDeprecationWarning: 'square() method' was deprecated in Bokeh 3.4.0 and will be removed, use \"scatter(marker='square', ...) instead\" instead.\n",
      "BokehDeprecationWarning: 'square() method' was deprecated in Bokeh 3.4.0 and will be removed, use \"scatter(marker='square', ...) instead\" instead.\n",
      "BokehDeprecationWarning: 'square() method' was deprecated in Bokeh 3.4.0 and will be removed, use \"scatter(marker='square', ...) instead\" instead.\n"
     ]
    },
    {
     "data": {
      "text/html": [
       "<div>\n",
       "<style scoped>\n",
       "    .dataframe tbody tr th:only-of-type {\n",
       "        vertical-align: middle;\n",
       "    }\n",
       "\n",
       "    .dataframe tbody tr th {\n",
       "        vertical-align: top;\n",
       "    }\n",
       "\n",
       "    .dataframe thead th {\n",
       "        text-align: right;\n",
       "    }\n",
       "</style>\n",
       "<table border=\"1\" class=\"dataframe\">\n",
       "  <thead>\n",
       "    <tr style=\"text-align: right;\">\n",
       "      <th></th>\n",
       "      <th>passenger_count</th>\n",
       "      <th>trip_distance</th>\n",
       "      <th>RateCodeID</th>\n",
       "      <th>payment_type</th>\n",
       "      <th>fare_amount</th>\n",
       "      <th>extra</th>\n",
       "      <th>tip_amount</th>\n",
       "      <th>tolls_amount</th>\n",
       "      <th>total_amount</th>\n",
       "      <th>hour</th>\n",
       "      <th>trip_duration</th>\n",
       "      <th>weekend</th>\n",
       "      <th>ll_diff</th>\n",
       "    </tr>\n",
       "  </thead>\n",
       "  <tbody>\n",
       "    <tr>\n",
       "      <th>count</th>\n",
       "      <td>2.363899e+07</td>\n",
       "      <td>2.363899e+07</td>\n",
       "      <td>2.363899e+07</td>\n",
       "      <td>2.363899e+07</td>\n",
       "      <td>2.363899e+07</td>\n",
       "      <td>2.363899e+07</td>\n",
       "      <td>2.363899e+07</td>\n",
       "      <td>2.363899e+07</td>\n",
       "      <td>2.363899e+07</td>\n",
       "      <td>2.363899e+07</td>\n",
       "      <td>2.363899e+07</td>\n",
       "      <td>2.363899e+07</td>\n",
       "      <td>2.363899e+07</td>\n",
       "    </tr>\n",
       "    <tr>\n",
       "      <th>mean</th>\n",
       "      <td>1.676991e+00</td>\n",
       "      <td>9.403154e+00</td>\n",
       "      <td>1.037925e+00</td>\n",
       "      <td>1.368231e+00</td>\n",
       "      <td>1.217762e+01</td>\n",
       "      <td>3.105060e-01</td>\n",
       "      <td>1.807314e+00</td>\n",
       "      <td>2.666573e-01</td>\n",
       "      <td>1.535930e+01</td>\n",
       "      <td>1.355789e+01</td>\n",
       "      <td>1.469020e+01</td>\n",
       "      <td>3.028431e-01</td>\n",
       "      <td>4.895489e-01</td>\n",
       "    </tr>\n",
       "    <tr>\n",
       "      <th>std</th>\n",
       "      <td>1.332240e+00</td>\n",
       "      <td>7.507586e+03</td>\n",
       "      <td>6.028548e-01</td>\n",
       "      <td>4.954035e-01</td>\n",
       "      <td>2.531323e+01</td>\n",
       "      <td>5.180946e-01</td>\n",
       "      <td>8.125484e+02</td>\n",
       "      <td>1.607250e+00</td>\n",
       "      <td>8.129748e+02</td>\n",
       "      <td>6.402820e+00</td>\n",
       "      <td>4.804769e+02</td>\n",
       "      <td>4.594879e-01</td>\n",
       "      <td>7.144001e+00</td>\n",
       "    </tr>\n",
       "    <tr>\n",
       "      <th>min</th>\n",
       "      <td>0.000000e+00</td>\n",
       "      <td>0.000000e+00</td>\n",
       "      <td>1.000000e+00</td>\n",
       "      <td>1.000000e+00</td>\n",
       "      <td>-9.576000e+02</td>\n",
       "      <td>-7.900000e+01</td>\n",
       "      <td>-2.208000e+02</td>\n",
       "      <td>-2.600000e+01</td>\n",
       "      <td>-9.584000e+02</td>\n",
       "      <td>0.000000e+00</td>\n",
       "      <td>-1.211017e+03</td>\n",
       "      <td>0.000000e+00</td>\n",
       "      <td>0.000000e+00</td>\n",
       "    </tr>\n",
       "    <tr>\n",
       "      <th>25%</th>\n",
       "      <td>1.000000e+00</td>\n",
       "      <td>1.000000e+00</td>\n",
       "      <td>1.000000e+00</td>\n",
       "      <td>1.000000e+00</td>\n",
       "      <td>6.500000e+00</td>\n",
       "      <td>0.000000e+00</td>\n",
       "      <td>0.000000e+00</td>\n",
       "      <td>0.000000e+00</td>\n",
       "      <td>8.300000e+00</td>\n",
       "      <td>9.000000e+00</td>\n",
       "      <td>6.216667e+00</td>\n",
       "      <td>0.000000e+00</td>\n",
       "      <td>1.541138e-02</td>\n",
       "    </tr>\n",
       "    <tr>\n",
       "      <th>50%</th>\n",
       "      <td>1.000000e+00</td>\n",
       "      <td>1.690000e+00</td>\n",
       "      <td>1.000000e+00</td>\n",
       "      <td>1.000000e+00</td>\n",
       "      <td>9.000000e+00</td>\n",
       "      <td>0.000000e+00</td>\n",
       "      <td>1.160000e+00</td>\n",
       "      <td>0.000000e+00</td>\n",
       "      <td>1.130000e+01</td>\n",
       "      <td>1.400000e+01</td>\n",
       "      <td>1.021667e+01</td>\n",
       "      <td>0.000000e+00</td>\n",
       "      <td>2.652359e-02</td>\n",
       "    </tr>\n",
       "    <tr>\n",
       "      <th>75%</th>\n",
       "      <td>2.000000e+00</td>\n",
       "      <td>3.050000e+00</td>\n",
       "      <td>1.000000e+00</td>\n",
       "      <td>2.000000e+00</td>\n",
       "      <td>1.350000e+01</td>\n",
       "      <td>5.000000e-01</td>\n",
       "      <td>2.200000e+00</td>\n",
       "      <td>0.000000e+00</td>\n",
       "      <td>1.680000e+01</td>\n",
       "      <td>1.900000e+01</td>\n",
       "      <td>1.631667e+01</td>\n",
       "      <td>1.000000e+00</td>\n",
       "      <td>4.867554e-02</td>\n",
       "    </tr>\n",
       "    <tr>\n",
       "      <th>max</th>\n",
       "      <td>9.000000e+00</td>\n",
       "      <td>1.542000e+07</td>\n",
       "      <td>9.900000e+01</td>\n",
       "      <td>5.000000e+00</td>\n",
       "      <td>1.112709e+05</td>\n",
       "      <td>9.999900e+02</td>\n",
       "      <td>3.950589e+06</td>\n",
       "      <td>1.450090e+03</td>\n",
       "      <td>3.950612e+06</td>\n",
       "      <td>2.300000e+01</td>\n",
       "      <td>5.485556e+05</td>\n",
       "      <td>1.000000e+00</td>\n",
       "      <td>6.661709e+02</td>\n",
       "    </tr>\n",
       "  </tbody>\n",
       "</table>\n",
       "</div>"
      ],
      "text/plain": [
       "       passenger_count  trip_distance    RateCodeID  payment_type  \\\n",
       "count     2.363899e+07   2.363899e+07  2.363899e+07  2.363899e+07   \n",
       "mean      1.676991e+00   9.403154e+00  1.037925e+00  1.368231e+00   \n",
       "std       1.332240e+00   7.507586e+03  6.028548e-01  4.954035e-01   \n",
       "min       0.000000e+00   0.000000e+00  1.000000e+00  1.000000e+00   \n",
       "25%       1.000000e+00   1.000000e+00  1.000000e+00  1.000000e+00   \n",
       "50%       1.000000e+00   1.690000e+00  1.000000e+00  1.000000e+00   \n",
       "75%       2.000000e+00   3.050000e+00  1.000000e+00  2.000000e+00   \n",
       "max       9.000000e+00   1.542000e+07  9.900000e+01  5.000000e+00   \n",
       "\n",
       "        fare_amount         extra    tip_amount  tolls_amount  total_amount  \\\n",
       "count  2.363899e+07  2.363899e+07  2.363899e+07  2.363899e+07  2.363899e+07   \n",
       "mean   1.217762e+01  3.105060e-01  1.807314e+00  2.666573e-01  1.535930e+01   \n",
       "std    2.531323e+01  5.180946e-01  8.125484e+02  1.607250e+00  8.129748e+02   \n",
       "min   -9.576000e+02 -7.900000e+01 -2.208000e+02 -2.600000e+01 -9.584000e+02   \n",
       "25%    6.500000e+00  0.000000e+00  0.000000e+00  0.000000e+00  8.300000e+00   \n",
       "50%    9.000000e+00  0.000000e+00  1.160000e+00  0.000000e+00  1.130000e+01   \n",
       "75%    1.350000e+01  5.000000e-01  2.200000e+00  0.000000e+00  1.680000e+01   \n",
       "max    1.112709e+05  9.999900e+02  3.950589e+06  1.450090e+03  3.950612e+06   \n",
       "\n",
       "               hour  trip_duration       weekend       ll_diff  \n",
       "count  2.363899e+07   2.363899e+07  2.363899e+07  2.363899e+07  \n",
       "mean   1.355789e+01   1.469020e+01  3.028431e-01  4.895489e-01  \n",
       "std    6.402820e+00   4.804769e+02  4.594879e-01  7.144001e+00  \n",
       "min    0.000000e+00  -1.211017e+03  0.000000e+00  0.000000e+00  \n",
       "25%    9.000000e+00   6.216667e+00  0.000000e+00  1.541138e-02  \n",
       "50%    1.400000e+01   1.021667e+01  0.000000e+00  2.652359e-02  \n",
       "75%    1.900000e+01   1.631667e+01  1.000000e+00  4.867554e-02  \n",
       "max    2.300000e+01   5.485556e+05  1.000000e+00  6.661709e+02  "
      ]
     },
     "execution_count": 12,
     "metadata": {},
     "output_type": "execute_result"
    }
   ],
   "source": [
    "# statistics on columns\n",
    "ddf.describe().compute()"
   ]
  },
  {
   "cell_type": "markdown",
   "id": "7dfd2917-88e2-4d18-be7f-9cc2743f883c",
   "metadata": {},
   "source": [
    "By checking the values in the table above, we can already identify some outliers and invalid values. Columns such as 'fare_amount', 'extra', 'tip_amount', 'tolls_amount' and 'total_amount' contain negative values, which must be removed since payments cannot be negative. Similarly, 'trip_distance', 'trip_duration' and 'll_diff' have 0 values, as if the trip didn't even happen. Furthemore, there are some extremly high values in 'trip_distance', 'fare_amount' and 'total_amount', that should be removed. "
   ]
  },
  {
   "cell_type": "code",
   "execution_count": 13,
   "id": "7d3a4f70-4b1b-4367-a6f8-82540418d3f1",
   "metadata": {},
   "outputs": [],
   "source": [
    "# remove rows with negative values\n",
    "ddf = ddf[(ddf['trip_distance'] > 0) & (ddf['fare_amount'] > 0) & (ddf['tip_amount'] >= 0)& (ddf['tolls_amount'] >= 0) & (ddf['total_amount'] > 0)]\n",
    "\n",
    "# remove rows where trip_distance, trip_duration, latitude_diff and longitude_diff are 0\n",
    "ddf = ddf[(ddf['trip_duration'] != 0)  & (ddf['ll_diff'] != 0)]\n",
    "\n",
    "# remove unreasonably high outliers\n",
    "upper_bound = 400\n",
    "ddf = ddf[(ddf['trip_distance'] <= 100) & (ddf['fare_amount'] <= upper_bound) & (ddf['tip_amount'] <= upper_bound) & (ddf['tolls_amount'] <= upper_bound)]\n",
    "ddf = ddf[ddf['ll_diff'] < 2]\n",
    "\n",
    "# keep only trips that lasted between 1min and 2 hours\n",
    "ddf = ddf[(ddf['trip_duration'] <= 120) & (ddf['trip_duration'] > 1)]\n",
    "\n",
    "# remove invalid values\n",
    "ddf = ddf[(ddf['extra'] <= 1) & (ddf['RateCodeID'] <= 6)]"
   ]
  },
  {
   "cell_type": "markdown",
   "id": "559704c7-0a5d-48aa-8af2-669bfc5b4447",
   "metadata": {},
   "source": [
    "Next, we will check the speed of the driver. We don't know laws on speed limits in New York city, but if on some route we get average speed over 120 km/h, we can assume that the data was not correctly collected and we can drop such rows."
   ]
  },
  {
   "cell_type": "code",
   "execution_count": 14,
   "id": "364104f5-3cdb-4666-9ed9-14bdf3813950",
   "metadata": {},
   "outputs": [],
   "source": [
    "# calculate speed in miles per hour\n",
    "ddf['speed_mph'] = ddf['trip_distance'] / (ddf['trip_duration'] / 3600)\n",
    "\n",
    "# speed limit in miles per hour\n",
    "speed_limit = 120 / 1.60934\n",
    "\n",
    "# filter ddf\n",
    "ddf = ddf[ddf['speed_mph'] > speed_limit]\n",
    "ddf = ddf.drop(['speed_mph'], axis=1)"
   ]
  },
  {
   "cell_type": "markdown",
   "id": "b65f6952-4146-47d3-8ae2-5307d5abcdc8",
   "metadata": {},
   "source": [
    "Lastly, we want to check how much data we have lost during the cleaning process to make sure we didn't put the upper bounds for filtering too high. "
   ]
  },
  {
   "cell_type": "code",
   "execution_count": 15,
   "id": "83b0e186-4ed1-416d-91fa-ee3fb3e4dc8f",
   "metadata": {},
   "outputs": [
    {
     "name": "stdout",
     "output_type": "stream",
     "text": [
      "Total data points after data cleaning: 22909973.0\n",
      "Percentage of lost data after cleaning: 3.153009463538904 %\n"
     ]
    }
   ],
   "source": [
    "# persist ddf for faster computation\n",
    "ddf_persisted = ddf.persist()\n",
    "\n",
    "# total number of data points in the ddf\n",
    "n2 = ddf_persisted.shape[0].compute()\n",
    "print(f\"Total data points after data cleaning: {n2}\")\n",
    "print(f\"Percentage of lost data after cleaning: {100*(n-n2)/n} %\")"
   ]
  },
  {
   "cell_type": "markdown",
   "id": "7bee293b-0d42-48a9-9a90-e7b1c96546da",
   "metadata": {},
   "source": [
    "#### Feature selection"
   ]
  },
  {
   "cell_type": "markdown",
   "id": "0d5a4105-8fb7-4e32-93eb-594041562d0b",
   "metadata": {},
   "source": [
    "To analyze the correlation between different features and between dependent variable and features, we will plot correlation matrix. Usually we want to to this only on the training set, to prevent any look-ahead bias, which occurs when information from the test set is used to influence the training process. However, we want to evaluate our model with 5-fold cross-validation, meaning each data point will eventually end up in the training set. We can minimize this bias of performing correlation analysis on the whole dataset by limiting the analysis to a random sample that will only contain 5% of the original data, which will also help will faster computation."
   ]
  },
  {
   "cell_type": "code",
   "execution_count": 16,
   "id": "008e40b2-0495-4c86-a41b-6f5b23031cbc",
   "metadata": {},
   "outputs": [],
   "source": [
    "# create smaller sample dataframe\n",
    "sample_ddf = ddf.sample(frac=0.05, random_state=89)"
   ]
  },
  {
   "cell_type": "code",
   "execution_count": 17,
   "id": "77788585-fa0a-420d-9db7-bf89f1bcce72",
   "metadata": {},
   "outputs": [
    {
     "data": {
      "image/png": "[encoded data removed]",
      "text/plain": [
       "<Figure size 800x800 with 2 Axes>"
      ]
     },
     "metadata": {},
     "output_type": "display_data"
    },
    {
     "name": "stdout",
     "output_type": "stream",
     "text": [
      "CPU times: total: 3min 16s\n",
      "Wall time: 4min 50s\n"
     ]
    }
   ],
   "source": [
    "%%time\n",
    "\n",
    "# create correlation matrix\n",
    "corr_matrix = sample_ddf.corr().compute()\n",
    "mask = np.triu(np.ones_like(corr_matrix, dtype=bool))\n",
    "plt.figure(figsize=(8, 8))\n",
    "sns.heatmap(corr_matrix, mask=mask, annot=True, cmap='coolwarm', center=0,\n",
    "            square=True, linewidths=.5, cbar_kws={\"shrink\": .5}, fmt=\".2f\")\n",
    "\n",
    "plt.title('Correlation Matrix')\n",
    "plt.show()"
   ]
  },
  {
   "cell_type": "markdown",
   "id": "34a8c3ce-e6c5-416d-a916-b738494cac18",
   "metadata": {},
   "source": [
    "From the correlation matrix, we see that 'fare_amount', 'total_amount', 'll_diff' (the sum of the absolute differences in latitude and longitude), and 'trip_duration' are highly correlated with 'trip_distance', our dependent variable. Given that 'total_amount' is essentially 'fare_amount' with added tips, tolls, taxes, and extras, we will omit it from further analysis. We will focus instead on 'fare_amount' that directly depends on the distance and duration of the trip. We can expect to get great results only by using 'fare_amount' and 'trip duration' to predict 'trip_distance', because we know that 'fare_amount' is calculated only based on time and distance of the trip. We will also include 'll_diff' in analysis, because we can expect it to be significant in randomized models like Random Trees. In case of one of three features having incorrect input, others two will be able to balance it out."
   ]
  },
  {
   "cell_type": "code",
   "execution_count": 18,
   "id": "76cdb00e-ef17-4206-8c51-8b287a3d6f5a",
   "metadata": {},
   "outputs": [],
   "source": [
    "# remove columns that we won't use\n",
    "ddf = ddf.drop(['passenger_count', 'payment_type', 'total_amount', 'tip_amount', 'tolls_amount', 'RateCodeID', 'hour', 'weekend', 'extra'], axis=1) "
   ]
  },
  {
   "cell_type": "markdown",
   "id": "8b31c53f-dba4-4e0b-8da4-837d90fb8214",
   "metadata": {},
   "source": [
    "#### Data visualization"
   ]
  },
  {
   "cell_type": "markdown",
   "id": "0936ef4a-4c6e-4f03-b9f6-9eacb87d153d",
   "metadata": {},
   "source": [
    "Next, we will plot the distribution of dependent variable trip_distance and the features we will use for training the models: fare_amount, trip_duration and ll_diff. We already persisted ddf for faster computation, so we will just bring the relavant columns into local memory to plot them."
   ]
  },
  {
   "cell_type": "code",
   "execution_count": 19,
   "id": "8d1c76dd-46d3-4817-a6ce-804c46c65cb6",
   "metadata": {},
   "outputs": [],
   "source": [
    "# bring relevant columns into local memory\n",
    "ll_diff = ddf_persisted['ll_diff'].compute()\n",
    "trip_duration = ddf_persisted['trip_duration'].compute()\n",
    "fare_amount = ddf_persisted['fare_amount'].compute()\n",
    "trip_distance = ddf_persisted['trip_distance'].compute()"
   ]
  },
  {
   "cell_type": "code",
   "execution_count": 21,
   "id": "e0b1ddd9-8b4f-4f0d-9f53-a81b543d8cb7",
   "metadata": {},
   "outputs": [
    {
     "data": {
      "image/png": "[encoded data removed]",
      "text/plain": [
       "<Figure size 1200x600 with 4 Axes>"
      ]
     },
     "metadata": {},
     "output_type": "display_data"
    }
   ],
   "source": [
    "fig, axs = plt.subplots(nrows=1, ncols=4, figsize=(12, 6))\n",
    "\n",
    "sns.boxplot(y=ll_diff, ax=axs[0])\n",
    "axs[0].set_title('ll_diff')\n",
    "\n",
    "sns.boxplot(y=trip_duration, ax=axs[1])\n",
    "axs[1].set_title('trip_duration')\n",
    "\n",
    "sns.boxplot(y=fare_amount, ax=axs[2])\n",
    "axs[2].set_title('fare_amount')\n",
    "\n",
    "sns.boxplot(y=trip_distance, ax=axs[3])\n",
    "axs[3].set_title('trip_distance')\n",
    "\n",
    "plt.tight_layout()\n",
    "plt.show()"
   ]
  },
  {
   "cell_type": "markdown",
   "id": "85f5230e-2789-4cb3-8a48-8a74de6ce255",
   "metadata": {},
   "source": [
    "Our plots suggest that we still have some 'outliers'. However, those 'outliers' are not something that is impossible or unreasonable to happen. In 23 million rides we can expect at least some to take around 2 hours or to be around 100 miles. "
   ]
  },
  {
   "cell_type": "code",
   "execution_count": 20,
   "id": "669c3643-0e57-4b09-9d40-9126b4e7a694",
   "metadata": {},
   "outputs": [],
   "source": [
    "# remove persisted ddf\n",
    "client.cancel(ddf_persisted)\n",
    "del ddf_persisted"
   ]
  },
  {
   "cell_type": "markdown",
   "id": "dc8f5944-119e-4b6e-be63-cc1d4ed16af6",
   "metadata": {},
   "source": [
    "## Machine Learning models"
   ]
  },
  {
   "cell_type": "markdown",
   "id": "c7f8136b-afcf-4c24-bbae-baf753a52f67",
   "metadata": {},
   "source": [
    "### Linear regression"
   ]
  },
  {
   "cell_type": "markdown",
   "id": "f58808a0-6c32-4c8a-b2e7-451caeb77f7c",
   "metadata": {},
   "source": [
    "In this section, we implemented a linear regression model with 5-Fold cross-validation to evaluate the performance. The features were standardized using StandardScaler to ensure uniformity across different scales, which is crucial for linear regression model. The root mean squared error (RMSE) was computed for each fold, as a measure of the model's predictive accuracy."
   ]
  },
  {
   "cell_type": "code",
   "execution_count": 22,
   "id": "e0ba19b8-3cfb-46f5-a583-de7215ec018b",
   "metadata": {},
   "outputs": [],
   "source": [
    "# split X (independent variables) and y (dependent variable)\n",
    "def split_X_y(ddf):\n",
    "    X = ddf.drop(columns=['trip_distance'])\n",
    "    X = X.to_dask_array(lengths=True)\n",
    "    y = ddf.trip_distance\n",
    "    y = y.to_dask_array(lengths=True)\n",
    "    return X, y"
   ]
  },
  {
   "cell_type": "code",
   "execution_count": 27,
   "id": "72899230-f865-436a-bc43-682366d4e52a",
   "metadata": {},
   "outputs": [
    {
     "name": "stdout",
     "output_type": "stream",
     "text": [
      "Fold 1 finished in 1130.6909530162811 s.\n",
      "Fold 2 finished in 1095.9052572250366 s.\n",
      "Fold 3 finished in 1100.8861110210419 s.\n",
      "Fold 4 finished in 1115.5140647888184 s.\n",
      "Fold 5 finished in 1117.4705052375793 s.\n"
     ]
    }
   ],
   "source": [
    "X, y = split_X_y(ddf)\n",
    "scaler = StandardScaler()\n",
    "kf = KFold(n_splits=5, shuffle=True)\n",
    "\n",
    "rmse_scores = []\n",
    "lr_coeffs = []\n",
    "fold = 1\n",
    "for train_index, test_index in kf.split(X):\n",
    "    start = time.time()\n",
    "    X_train, X_test = X[train_index], X[test_index]\n",
    "    y_train, y_test = y[train_index], y[test_index]\n",
    "    \n",
    "    # standardize features\n",
    "    X_train = scaler.fit_transform(X_train)\n",
    "    X_test = scaler.transform(X_test)\n",
    "    \n",
    "    model = LinearRegression(solver='lbfgs', max_iter=10)\n",
    "    model.fit(X_train, y_train)\n",
    "    lr_coeffs.append(model.coef_)\n",
    "    \n",
    "    y_pred = model.predict(X_test)\n",
    "\n",
    "    # compute rmse\n",
    "    rmse = sqrt(mean_squared_error(y_test, y_pred))  \n",
    "    rmse_scores.append(rmse)\n",
    "    \n",
    "    end = time.time()\n",
    "    print(f\"Fold {fold} finished in {end-start} s.\")\n",
    "    fold += 1"
   ]
  },
  {
   "cell_type": "code",
   "execution_count": 28,
   "id": "e7ebbb89-5b5b-4964-9723-4f6f337400ae",
   "metadata": {},
   "outputs": [
    {
     "name": "stdout",
     "output_type": "stream",
     "text": [
      "Average RMSE for linear model: 0.7273755466112122\n",
      "Standard deviation of RMSE: 0.003912132093290482\n"
     ]
    }
   ],
   "source": [
    "# calculate average coefficients of linear model\n",
    "stacked_coeffs = np.vstack(lr_coeffs)\n",
    "coeffs = np.mean(stacked_coeffs, axis=0)\n",
    "coeffs_std = np.std(stacked_coeffs, axis=0)\n",
    "\n",
    "# calculate average score its standard deviation across all folds\n",
    "lr_rmse = np.mean(rmse_scores)\n",
    "lr_rmse_std = np.std(rmse_scores)\n",
    "print(f\"Average RMSE for linear model: {lr_rmse}\")\n",
    "print(f\"Standard deviation of RMSE: {lr_rmse_std}\")"
   ]
  },
  {
   "cell_type": "markdown",
   "id": "7ff2d1c7-71e3-4e48-b219-e74f26053cf4",
   "metadata": {},
   "source": [
    "\n",
    "Next, we will plot the average values of the linear regression coefficients and their standard deviation across 5 folds. However, we must consider that the variables used for training the model are highly correlated, so interpreting feature importance here won't make sense. When variables are highly correlated, it's difficult to determine how each one individually affects the outcome because they can distort each other't importance."
   ]
  },
  {
   "cell_type": "code",
   "execution_count": 45,
   "id": "7f98a369-4a6f-4b20-b5e4-a659d48b438a",
   "metadata": {},
   "outputs": [
    {
     "name": "stdout",
     "output_type": "stream",
     "text": [
      "Intercept: 2.8505310554700123\n"
     ]
    },
    {
     "data": {
      "image/png": "[encoded data removed]",
      "text/plain": [
       "<Figure size 640x480 with 1 Axes>"
      ]
     },
     "metadata": {},
     "output_type": "display_data"
    }
   ],
   "source": [
    "print(f\"Intercept: {model.intercept_}\")\n",
    "indices = np.arange(len(coeffs)) \n",
    "names = ddf.columns.tolist()\n",
    "names.remove('trip_distance')\n",
    "\n",
    "# plot coefficients\n",
    "plt.style.use('ggplot')\n",
    "fig, ax = plt.subplots()\n",
    "ax.barh(indices, coeffs, xerr=coeffs_std, align='center', alpha=0.7, ecolor='black', capsize=5, color='royalblue')\n",
    "ax.set_xlabel('Value')\n",
    "ax.set_yticks(indices)\n",
    "ax.set_yticklabels(names)\n",
    "ax.set_title('Average Coefficients with Standard Deviation across 5 folds')\n",
    "plt.tight_layout()\n",
    "plt.show()"
   ]
  },
  {
   "cell_type": "markdown",
   "id": "7cadae26-acb2-4d01-b935-0ce5fd08bb20",
   "metadata": {},
   "source": [
    "### Decision Tree Regression"
   ]
  },
  {
   "cell_type": "markdown",
   "id": "81e97c0f-e618-45f1-b4c8-c167e267bb5f",
   "metadata": {},
   "source": [
    "Next, we will train decision tree model for predicting trip distance using same three features: 'll_diff', 'trip_duration' and 'fare_amount'. Again, we will use RMSE as performance metric and evaluate model using 5-fold cross-validation. In decision tree models standardization of the data doesn't affect the results, so we decided not to standardize. For finding optimal max tree depth we will perform nested cross-validation with grid search - for each iteration of outer 5-fold cross-validation, we will perform 3-fold cross-validation on four folds that belong to the training set, to find optimal tree depth. "
   ]
  },
  {
   "cell_type": "code",
   "execution_count": 25,
   "id": "ea428867-4706-41ba-8f5b-a764d7bf4499",
   "metadata": {},
   "outputs": [
    {
     "name": "stdout",
     "output_type": "stream",
     "text": [
      "Outer fold 1 finished in 996.61963057518 s.\n",
      "Outer fold 2 finished in 766.6356868743896 s.\n",
      "Outer fold 3 finished in 479.16398191452026 s.\n",
      "Outer fold 4 finished in 484.8270869255066 s.\n",
      "Outer fold 5 finished in 470.6948380470276 s.\n"
     ]
    }
   ],
   "source": [
    "X, y = split_X_y(ddf)\n",
    "kf = KFold(n_splits=5, shuffle=True)\n",
    "\n",
    "# parameter grid for grid search\n",
    "param_grid = {\n",
    "    'max_depth': [10, 12, 15, 17],\n",
    "    'min_samples_leaf': [2],\n",
    "}\n",
    "\n",
    "dt_scores = []\n",
    "dt_imp = []\n",
    "tree_depth = []\n",
    "fold = 1\n",
    "\n",
    "# loop through folds\n",
    "for train_index, test_index in kf.split(X):\n",
    "    start = time.time()\n",
    "    X_train, X_test = X[train_index], X[test_index]\n",
    "    y_train, y_test = y[train_index], y[test_index]\n",
    "\n",
    "    # inner CV for hyperparameter tuning\n",
    "    dt = DecisionTreeRegressor()\n",
    "    grid_search = GridSearchCV(estimator=dt, param_grid=param_grid, cv=3, scoring='neg_mean_squared_error')\n",
    "    grid_search.fit(X_train, y_train)\n",
    "\n",
    "    # extract best model and its parameters\n",
    "    best_model = grid_search.best_estimator_\n",
    "    tree_depth.append(grid_search.best_params_)\n",
    "    dt_imp.append(best_model.feature_importances_)\n",
    "    \n",
    "    # get predictions\n",
    "    y_pred = best_model.predict(X_test)\n",
    "\n",
    "    # compute RMSE\n",
    "    rmse = sqrt(mean_squared_error(y_test, y_pred))  \n",
    "    dt_scores.append(rmse)\n",
    "    \n",
    "    end = time.time()\n",
    "    print(f\"Outer fold {fold} finished in {end-start} s.\")\n",
    "    fold += 1"
   ]
  },
  {
   "cell_type": "code",
   "execution_count": 26,
   "id": "0e2805de-7ef8-4acc-833c-02d4015f8cc3",
   "metadata": {},
   "outputs": [
    {
     "name": "stdout",
     "output_type": "stream",
     "text": [
      "Average RMSE for random forest model: 0.4668658195179177\n",
      "Standard deviation of RMSE: 0.0046632545835948985\n"
     ]
    }
   ],
   "source": [
    "# calculate average rmse and its std across all folds\n",
    "dt_rmse = np.mean(dt_scores)\n",
    "dt_rmse_std = np.std(dt_scores)\n",
    "print(f\"Average RMSE for random forest model: {dt_rmse}\")\n",
    "print(f\"Standard deviation of RMSE: {dt_rmse_std}\")"
   ]
  },
  {
   "cell_type": "code",
   "execution_count": 27,
   "id": "ab6d0720-2eb7-46a7-9e54-0f608dbb3c80",
   "metadata": {},
   "outputs": [
    {
     "data": {
      "text/plain": [
       "[{'max_depth': 15, 'min_samples_leaf': 2},\n",
       " {'max_depth': 15, 'min_samples_leaf': 2},\n",
       " {'max_depth': 15, 'min_samples_leaf': 2},\n",
       " {'max_depth': 15, 'min_samples_leaf': 2},\n",
       " {'max_depth': 12, 'min_samples_leaf': 2}]"
      ]
     },
     "execution_count": 27,
     "metadata": {},
     "output_type": "execute_result"
    }
   ],
   "source": [
    "dt_importances = np.mean(dt_imp, axis=0)\n",
    "dt_importances_std = np.std(dt_imp, axis=0)\n",
    "\n",
    "tree_depth"
   ]
  },
  {
   "cell_type": "markdown",
   "id": "32b28c50-1efd-447d-adee-259fd24acf55",
   "metadata": {},
   "source": [
    "We can see above that for 4 out of 5 iterations optimal max_depth was 15, while in the last iteration optimal max_depth was 12. Furthemore, decision tree model offers built-in function to extract feature importance. We will plot those feature importances with their standard deviations accross 5 iterations below."
   ]
  },
  {
   "cell_type": "code",
   "execution_count": 33,
   "id": "12656501-74be-4f6a-b63c-100c82b7099e",
   "metadata": {},
   "outputs": [
    {
     "data": {
      "image/png": "[encoded data removed]",
      "text/plain": [
       "<Figure size 640x480 with 1 Axes>"
      ]
     },
     "metadata": {},
     "output_type": "display_data"
    }
   ],
   "source": [
    "indices = np.arange(3) \n",
    "names = ddf.columns.tolist()\n",
    "names.remove('trip_distance')\n",
    "\n",
    "# plot importances\n",
    "fig, ax = plt.subplots()\n",
    "ax.barh(indices, dt_importances, xerr=dt_importances_std, align='center', alpha=0.7, ecolor='black', capsize=5, color='royalblue')\n",
    "ax.set_xlabel('Importance')\n",
    "ax.set_yticks(indices)\n",
    "ax.set_yticklabels(names)\n",
    "ax.set_title('Feature Importance in Decision Tree Regression')\n",
    "plt.show()"
   ]
  },
  {
   "cell_type": "markdown",
   "id": "cead3350-96e1-4629-a576-da0f26e259de",
   "metadata": {},
   "source": [
    "### Random Forest Regression"
   ]
  },
  {
   "cell_type": "markdown",
   "id": "d8e6ff1d-4d11-43a1-9442-946d26d8e449",
   "metadata": {},
   "source": [
    "For the random forest regression model, we will use a methodology similar to that used for the decision tree model - we will perform nested cross-validation, with an outer loop of 5 folds for model evaluation and an inner loop of 3 folds on the training data for hyperparameter tuning through grid search. A notable distinction for the random forest model is the grid search parameters: we will be adjusting for 'n_estimators' and 'max_depth'. Specifically, for 'n_estimators', we will test values of 15 and 25, and for 'max_depth', we will explore depths of 8, 10, and 12.g."
   ]
  },
  {
   "cell_type": "markdown",
   "id": "703e6103-4bfa-4cda-b4c1-4dc5bfa96b29",
   "metadata": {},
   "source": [
    "IMPORTANT NOTE: Ideally, we would extend our hyperparameter exploration to include a broader range of values for these two parameters, particularly increasing the number of estimators and considering a max depth of 15, which worked well in the decision tree model. In this ideal case we would also optimize other hyperparameters, such as: 'max_features', 'min_samples_leaf' and 'min_samples_split'. However, given the extensive dataset and the approach of nested cross-validation, training duration was pretty long even for such a limited parameter grid (approximately 5 hours and 40 minutes, as shown below). Due to these time constraints, we decided to stick with this simple parameter setting, just for the sake of demonstration."
   ]
  },
  {
   "cell_type": "code",
   "execution_count": 38,
   "id": "3a66fb1d-a8a5-4233-b481-78250e350679",
   "metadata": {},
   "outputs": [
    {
     "name": "stderr",
     "output_type": "stream",
     "text": [
      "BokehDeprecationWarning: 'square() method' was deprecated in Bokeh 3.4.0 and will be removed, use \"scatter(marker='square', ...) instead\" instead.\n"
     ]
    },
    {
     "name": "stdout",
     "output_type": "stream",
     "text": [
      "Outer fold 1 finished in 3773.878001689911 s.\n",
      "Outer fold 2 finished in 3976.238175868988 s.\n",
      "Outer fold 3 finished in 3751.420427083969 s.\n",
      "Outer fold 4 finished in 4193.493458509445 s.\n",
      "Outer fold 5 finished in 3725.7459874153137 s.\n"
     ]
    }
   ],
   "source": [
    "from dask_ml.model_selection import GridSearchCV\n",
    "\n",
    "kf = KFold(n_splits=5, shuffle=True)\n",
    "\n",
    "# parameter grid for grid search\n",
    "param_grid = {\n",
    "    'max_features': [2],\n",
    "    'n_estimators': [15, 25],\n",
    "    'max_depth': [8, 10, 12]\n",
    "}\n",
    "\n",
    "rf_scores = []\n",
    "rf_imp = []\n",
    "params = []\n",
    "fold = 1\n",
    "for train_index, test_index in kf.split(X):\n",
    "    start = time.time()\n",
    "    X_train, X_test = X[train_index], X[test_index]\n",
    "    y_train, y_test = y[train_index], y[test_index]\n",
    "\n",
    "    # inner CV for hyperparameter tuning\n",
    "    rf = RandomForestRegressor()\n",
    "    grid_search = GridSearchCV(estimator=rf, param_grid=param_grid, cv=3, scoring='neg_mean_squared_error')\n",
    "    grid_search.fit(X_train, y_train)\n",
    "\n",
    "    # extract best model and its parameters\n",
    "    best_model = grid_search.best_estimator_\n",
    "    params.append(grid_search.best_params_)\n",
    "    rf_imp.append(best_model.feature_importances_)\n",
    "    \n",
    "    # get predictions\n",
    "    y_pred = best_model.predict(X_test)\n",
    "\n",
    "    #compute rmse\n",
    "    rmse = sqrt(mean_squared_error(y_test, y_pred))  \n",
    "    rf_scores.append(rmse)\n",
    "    \n",
    "    end = time.time()\n",
    "    print(f\"Outer fold {fold} finished in {end-start} s.\")\n",
    "    fold += 1"
   ]
  },
  {
   "cell_type": "code",
   "execution_count": 39,
   "id": "5b8c3da1-1c10-4c09-a4d2-4d49c0c64116",
   "metadata": {},
   "outputs": [
    {
     "name": "stdout",
     "output_type": "stream",
     "text": [
      "Average RMSE for random forest model: 0.4509417639759958\n",
      "Standard deviation of RMSE: 0.005957130376671645\n"
     ]
    }
   ],
   "source": [
    "# calculate average rmse and its std across all folds\n",
    "rf_rmse = np.mean(rf_scores)\n",
    "rf_rmse_std = np.std(rf_scores)\n",
    "print(f\"Average RMSE for random forest model: {rf_rmse}\")\n",
    "print(f\"Standard deviation of RMSE: {rf_rmse_std}\")"
   ]
  },
  {
   "cell_type": "code",
   "execution_count": 46,
   "id": "d11dc44e-b241-4655-b5fe-ad7fb2423fcf",
   "metadata": {},
   "outputs": [
    {
     "data": {
      "text/plain": [
       "[{'max_depth': 12, 'max_features': 2, 'n_estimators': 25},\n",
       " {'max_depth': 12, 'max_features': 2, 'n_estimators': 25},\n",
       " {'max_depth': 12, 'max_features': 2, 'n_estimators': 25},\n",
       " {'max_depth': 12, 'max_features': 2, 'n_estimators': 25},\n",
       " {'max_depth': 12, 'max_features': 2, 'n_estimators': 25}]"
      ]
     },
     "execution_count": 46,
     "metadata": {},
     "output_type": "execute_result"
    }
   ],
   "source": [
    "rf_importances = np.mean(rf_imp, axis=0)\n",
    "rf_importances_std = np.std(rf_imp, axis=0)\n",
    "\n",
    "params"
   ]
  },
  {
   "cell_type": "markdown",
   "id": "d19087ef-a45a-40c6-bb45-1150a27337cb",
   "metadata": {},
   "source": [
    "In each iteration, a max_depth of 12 and 25 estimators were the optimal hyperparameter choices. These values are the highest available within the parameter grid for both max_depth and n_parameters. This strongly suggests that higher values should be explored for both hyperparameters, which could likely lead to further improvements in the performance of the random forest model."
   ]
  },
  {
   "cell_type": "code",
   "execution_count": 44,
   "id": "14bc120b-4c74-4a17-9e21-326689daf7e3",
   "metadata": {},
   "outputs": [
    {
     "data": {
      "image/png": "[encoded data removed]",
      "text/plain": [
       "<Figure size 640x480 with 1 Axes>"
      ]
     },
     "metadata": {},
     "output_type": "display_data"
    }
   ],
   "source": [
    "# plot importances\n",
    "fig, ax = plt.subplots()\n",
    "ax.barh(indices, rf_importances, xerr=rf_importances_std, align='center', alpha=0.7, ecolor='black', capsize=5, color='royalblue')\n",
    "ax.set_xlabel('Importance')\n",
    "ax.set_yticks(indices)\n",
    "ax.set_yticklabels(names)\n",
    "ax.set_title('Feature Importance in Random Forest Regression')\n",
    "plt.show()"
   ]
  },
  {
   "cell_type": "markdown",
   "id": "d0261b74-e29b-41a8-b631-655c8c4b2123",
   "metadata": {},
   "source": [
    "## Model comparison"
   ]
  },
  {
   "cell_type": "markdown",
   "id": "3ac31689-5ad3-408b-9c66-3dd9a5521aae",
   "metadata": {},
   "source": [
    "\n",
    "In this section of the report, we willplot  and compare the performance of the three implemented regression models."
   ]
  },
  {
   "cell_type": "code",
   "execution_count": 32,
   "id": "f3c022aa-4ba6-400f-b41b-bb98653e77f7",
   "metadata": {},
   "outputs": [
    {
     "data": {
      "text/plain": [
       "[Text(0, 0, 'Linear Regression'),\n",
       " Text(0, 1, 'Decision Tree Regression'),\n",
       " Text(0, 2, 'Random Forest Regression')]"
      ]
     },
     "execution_count": 32,
     "metadata": {},
     "output_type": "execute_result"
    },
    {
     "data": {
      "image/png": "[encoded data removed]",
      "text/plain": [
       "<Figure size 640x480 with 1 Axes>"
      ]
     },
     "metadata": {},
     "output_type": "display_data"
    }
   ],
   "source": [
    "mean_rmse = [lr_rmse, dt_rmse, rf_rmse]\n",
    "std_rmse = [lr_rmse_std, dt_rmse_std, rf_rmse_std]\n",
    "model_names = ['Linear Regression', 'Decision Tree Regression', 'Random Forest Regression']\n",
    "x_aranged = np.arange(len(model_names))\n",
    "\n",
    "# plot RMSE comparison\n",
    "plt.style.use('ggplot')\n",
    "fig, ax = plt.subplots()\n",
    "ax.barh(x_aranged, mean_rmse, xerr=std_rmse, align='center', alpha=0.7, ecolor='black', capsize=8, color = 'royalblue')\n",
    "ax.set_xlabel('RMSE')\n",
    "ax.set_yticks(x_aranged)\n",
    "ax.set_yticklabels(model_names)"
   ]
  },
  {
   "cell_type": "markdown",
   "id": "536c9738-6cca-41f0-a65c-1c21560eeade",
   "metadata": {},
   "source": [
    "All three models demonstrated low RMSE values, which can be attributed to the features being highly correlated with 'trip_distance' we wanted to predict. Among the three models, linear regression showed the least impressive performance, with an average RMSE of around 0.73. The decision tree model, optimized with a specific max_depth, had an average RMSE of approximately 0.47. The random forest model, with 25 estimators and a maximum depth of 12, performed slightly better, with an average RMSE of 0.45. Although the decision tree and random forest models showed similar performance levels, it's worth noting that the random forest model has greater potential for optimization. The hyperparameters selected for the random forest model are likely not the optimal ones, and we believe that incorporating more estimators and possibly increasing the depth could result in an even lower RMSE for the random forest regression model. Furthermore, both the decision tree and random forest models exhibited a similar distribution of feature importance, with 'fare_amount' being the most significant feature, followed by 'll_diff', and 'trip_duration' being the least important of the three (but still having importance above zero in both models). The standard deviation in feature importance was higher in the random forest model compared to the decision tree model across the 5 folds, which can be attributed to the inherent random nature of the random forest model, selecting a subset of features at random for each tree (estimator) within the model."
   ]
  }
 ],
 "metadata": {
  "kernelspec": {
   "display_name": "Python 3 (ipykernel)",
   "language": "python",
   "name": "python3"
  },
  "language_info": {
   "codemirror_mode": {
    "name": "ipython",
    "version": 3
   },
   "file_extension": ".py",
   "mimetype": "text/x-python",
   "name": "python",
   "nbconvert_exporter": "python",
   "pygments_lexer": "ipython3",
   "version": "3.11.5"
  }
 },
 "nbformat": 4,
 "nbformat_minor": 5
}
