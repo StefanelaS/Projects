{
 "cells": [
  {
   "cell_type": "markdown",
   "metadata": {
    "colab_type": "text",
    "id": "Gbgp0NXdc137"
   },
   "source": [
    "# Project 3: Predictive modeling\n",
    "*University of Ljubljana, Faculty for computer and information science* <br />\n",
    "*Course: Introduction to data science*"
   ]
  },
  {
   "cell_type": "markdown",
   "metadata": {
    "colab_type": "text",
    "id": "vmDFHSpSc14M"
   },
   "source": [
    "## Environment setup"
   ]
  },
  {
   "cell_type": "markdown",
   "metadata": {
    "colab_type": "text",
    "id": "U6cCtBRGc14R"
   },
   "source": [
    "- Libraries needed to run this notebook are: pandas, numpy, matplotlib, datetime, itertools and sklearn.\n",
    "\n",
    "- Run the following commands to set up the environment:\n",
    " \n",
    "> conda create -n project3 python=3.9 pandas matplotlib\n",
    "\n",
    "> conda activate project3\n",
    "\n",
    "> conda install -c conda-forge scikit-learn\n",
    "\n",
    "- Or use project3_env.yml file from the same GitHub repository to setup the enviroment with command:\n",
    "\n",
    "> conda create -f project3_env.yml"
   ]
  },
  {
   "cell_type": "code",
   "execution_count": 120,
   "metadata": {
    "colab": {},
    "colab_type": "code",
    "id": "X3ooqpJOc14V"
   },
   "outputs": [],
   "source": [
    "# Loading all the libraries needed for running the code chunks below\n",
    "\n",
    "import pandas as pd\n",
    "import numpy as np\n",
    "import matplotlib.pyplot as plt\n",
    "from datetime import datetime as dt\n",
    "import itertools\n",
    "\n",
    "from sklearn.preprocessing import MinMaxScaler\n",
    "from sklearn.model_selection import StratifiedKFold, KFold\n",
    "from sklearn.dummy import DummyRegressor, DummyClassifier\n",
    "from sklearn.tree import DecisionTreeRegressor, DecisionTreeClassifier\n",
    "from sklearn.linear_model import LogisticRegression\n",
    "from sklearn.ensemble import GradientBoostingRegressor, RandomForestClassifier, RandomForestRegressor\n",
    "from sklearn.neural_network import MLPClassifier\n",
    "from sklearn import metrics "
   ]
  },
  {
   "cell_type": "markdown",
   "metadata": {},
   "source": [
    "## Loading and preparing the data"
   ]
  },
  {
   "cell_type": "code",
   "execution_count": 2,
   "metadata": {},
   "outputs": [
    {
     "name": "stderr",
     "output_type": "stream",
     "text": [
      "C:\\Users\\Asus\\anaconda3\\lib\\site-packages\\IPython\\core\\interactiveshell.py:3444: DtypeWarning: Columns (1,2) have mixed types.Specify dtype option on import or set low_memory=False.\n",
      "  exec(code_obj, self.user_global_ns, self.user_ns)\n"
     ]
    },
    {
     "data": {
      "text/html": [
       "<div>\n",
       "<style scoped>\n",
       "    .dataframe tbody tr th:only-of-type {\n",
       "        vertical-align: middle;\n",
       "    }\n",
       "\n",
       "    .dataframe tbody tr th {\n",
       "        vertical-align: top;\n",
       "    }\n",
       "\n",
       "    .dataframe thead th {\n",
       "        text-align: right;\n",
       "    }\n",
       "</style>\n",
       "<table border=\"1\" class=\"dataframe\">\n",
       "  <thead>\n",
       "    <tr style=\"text-align: right;\">\n",
       "      <th></th>\n",
       "      <th>underwriting_date</th>\n",
       "      <th>first_end_date</th>\n",
       "      <th>cancellation_or_end_date</th>\n",
       "      <th>policy_id</th>\n",
       "      <th>sales_channel</th>\n",
       "      <th>customer_id</th>\n",
       "      <th>premium</th>\n",
       "      <th>status</th>\n",
       "      <th>line</th>\n",
       "      <th>product_name</th>\n",
       "      <th>product_group</th>\n",
       "    </tr>\n",
       "  </thead>\n",
       "  <tbody>\n",
       "    <tr>\n",
       "      <th>0</th>\n",
       "      <td>NaN</td>\n",
       "      <td>NaN</td>\n",
       "      <td>NaN</td>\n",
       "      <td>0</td>\n",
       "      <td>0.0</td>\n",
       "      <td>697.0</td>\n",
       "      <td>NaN</td>\n",
       "      <td>1</td>\n",
       "      <td>0</td>\n",
       "      <td>NaN</td>\n",
       "      <td>NaN</td>\n",
       "    </tr>\n",
       "    <tr>\n",
       "      <th>1</th>\n",
       "      <td>NaN</td>\n",
       "      <td>NaN</td>\n",
       "      <td>NaN</td>\n",
       "      <td>1</td>\n",
       "      <td>0.0</td>\n",
       "      <td>1499.0</td>\n",
       "      <td>NaN</td>\n",
       "      <td>1</td>\n",
       "      <td>0</td>\n",
       "      <td>0.0</td>\n",
       "      <td>0.0</td>\n",
       "    </tr>\n",
       "    <tr>\n",
       "      <th>2</th>\n",
       "      <td>NaN</td>\n",
       "      <td>NaN</td>\n",
       "      <td>NaN</td>\n",
       "      <td>2</td>\n",
       "      <td>0.0</td>\n",
       "      <td>2710.0</td>\n",
       "      <td>NaN</td>\n",
       "      <td>1</td>\n",
       "      <td>0</td>\n",
       "      <td>NaN</td>\n",
       "      <td>NaN</td>\n",
       "    </tr>\n",
       "    <tr>\n",
       "      <th>3</th>\n",
       "      <td>NaN</td>\n",
       "      <td>NaN</td>\n",
       "      <td>NaN</td>\n",
       "      <td>3</td>\n",
       "      <td>1.0</td>\n",
       "      <td>4483.0</td>\n",
       "      <td>NaN</td>\n",
       "      <td>1</td>\n",
       "      <td>0</td>\n",
       "      <td>NaN</td>\n",
       "      <td>NaN</td>\n",
       "    </tr>\n",
       "    <tr>\n",
       "      <th>4</th>\n",
       "      <td>NaN</td>\n",
       "      <td>NaN</td>\n",
       "      <td>NaN</td>\n",
       "      <td>4</td>\n",
       "      <td>0.0</td>\n",
       "      <td>7920.0</td>\n",
       "      <td>NaN</td>\n",
       "      <td>1</td>\n",
       "      <td>0</td>\n",
       "      <td>NaN</td>\n",
       "      <td>NaN</td>\n",
       "    </tr>\n",
       "  </tbody>\n",
       "</table>\n",
       "</div>"
      ],
      "text/plain": [
       "  underwriting_date first_end_date cancellation_or_end_date  policy_id  \\\n",
       "0               NaN            NaN                      NaN          0   \n",
       "1               NaN            NaN                      NaN          1   \n",
       "2               NaN            NaN                      NaN          2   \n",
       "3               NaN            NaN                      NaN          3   \n",
       "4               NaN            NaN                      NaN          4   \n",
       "\n",
       "   sales_channel  customer_id  premium  status  line  product_name  \\\n",
       "0            0.0        697.0      NaN       1     0           NaN   \n",
       "1            0.0       1499.0      NaN       1     0           0.0   \n",
       "2            0.0       2710.0      NaN       1     0           NaN   \n",
       "3            1.0       4483.0      NaN       1     0           NaN   \n",
       "4            0.0       7920.0      NaN       1     0           NaN   \n",
       "\n",
       "   product_group  \n",
       "0            NaN  \n",
       "1            0.0  \n",
       "2            NaN  \n",
       "3            NaN  \n",
       "4            NaN  "
      ]
     },
     "execution_count": 2,
     "metadata": {},
     "output_type": "execute_result"
    }
   ],
   "source": [
    "policy_data = pd.read_csv('policy_data.csv')\n",
    "policy_data.head()  # total number of rows 15 279 995"
   ]
  },
  {
   "cell_type": "code",
   "execution_count": 3,
   "metadata": {},
   "outputs": [
    {
     "data": {
      "text/html": [
       "<div>\n",
       "<style scoped>\n",
       "    .dataframe tbody tr th:only-of-type {\n",
       "        vertical-align: middle;\n",
       "    }\n",
       "\n",
       "    .dataframe tbody tr th {\n",
       "        vertical-align: top;\n",
       "    }\n",
       "\n",
       "    .dataframe thead th {\n",
       "        text-align: right;\n",
       "    }\n",
       "</style>\n",
       "<table border=\"1\" class=\"dataframe\">\n",
       "  <thead>\n",
       "    <tr style=\"text-align: right;\">\n",
       "      <th></th>\n",
       "      <th>customer_id</th>\n",
       "      <th>customer_type</th>\n",
       "    </tr>\n",
       "  </thead>\n",
       "  <tbody>\n",
       "    <tr>\n",
       "      <th>0</th>\n",
       "      <td>0</td>\n",
       "      <td>business</td>\n",
       "    </tr>\n",
       "    <tr>\n",
       "      <th>1</th>\n",
       "      <td>1</td>\n",
       "      <td>business</td>\n",
       "    </tr>\n",
       "    <tr>\n",
       "      <th>3</th>\n",
       "      <td>3</td>\n",
       "      <td>business</td>\n",
       "    </tr>\n",
       "    <tr>\n",
       "      <th>4</th>\n",
       "      <td>4</td>\n",
       "      <td>business</td>\n",
       "    </tr>\n",
       "    <tr>\n",
       "      <th>5</th>\n",
       "      <td>5</td>\n",
       "      <td>business</td>\n",
       "    </tr>\n",
       "  </tbody>\n",
       "</table>\n",
       "</div>"
      ],
      "text/plain": [
       "   customer_id customer_type\n",
       "0            0      business\n",
       "1            1      business\n",
       "3            3      business\n",
       "4            4      business\n",
       "5            5      business"
      ]
     },
     "execution_count": 3,
     "metadata": {},
     "output_type": "execute_result"
    }
   ],
   "source": [
    "customer_data = pd.read_csv('customer_data.csv')\n",
    "customer_data.drop(['country_part','date_of_birth','household_id','household_role'], inplace = True, axis = 1)\n",
    "\n",
    "# there are 2 333 031 rows total, without dropping NaN values\n",
    "customer_data.dropna(subset = ['customer_type'], inplace = True) # 2 332 634 rows left after dropping NaN values\n",
    "\n",
    "# combining customer_type and gender column\n",
    "customer_data = customer_data.fillna('')\n",
    "customer_data['gender'] = customer_data['gender'].replace(['female'], '_female')\n",
    "customer_data['gender'] = customer_data['gender'].replace(['male'], '_male')\n",
    "\n",
    "customer_data['customer_type'] = customer_data['customer_type'] + customer_data['gender']\n",
    "customer_data.drop(['gender'], axis = 1, inplace = True)\n",
    "customer_data.drop(customer_data.index[customer_data['customer_type'] == 'natural_person'], inplace = True) # 2 332 454 rows left\n",
    "\n",
    "\n",
    "customer_data.head()"
   ]
  },
  {
   "cell_type": "code",
   "execution_count": 4,
   "metadata": {},
   "outputs": [],
   "source": [
    "# creating new data frame\n",
    "df = policy_data.copy()\n",
    "\n",
    "# removing active policies\n",
    "df.dropna(subset = ['cancellation_or_end_date'], inplace = True) # 10 874 384 rows left that represent non active policies\n",
    "\n",
    "# removing rows with missing data\n",
    "df.dropna(subset = ['underwriting_date', 'first_end_date'], inplace = True) # 10 250 962 policies left\n",
    "df.reset_index(drop = True, inplace = True)\n",
    "\n",
    "# sorting by underwriting_date\n",
    "df = df.sort_values('underwriting_date')\n",
    "df.reset_index(drop = True, inplace = True)\n",
    "\n",
    "# converting dates to datetime format\n",
    "df['underwriting_date'] = pd.to_datetime(df['underwriting_date'], format = '%Y-%m-%d')\n",
    "df['first_end_date'] = pd.to_datetime(df['first_end_date'], format = '%Y-%m-%d')\n",
    "df['cancellation_or_end_date'] = pd.to_datetime(df['cancellation_or_end_date'], format = '%Y-%m-%d')\n",
    "\n",
    "# calculationg for how long the policy was active\n",
    "diff_month = (df['cancellation_or_end_date'].dt.month - df['underwriting_date'].dt.month)\n",
    "diff_year = (df['cancellation_or_end_date'].dt.year - df['underwriting_date'].dt.year)\n",
    "diff = [(diff_year[i]*12 + diff_month[i]) for i in range(0, len(diff_year))]\n",
    "\n",
    "# calculation for how long was the policy signed before extension\n",
    "diff_month_d = (df['first_end_date'].dt.month - df['underwriting_date'].dt.month)\n",
    "diff_year_d = (df['first_end_date'].dt.year - df['underwriting_date'].dt.year)\n",
    "diff_d = [(diff_year_d[i]*12 + diff_month_d[i]) for i in range(0, len(diff_year_d))]"
   ]
  },
  {
   "cell_type": "code",
   "execution_count": 5,
   "metadata": {},
   "outputs": [
    {
     "data": {
      "text/html": [
       "<div>\n",
       "<style scoped>\n",
       "    .dataframe tbody tr th:only-of-type {\n",
       "        vertical-align: middle;\n",
       "    }\n",
       "\n",
       "    .dataframe tbody tr th {\n",
       "        vertical-align: top;\n",
       "    }\n",
       "\n",
       "    .dataframe thead th {\n",
       "        text-align: right;\n",
       "    }\n",
       "</style>\n",
       "<table border=\"1\" class=\"dataframe\">\n",
       "  <thead>\n",
       "    <tr style=\"text-align: right;\">\n",
       "      <th></th>\n",
       "      <th>underwriting_date</th>\n",
       "      <th>policy_id</th>\n",
       "      <th>customer_id</th>\n",
       "      <th>premium</th>\n",
       "      <th>line</th>\n",
       "      <th>product_name</th>\n",
       "      <th>product_group</th>\n",
       "      <th>duration</th>\n",
       "      <th>first_end_duration</th>\n",
       "      <th>duration_status</th>\n",
       "      <th>underwriting_year</th>\n",
       "    </tr>\n",
       "  </thead>\n",
       "  <tbody>\n",
       "    <tr>\n",
       "      <th>0</th>\n",
       "      <td>1963-01-06</td>\n",
       "      <td>11834427</td>\n",
       "      <td>1715488.0</td>\n",
       "      <td>215.0</td>\n",
       "      <td>1</td>\n",
       "      <td>24.0</td>\n",
       "      <td>23.0</td>\n",
       "      <td>444</td>\n",
       "      <td>120</td>\n",
       "      <td>2</td>\n",
       "      <td>1963</td>\n",
       "    </tr>\n",
       "    <tr>\n",
       "      <th>1</th>\n",
       "      <td>1963-07-24</td>\n",
       "      <td>9696078</td>\n",
       "      <td>1332848.0</td>\n",
       "      <td>4.0</td>\n",
       "      <td>1</td>\n",
       "      <td>15.0</td>\n",
       "      <td>15.0</td>\n",
       "      <td>456</td>\n",
       "      <td>120</td>\n",
       "      <td>2</td>\n",
       "      <td>1963</td>\n",
       "    </tr>\n",
       "    <tr>\n",
       "      <th>2</th>\n",
       "      <td>1965-05-21</td>\n",
       "      <td>7007602</td>\n",
       "      <td>843685.0</td>\n",
       "      <td>NaN</td>\n",
       "      <td>1</td>\n",
       "      <td>24.0</td>\n",
       "      <td>23.0</td>\n",
       "      <td>432</td>\n",
       "      <td>432</td>\n",
       "      <td>1</td>\n",
       "      <td>1965</td>\n",
       "    </tr>\n",
       "    <tr>\n",
       "      <th>3</th>\n",
       "      <td>1966-07-07</td>\n",
       "      <td>1816629</td>\n",
       "      <td>15402.0</td>\n",
       "      <td>33.0</td>\n",
       "      <td>1</td>\n",
       "      <td>8.0</td>\n",
       "      <td>8.0</td>\n",
       "      <td>480</td>\n",
       "      <td>120</td>\n",
       "      <td>2</td>\n",
       "      <td>1966</td>\n",
       "    </tr>\n",
       "    <tr>\n",
       "      <th>4</th>\n",
       "      <td>1966-09-28</td>\n",
       "      <td>8543990</td>\n",
       "      <td>1119187.0</td>\n",
       "      <td>16.0</td>\n",
       "      <td>1</td>\n",
       "      <td>19.0</td>\n",
       "      <td>19.0</td>\n",
       "      <td>408</td>\n",
       "      <td>120</td>\n",
       "      <td>2</td>\n",
       "      <td>1966</td>\n",
       "    </tr>\n",
       "  </tbody>\n",
       "</table>\n",
       "</div>"
      ],
      "text/plain": [
       "  underwriting_date  policy_id  customer_id  premium  line  product_name  \\\n",
       "0        1963-01-06   11834427    1715488.0    215.0     1          24.0   \n",
       "1        1963-07-24    9696078    1332848.0      4.0     1          15.0   \n",
       "2        1965-05-21    7007602     843685.0      NaN     1          24.0   \n",
       "3        1966-07-07    1816629      15402.0     33.0     1           8.0   \n",
       "4        1966-09-28    8543990    1119187.0     16.0     1          19.0   \n",
       "\n",
       "   product_group  duration  first_end_duration  duration_status  \\\n",
       "0           23.0       444                 120                2   \n",
       "1           15.0       456                 120                2   \n",
       "2           23.0       432                 432                1   \n",
       "3            8.0       480                 120                2   \n",
       "4           19.0       408                 120                2   \n",
       "\n",
       "   underwriting_year  \n",
       "0               1963  \n",
       "1               1963  \n",
       "2               1965  \n",
       "3               1966  \n",
       "4               1966  "
      ]
     },
     "execution_count": 5,
     "metadata": {},
     "output_type": "execute_result"
    }
   ],
   "source": [
    "# if first_end_date > cancellation_or_end_date policy is closed prematurely\n",
    "# if first_end_date = cancellation_or_end_date policy is closed after expiring\n",
    "# if first_end_date < cancellation_or_end_date policy was prolonged\n",
    "\n",
    "extension = (df['cancellation_or_end_date'] - df['first_end_date']).dt.days\n",
    "duration_status = []\n",
    "for i in extension:\n",
    "    if i < 0 :\n",
    "        duration_status.append(0)\n",
    "    elif i == 0 :\n",
    "        duration_status.append(1)\n",
    "    else:\n",
    "        duration_status.append(2)\n",
    "\n",
    "# adding columns to new data frame df        \n",
    "df['duration'] = diff\n",
    "df['first_end_duration'] = diff_d\n",
    "df['duration_status'] = duration_status\n",
    "df['underwriting_year'] = df['underwriting_date'].dt.year\n",
    "\n",
    "# removing redundant columns\n",
    "df.drop(['first_end_date','cancellation_or_end_date', 'sales_channel', 'status'], axis = 1, inplace = True)\n",
    "\n",
    "df.head()        "
   ]
  },
  {
   "cell_type": "markdown",
   "metadata": {
    "colab_type": "text",
    "id": "aIXBDoF1c14Z"
   },
   "source": [
    "# Modeling"
   ]
  },
  {
   "cell_type": "markdown",
   "metadata": {},
   "source": [
    "### Predicting duration of the policy in months - Regression"
   ]
  },
  {
   "cell_type": "code",
   "execution_count": 6,
   "metadata": {
    "colab": {},
    "colab_type": "code",
    "id": "TIa6vaMOc140"
   },
   "outputs": [
    {
     "data": {
      "text/html": [
       "<div>\n",
       "<style scoped>\n",
       "    .dataframe tbody tr th:only-of-type {\n",
       "        vertical-align: middle;\n",
       "    }\n",
       "\n",
       "    .dataframe tbody tr th {\n",
       "        vertical-align: top;\n",
       "    }\n",
       "\n",
       "    .dataframe thead th {\n",
       "        text-align: right;\n",
       "    }\n",
       "</style>\n",
       "<table border=\"1\" class=\"dataframe\">\n",
       "  <thead>\n",
       "    <tr style=\"text-align: right;\">\n",
       "      <th></th>\n",
       "      <th>customer_id</th>\n",
       "      <th>premium</th>\n",
       "      <th>line</th>\n",
       "      <th>product_group</th>\n",
       "      <th>duration</th>\n",
       "      <th>first_end_duration</th>\n",
       "      <th>underwriting_year</th>\n",
       "      <th>business</th>\n",
       "      <th>natural_person_female</th>\n",
       "      <th>natural_person_male</th>\n",
       "    </tr>\n",
       "  </thead>\n",
       "  <tbody>\n",
       "    <tr>\n",
       "      <th>0</th>\n",
       "      <td>1715488.0</td>\n",
       "      <td>215.0</td>\n",
       "      <td>1</td>\n",
       "      <td>23.0</td>\n",
       "      <td>444</td>\n",
       "      <td>120</td>\n",
       "      <td>1963</td>\n",
       "      <td>0</td>\n",
       "      <td>0</td>\n",
       "      <td>1</td>\n",
       "    </tr>\n",
       "    <tr>\n",
       "      <th>1</th>\n",
       "      <td>1332848.0</td>\n",
       "      <td>4.0</td>\n",
       "      <td>1</td>\n",
       "      <td>15.0</td>\n",
       "      <td>456</td>\n",
       "      <td>120</td>\n",
       "      <td>1963</td>\n",
       "      <td>0</td>\n",
       "      <td>1</td>\n",
       "      <td>0</td>\n",
       "    </tr>\n",
       "    <tr>\n",
       "      <th>2</th>\n",
       "      <td>1332848.0</td>\n",
       "      <td>267.0</td>\n",
       "      <td>2</td>\n",
       "      <td>6.0</td>\n",
       "      <td>58</td>\n",
       "      <td>10</td>\n",
       "      <td>1996</td>\n",
       "      <td>0</td>\n",
       "      <td>1</td>\n",
       "      <td>0</td>\n",
       "    </tr>\n",
       "    <tr>\n",
       "      <th>3</th>\n",
       "      <td>1332848.0</td>\n",
       "      <td>258.0</td>\n",
       "      <td>2</td>\n",
       "      <td>6.0</td>\n",
       "      <td>116</td>\n",
       "      <td>12</td>\n",
       "      <td>2001</td>\n",
       "      <td>0</td>\n",
       "      <td>1</td>\n",
       "      <td>0</td>\n",
       "    </tr>\n",
       "    <tr>\n",
       "      <th>4</th>\n",
       "      <td>1332848.0</td>\n",
       "      <td>320.0</td>\n",
       "      <td>2</td>\n",
       "      <td>6.0</td>\n",
       "      <td>100</td>\n",
       "      <td>4</td>\n",
       "      <td>2010</td>\n",
       "      <td>0</td>\n",
       "      <td>1</td>\n",
       "      <td>0</td>\n",
       "    </tr>\n",
       "  </tbody>\n",
       "</table>\n",
       "</div>"
      ],
      "text/plain": [
       "   customer_id  premium  line  product_group  duration  first_end_duration  \\\n",
       "0    1715488.0    215.0     1           23.0       444                 120   \n",
       "1    1332848.0      4.0     1           15.0       456                 120   \n",
       "2    1332848.0    267.0     2            6.0        58                  10   \n",
       "3    1332848.0    258.0     2            6.0       116                  12   \n",
       "4    1332848.0    320.0     2            6.0       100                   4   \n",
       "\n",
       "   underwriting_year  business  natural_person_female  natural_person_male  \n",
       "0               1963         0                      0                    1  \n",
       "1               1963         0                      1                    0  \n",
       "2               1996         0                      1                    0  \n",
       "3               2001         0                      1                    0  \n",
       "4               2010         0                      1                    0  "
      ]
     },
     "execution_count": 6,
     "metadata": {},
     "output_type": "execute_result"
    }
   ],
   "source": [
    "# Creating new data frame for regression\n",
    "\n",
    "# merging with customer_data \n",
    "data_r = pd.merge(df, customer_data , how='inner', left_on = 'customer_id', right_on = 'customer_id') # 10 250 245 rows left \n",
    "\n",
    "# removing redundant columns\n",
    "columns_drop = ['underwriting_date', 'policy_id', 'product_name']\n",
    "data_r.drop(columns_drop, axis = 1, inplace = True)\n",
    "data_r.drop(['duration_status'], axis = 1, inplace = True)\n",
    "\n",
    "# removing rows with NaN values\n",
    "data_r.dropna(how = 'any', axis = 0, inplace = True) # 10 245 799 rows left\n",
    "data_r.reset_index(drop = True, inplace = True)\n",
    "\n",
    "# transforming customer_type into dummy variables\n",
    "customer_dummy = pd.get_dummies(data_r.customer_type)\n",
    "data_r = pd.concat([data_r, customer_dummy], axis = 1)\n",
    "data_r.drop(['customer_type'], axis = 1, inplace = True)\n",
    "\n",
    "data_r.head()"
   ]
  },
  {
   "cell_type": "code",
   "execution_count": 127,
   "metadata": {},
   "outputs": [],
   "source": [
    "# Defining a funtion that splits, scales, trains, tests and evalues\n",
    "\n",
    "def regression(model):\n",
    "    \n",
    "    k_fold = KFold(n_splits=5, shuffle = True, random_state = 1)\n",
    "    errors = []\n",
    "    \n",
    "    for train_index, test_index in k_fold.split(X, y):\n",
    "\n",
    "        X_train = X.loc[train_index]\n",
    "        y_train = y.loc[train_index]\n",
    "\n",
    "        X_test  = X.loc[test_index]\n",
    "        y_test  = y.loc[test_index]\n",
    "        \n",
    "        reg = model\n",
    "        \n",
    "        if reg == GradientBoostingRegressor():\n",
    "            scaler = MinMaxScaler().fit(X_train)\n",
    "            X_train = scaler.transform(X_train)\n",
    "            X_test = scaler.transform(X_test)\n",
    "        \n",
    "        reg.fit(X_train,y_train)\n",
    "        y_pred = reg.predict(X_test)\n",
    "\n",
    "        # accuracy for the current fold only \n",
    "        mae_fold = metrics.mean_absolute_error(y_test, y_pred)\n",
    "        errors.append(mae_fold)\n",
    "    \n",
    "    # average accuracy accross all splits\n",
    "    average_mae = np.mean(errors)\n",
    "    \n",
    "    # get feature importances\n",
    "    try:\n",
    "        ft_imp = reg.feature_importances_\n",
    "    except:\n",
    "        ft_imp = 0\n",
    "        \n",
    "    return average_mae, errors, ft_imp"
   ]
  },
  {
   "cell_type": "code",
   "execution_count": 144,
   "metadata": {},
   "outputs": [],
   "source": [
    "# Defining parameters X and taget variable y\n",
    "X = data_r.copy()\n",
    "X.drop(['duration'], axis = 1, inplace = True)\n",
    "y = data_r['duration']"
   ]
  },
  {
   "cell_type": "code",
   "execution_count": 57,
   "metadata": {},
   "outputs": [
    {
     "name": "stdout",
     "output_type": "stream",
     "text": [
      "MeanDummy_MAE: 17.811229754960014\n",
      "MedianDummy_MAE: 13.908942972741352\n"
     ]
    }
   ],
   "source": [
    "# MEAN DUMMY REGRESSOR\n",
    "model = DummyRegressor(strategy = 'mean')\n",
    "meandummy_mae, meandummy_mae_splits, meandummy_ft_imp = regression(model)\n",
    "print('MeanDummy_MAE:', meandummy_mae)\n",
    "\n",
    "# MEDIAN DUMMY REGRESSOR\n",
    "model = DummyRegressor(strategy = 'median')\n",
    "mediandummy_mae, mediandummy_mae_splits, mediandummy_ft_imp = regression(model)\n",
    "print('MedianDummy_MAE:', mediandummy_mae)"
   ]
  },
  {
   "cell_type": "code",
   "execution_count": 22,
   "metadata": {},
   "outputs": [
    {
     "name": "stdout",
     "output_type": "stream",
     "text": [
      "Max DT depth: 5\n",
      "DecisionTree_MAE: 12.893803401340033\n",
      "Max DT depth: 10\n",
      "DecisionTree_MAE: 11.952576616860815\n",
      "Max DT depth: 20\n",
      "DecisionTree_MAE: 11.840875192542232\n",
      "Max DT depth: 30\n",
      "DecisionTree_MAE: 12.672470937305967\n"
     ]
    }
   ],
   "source": [
    "# DECISION TREE REGRESSOR\n",
    "for i in [5, 10, 20, 30]:\n",
    "    model = DecisionTreeRegressor(max_depth = i)\n",
    "    DT_mae, DT_mae_splits, DT_ft_imp = regression(model)\n",
    "    print('Max DT depth:', i)\n",
    "    print('DecisionTree_MAE:', DT_mae)"
   ]
  },
  {
   "cell_type": "code",
   "execution_count": 38,
   "metadata": {},
   "outputs": [
    {
     "name": "stdout",
     "output_type": "stream",
     "text": [
      "GBR_MAE: 12.295898970078126\n",
      "GBR_MAE_splits [12.283974119439, 12.315631897948764, 12.302657572759841, 12.293660865808626, 12.283570394434399]\n"
     ]
    }
   ],
   "source": [
    "# GRADIENT BOOSTING REGRESSOR\n",
    "model = GradientBoostingRegressor()\n",
    "GBR_mae, GBR_mae_splits, GBR_ft_imp = regression(model)\n",
    "print('GBR_MAE:', GBR_mae)\n",
    "print('GBR_MAE_splits', GBR_mae_splits)"
   ]
  },
  {
   "cell_type": "code",
   "execution_count": 23,
   "metadata": {},
   "outputs": [
    {
     "name": "stdout",
     "output_type": "stream",
     "text": [
      "Max DT depth: 20\n",
      "DecisionTree_MAE: 11.841947006931349\n"
     ]
    }
   ],
   "source": [
    "# DECISION TREE REGRESSOR\n",
    "model = DecisionTreeRegressor(max_depth = 20)\n",
    "DT_mae, DT_mae_splits, DTR_ft_imp = regression(model)\n",
    "print('Max DT depth:', 20)\n",
    "print('DecisionTree_MAE:', DT_mae)\n",
    "print('Feature Importances', DTR_ft_imp)"
   ]
  },
  {
   "cell_type": "code",
   "execution_count": 145,
   "metadata": {},
   "outputs": [
    {
     "name": "stdout",
     "output_type": "stream",
     "text": [
      "Max RF depth: 20\n",
      "RandomForest_MAE: 11.636085907151138\n",
      "RandomForest_MAE_splits [11.63602182938843, 11.637032441933508, 11.654978577931738, 11.62602463965649, 11.626372046845518]\n",
      "Feature Importances [5.01001127e-02 6.99298110e-02 4.02103744e-02 7.67755826e-02\n",
      " 5.28076383e-01 2.31009713e-01 4.05015088e-04 2.02763484e-03\n",
      " 1.46537288e-03]\n"
     ]
    }
   ],
   "source": [
    "# RANDOM FOREST REGRESSOR\n",
    "model = RandomForestRegressor(max_depth = 20)\n",
    "RF_mae, RF_mae_splits, RFR_ft_imp = regression(model)\n",
    "print('Max RF depth:', 20)\n",
    "print('RandomForest_MAE:', RF_mae)\n",
    "print('RandomForest_MAE_splits', RF_mae_splits)\n",
    "print('Feature Importances', RFR_ft_imp)"
   ]
  },
  {
   "cell_type": "markdown",
   "metadata": {},
   "source": [
    "### Predicting if the policy will end prematurely/on time/be extended - Classification"
   ]
  },
  {
   "cell_type": "code",
   "execution_count": 25,
   "metadata": {},
   "outputs": [
    {
     "data": {
      "text/html": [
       "<div>\n",
       "<style scoped>\n",
       "    .dataframe tbody tr th:only-of-type {\n",
       "        vertical-align: middle;\n",
       "    }\n",
       "\n",
       "    .dataframe tbody tr th {\n",
       "        vertical-align: top;\n",
       "    }\n",
       "\n",
       "    .dataframe thead th {\n",
       "        text-align: right;\n",
       "    }\n",
       "</style>\n",
       "<table border=\"1\" class=\"dataframe\">\n",
       "  <thead>\n",
       "    <tr style=\"text-align: right;\">\n",
       "      <th></th>\n",
       "      <th>customer_id</th>\n",
       "      <th>premium</th>\n",
       "      <th>line</th>\n",
       "      <th>product_group</th>\n",
       "      <th>first_end_duration</th>\n",
       "      <th>duration_status</th>\n",
       "      <th>underwriting_year</th>\n",
       "      <th>business</th>\n",
       "      <th>natural_person_female</th>\n",
       "      <th>natural_person_male</th>\n",
       "    </tr>\n",
       "  </thead>\n",
       "  <tbody>\n",
       "    <tr>\n",
       "      <th>0</th>\n",
       "      <td>1715488.0</td>\n",
       "      <td>215.0</td>\n",
       "      <td>1</td>\n",
       "      <td>23.0</td>\n",
       "      <td>120</td>\n",
       "      <td>2</td>\n",
       "      <td>1963</td>\n",
       "      <td>0</td>\n",
       "      <td>0</td>\n",
       "      <td>1</td>\n",
       "    </tr>\n",
       "    <tr>\n",
       "      <th>1</th>\n",
       "      <td>1332848.0</td>\n",
       "      <td>4.0</td>\n",
       "      <td>1</td>\n",
       "      <td>15.0</td>\n",
       "      <td>120</td>\n",
       "      <td>2</td>\n",
       "      <td>1963</td>\n",
       "      <td>0</td>\n",
       "      <td>1</td>\n",
       "      <td>0</td>\n",
       "    </tr>\n",
       "    <tr>\n",
       "      <th>2</th>\n",
       "      <td>1332848.0</td>\n",
       "      <td>267.0</td>\n",
       "      <td>2</td>\n",
       "      <td>6.0</td>\n",
       "      <td>10</td>\n",
       "      <td>2</td>\n",
       "      <td>1996</td>\n",
       "      <td>0</td>\n",
       "      <td>1</td>\n",
       "      <td>0</td>\n",
       "    </tr>\n",
       "    <tr>\n",
       "      <th>3</th>\n",
       "      <td>1332848.0</td>\n",
       "      <td>258.0</td>\n",
       "      <td>2</td>\n",
       "      <td>6.0</td>\n",
       "      <td>12</td>\n",
       "      <td>2</td>\n",
       "      <td>2001</td>\n",
       "      <td>0</td>\n",
       "      <td>1</td>\n",
       "      <td>0</td>\n",
       "    </tr>\n",
       "    <tr>\n",
       "      <th>4</th>\n",
       "      <td>1332848.0</td>\n",
       "      <td>320.0</td>\n",
       "      <td>2</td>\n",
       "      <td>6.0</td>\n",
       "      <td>4</td>\n",
       "      <td>2</td>\n",
       "      <td>2010</td>\n",
       "      <td>0</td>\n",
       "      <td>1</td>\n",
       "      <td>0</td>\n",
       "    </tr>\n",
       "  </tbody>\n",
       "</table>\n",
       "</div>"
      ],
      "text/plain": [
       "   customer_id  premium  line  product_group  first_end_duration  \\\n",
       "0    1715488.0    215.0     1           23.0                 120   \n",
       "1    1332848.0      4.0     1           15.0                 120   \n",
       "2    1332848.0    267.0     2            6.0                  10   \n",
       "3    1332848.0    258.0     2            6.0                  12   \n",
       "4    1332848.0    320.0     2            6.0                   4   \n",
       "\n",
       "   duration_status  underwriting_year  business  natural_person_female  \\\n",
       "0                2               1963         0                      0   \n",
       "1                2               1963         0                      1   \n",
       "2                2               1996         0                      1   \n",
       "3                2               2001         0                      1   \n",
       "4                2               2010         0                      1   \n",
       "\n",
       "   natural_person_male  \n",
       "0                    1  \n",
       "1                    0  \n",
       "2                    0  \n",
       "3                    0  \n",
       "4                    0  "
      ]
     },
     "execution_count": 25,
     "metadata": {},
     "output_type": "execute_result"
    }
   ],
   "source": [
    "# Creating new data frame for classification\n",
    "\n",
    "# merging with customer_data \n",
    "data_c = pd.merge(df, customer_data , how='inner', left_on = 'customer_id', right_on = 'customer_id') # 10 250 245 rows left \n",
    "\n",
    "# removing redundant columns\n",
    "data_c.drop(columns_drop, axis = 1, inplace = True)\n",
    "data_c.drop(['duration'], axis = 1, inplace = True)\n",
    "\n",
    "# removing rows with NaN values\n",
    "data_c.dropna(how = 'any', axis = 0, inplace = True) # 10 245 799 rows left\n",
    "data_c.reset_index(drop = True, inplace = True)\n",
    "\n",
    "# transforming customer_type into dummy variables\n",
    "customer_dummy = pd.get_dummies(data_c.customer_type)\n",
    "data_c = pd.concat([data_c, customer_dummy], axis = 1)\n",
    "data_c.drop(['customer_type'], axis = 1, inplace = True)\n",
    "\n",
    "data_c.head()"
   ]
  },
  {
   "cell_type": "code",
   "execution_count": 138,
   "metadata": {},
   "outputs": [],
   "source": [
    "def classification(model):\n",
    "    \n",
    "    k_fold = StratifiedKFold(n_splits=5, shuffle = True, random_state = 1)\n",
    "    scores = []\n",
    "    y_proba = []\n",
    "    \n",
    "    for train_index, test_index in k_fold.split(X, y):\n",
    "\n",
    "        X_train = X.loc[train_index]\n",
    "        y_train = y.loc[train_index]\n",
    "\n",
    "        X_test  = X.loc[test_index]\n",
    "        y_test  = y.loc[test_index]\n",
    "        \n",
    "        scaler = MinMaxScaler().fit(X_train)\n",
    "        X_train = scaler.transform(X_train)\n",
    "        X_test = scaler.transform(X_test)\n",
    "    \n",
    "        clf = model  \n",
    "        clf.fit(X_train,y_train)\n",
    "        y_pred = clf.predict(X_test)\n",
    "        \n",
    "        try:\n",
    "            y_proba_split = clf.predict_proba(X_test)\n",
    "        except:\n",
    "            y_proba_split = 0\n",
    "\n",
    "        # accuracy for the current fold only \n",
    "        score_fold = metrics.accuracy_score(y_test, y_pred)\n",
    "        scores.append(score_fold)\n",
    "        y_proba.append(y_proba_split)\n",
    "        \n",
    "    average_score = np.mean(scores)\n",
    "    \n",
    "    # get feature importances\n",
    "    try:\n",
    "        ft_imp = clf.feature_importances_\n",
    "    except:\n",
    "        ft_imp = 0\n",
    "        \n",
    "    return average_score, scores, ft_imp, y_proba"
   ]
  },
  {
   "cell_type": "code",
   "execution_count": 139,
   "metadata": {},
   "outputs": [],
   "source": [
    "# Defining parameters and target variable\n",
    "X = data_c.copy()\n",
    "X.drop(['duration_status'], axis = 1, inplace = True)\n",
    "y = data_c['duration_status']"
   ]
  },
  {
   "cell_type": "code",
   "execution_count": 29,
   "metadata": {},
   "outputs": [
    {
     "name": "stdout",
     "output_type": "stream",
     "text": [
      "Dummy_acc: 0.502055232588498\n"
     ]
    }
   ],
   "source": [
    "# DUMMY MAJORITY CLASSIFIER\n",
    "model = DummyClassifier(strategy = 'most_frequent')\n",
    "dummy_acc, dummy_acc_splits, dummy_ft_imp, dummy_proba = classification(model)\n",
    "print('Dummy_acc:', dummy_acc)"
   ]
  },
  {
   "cell_type": "code",
   "execution_count": 140,
   "metadata": {},
   "outputs": [
    {
     "name": "stdout",
     "output_type": "stream",
     "text": [
      "MLR_acc: 0.5489065323284235\n",
      "MLR acc per split [0.5487917000136642, 0.5487375314763122, 0.5492479845400067, 0.5488248843428527, 0.5489305612692816]\n"
     ]
    }
   ],
   "source": [
    "# MULTYNOMIAL LOGISTIC REGRESSION\n",
    "model = LogisticRegression(multi_class = 'multinomial', solver = 'sag', n_jobs = -1)\n",
    "MLR_acc, MLR_acc_splits, MLR_ft_imp, MLR_proba = classification(model)\n",
    "print('MLR_acc:', MLR_acc)\n",
    "print('MLR acc per split', MLR_acc_splits)"
   ]
  },
  {
   "cell_type": "code",
   "execution_count": 34,
   "metadata": {},
   "outputs": [
    {
     "name": "stdout",
     "output_type": "stream",
     "text": [
      "Max DT depth: 5\n",
      "DT_acc: 0.5640833867842379\n",
      "Max DT depth: 10\n",
      "DT_acc: 0.6093953238856022\n",
      "Max DT depth: 20\n",
      "DT_acc: 0.6241409772239406\n",
      "Max DT depth: 30\n",
      "DT_acc: 0.6016945091333088\n"
     ]
    }
   ],
   "source": [
    "# DECISION TREE CLASSIFIER\n",
    "for i in [5, 10, 20, 30]:\n",
    "    model = DecisionTreeClassifier(max_depth = i)\n",
    "    DT_acc, DT_acc_splits, DT_ft_imp, DT_proba = classification(model)\n",
    "    print('Max DT depth:', i)\n",
    "    print('DT_acc:', DT_acc)"
   ]
  },
  {
   "cell_type": "code",
   "execution_count": 35,
   "metadata": {},
   "outputs": [
    {
     "name": "stdout",
     "output_type": "stream",
     "text": [
      "Max DT depth: 20\n",
      "DT_acc: 0.6241371707853711\n",
      "DT acc per split [0.6240864549376329, 0.6239137012239161, 0.6237931640281872, 0.6244597786410041, 0.6244327550961151]\n",
      "DT feature importances [5.71503868e-02 9.30153354e-02 4.00111471e-02 3.92404527e-01\n",
      " 2.28657238e-01 1.84082934e-01 2.01475569e-04 2.37432745e-03\n",
      " 2.10262933e-03]\n"
     ]
    }
   ],
   "source": [
    "# DECISION TREE CLASSIFIER\n",
    "model = DecisionTreeClassifier(max_depth = 20)\n",
    "DT_acc, DT_acc_splits, DT_ft_imp, DT_proba = classification(model)\n",
    "print('Max DT depth:', 20)\n",
    "print('DT_acc:', DT_acc)\n",
    "print('DT acc per split', DT_acc_splits)\n",
    "print('DT feature importances', DT_ft_imp)"
   ]
  },
  {
   "cell_type": "code",
   "execution_count": 43,
   "metadata": {},
   "outputs": [
    {
     "name": "stdout",
     "output_type": "stream",
     "text": [
      "Max RF depth: 20\n",
      "RF_acc: 0.628627401359313\n",
      "RF acc per split [0.628343809170587, 0.6287639813386949, 0.6282793925315739, 0.6289025747135412, 0.628847249042168]\n",
      "RF feature importances [0.07024712 0.10611659 0.07059308 0.31079162 0.23099775 0.1957463\n",
      " 0.01123377 0.00184467 0.0024291 ]\n"
     ]
    }
   ],
   "source": [
    "# RANDOM FOREST CLASSIFIER\n",
    "model = RandomForestClassifier(max_depth = 20)\n",
    "RF_acc, RF_acc_splits, RF_ft_imp, RF_proba = classification(model)\n",
    "print('Max RF depth:', 20)\n",
    "print('RF_acc:', RF_acc)\n",
    "print('RF acc per split', RF_acc_splits)\n",
    "print('RF feature importances', RF_ft_imp)"
   ]
  },
  {
   "cell_type": "code",
   "execution_count": 142,
   "metadata": {},
   "outputs": [
    {
     "name": "stdout",
     "output_type": "stream",
     "text": [
      "MLP_acc: 0.5851965282968952\n",
      "MLP_acc_splits [0.5850182513810537, 0.5835249565675692, 0.5819003884518534, 0.5859147162739854, 0.5896243288100143]\n",
      "MLP_ft_imp 0\n"
     ]
    }
   ],
   "source": [
    "# MULTI LAYER PERCEPTRON\n",
    "model = MLPClassifier(learning_rate_init = 0.01, max_iter = 50, tol = 0.01, n_iter_no_change = 5)\n",
    "MLP_acc, MLP_acc_splits, MLP_ft_imp, MLP_proba = classification(model)\n",
    "print('MLP_acc:', MLP_acc)\n",
    "print('MLP_acc_splits', MLP_acc_splits)\n",
    "print('MLP_ft_imp', MLP_ft_imp)"
   ]
  },
  {
   "cell_type": "markdown",
   "metadata": {},
   "source": [
    "### Visualizations"
   ]
  },
  {
   "cell_type": "code",
   "execution_count": 147,
   "metadata": {},
   "outputs": [
    {
     "data": {
      "image/png": "[encoded data removed]",
      "text/plain": [
       "<Figure size 640x480 with 1 Axes>"
      ]
     },
     "metadata": {},
     "output_type": "display_data"
    }
   ],
   "source": [
    "# Visualization 1: Comparison of MAE of regression models \n",
    "plt.style.use('ggplot')\n",
    "\n",
    "# calculating standard deviation across splits\n",
    "meandummy_std = np.std(meandummy_mae_splits)\n",
    "mediandummy_std = np.std(mediandummy_mae_splits)\n",
    "DTR_std = np.std(DT_mae_splits)\n",
    "RFR_std = np.std(RF_mae_splits)\n",
    "GBR_std = np.std(GBR_mae_splits)\n",
    "\n",
    "mean_mae = [meandummy_mae, mediandummy_mae, GBR_mae, DT_mae, RF_mae]\n",
    "std_mae = [meandummy_std, mediandummy_std, GBR_std, DTR_std, RFR_std]\n",
    "\n",
    "model_reg = ['Mean Dummy', 'Median Dummy', 'Gradient Boosing Regression', 'Decision Tree Regression', 'Random Forest Regression']\n",
    "x_reg = np.arange(len(model_reg))\n",
    "\n",
    "# building the plot\n",
    "fig, ax = plt.subplots()\n",
    "ax.barh(x_reg, mean_mae, xerr=std_mae, align='center', alpha=1.0, ecolor='black', capsize=8, color = 'royalblue')\n",
    "ax.set_xlabel('Mean Absolute Error')\n",
    "ax.set_yticks(x_reg)\n",
    "ax.set_yticklabels(model_reg)\n",
    "\n",
    "# saving the figure \n",
    "plt.tight_layout()\n",
    "plt.savefig('regression_MAE.png')\n",
    "plt.show()"
   ]
  },
  {
   "cell_type": "code",
   "execution_count": 146,
   "metadata": {},
   "outputs": [
    {
     "data": {
      "image/png": "[encoded data removed]",
      "text/plain": [
       "<Figure size 640x480 with 1 Axes>"
      ]
     },
     "metadata": {},
     "output_type": "display_data"
    }
   ],
   "source": [
    "# Visualization 2: Random Forest Regressor feature importance\n",
    "\n",
    "features_r = data_r.columns\n",
    "features_r = features_r.drop('duration')\n",
    "sort_idx = RFR_ft_imp.argsort()\n",
    "\n",
    "plt.barh(features_r[sort_idx], RFR_ft_imp[sort_idx], color = 'royalblue')\n",
    "plt.xlabel('Feature Importance')\n",
    "\n",
    "# saving the figure\n",
    "plt.tight_layout()\n",
    "plt.savefig('RFR_feature_importance.png')\n",
    "plt.show()"
   ]
  },
  {
   "cell_type": "code",
   "execution_count": 143,
   "metadata": {},
   "outputs": [
    {
     "data": {
      "image/png": "[encoded data removed]",
      "text/plain": [
       "<Figure size 640x480 with 1 Axes>"
      ]
     },
     "metadata": {},
     "output_type": "display_data"
    }
   ],
   "source": [
    "# Visualization 3: Average accuracy comparison of the classification models \n",
    "\n",
    "# calculating standard deviation across splits\n",
    "dummy_std = np.std(dummy_acc_splits)\n",
    "DTC_std = np.std(DT_acc_splits)\n",
    "RFC_std = np.std(RF_acc_splits)\n",
    "MLR_std = np.std(MLR_acc_splits)\n",
    "MLP_std = np.std(MLP_acc_splits)\n",
    "\n",
    "mean_acc = [dummy_acc, MLR_acc, MLP_acc, DT_acc, RF_acc]\n",
    "std_acc = [dummy_std, MLR_std, MLP_std, DTC_std, RFC_std]\n",
    "\n",
    "model_clf = ['Dummy Most Frequent Classifier', 'Multinomial Logistic Regression', 'Multi-Layer Perceptron NN', 'Decision Tree Classification', 'Random Forest Classification']\n",
    "x_clf = np.arange(len(model_clf))\n",
    "\n",
    "# building the plot\n",
    "fig, ax = plt.subplots()\n",
    "ax.barh(x_clf, mean_acc, xerr=std_acc, align='center', alpha=1.0, ecolor='black', capsize=8, color = 'royalblue')\n",
    "ax.set_xlabel('Average Accuracy')\n",
    "ax.set_yticks(x_clf)\n",
    "ax.set_yticklabels(model_clf)\n",
    "ax.xaxis.grid(True)\n",
    "\n",
    "# saving the figure \n",
    "plt.tight_layout()\n",
    "plt.savefig('classification_ACC.png')\n",
    "plt.show()"
   ]
  },
  {
   "cell_type": "code",
   "execution_count": 110,
   "metadata": {},
   "outputs": [
    {
     "data": {
      "image/png": "[encoded data removed]",
      "text/plain": [
       "<Figure size 640x480 with 1 Axes>"
      ]
     },
     "metadata": {},
     "output_type": "display_data"
    }
   ],
   "source": [
    "# Visualization 4: Random Forest Classifier feature importance\n",
    "\n",
    "features_c = data_c.columns\n",
    "features_c = features_c.drop('duration_status')\n",
    "sorted_idx = RF_ft_imp.argsort()\n",
    "\n",
    "plt.barh(features_c[sorted_idx], RF_ft_imp[sorted_idx], color = 'royalblue')\n",
    "plt.xlabel(\"Feature Importance\")\n",
    "\n",
    "# saving the figure\n",
    "plt.tight_layout()\n",
    "plt.savefig('RFC_feature_importance.png')\n",
    "plt.show()"
   ]
  },
  {
   "cell_type": "code",
   "execution_count": 133,
   "metadata": {},
   "outputs": [
    {
     "name": "stdout",
     "output_type": "stream",
     "text": [
      "Total number of predictions: 10245799\n"
     ]
    },
    {
     "data": {
      "image/png": "[encoded data removed]",
      "text/plain": [
       "<Figure size 640x480 with 1 Axes>"
      ]
     },
     "metadata": {},
     "output_type": "display_data"
    }
   ],
   "source": [
    "# Visualization 5: Probability with which the classifier output (0,1,2) was predicted\n",
    "\n",
    "y_proba_1 = [max(i) for i in RF_proba[0]]\n",
    "y_proba_2 = [max(i) for i in RF_proba[1]]\n",
    "y_proba_3 = [max(i) for i in RF_proba[2]]\n",
    "y_proba_4 = [max(i) for i in RF_proba[3]]\n",
    "y_proba_5 = [max(i) for i in RF_proba[4]]\n",
    "\n",
    "max_proba = list(itertools.chain(y_proba_1, y_proba_2, y_proba_3, y_proba_4, y_proba_5)) \n",
    "num_of_predictions = len(max_proba)\n",
    "print('Total number of predictions:', num_of_predictions)\n",
    "\n",
    "plt.hist(max_proba, bins=70, color = 'royalblue')\n",
    "plt.xlabel('Probability with which the target label was predicted')\n",
    "plt.ylabel('Number of predictions')\n",
    "\n",
    "# saving the figure\n",
    "plt.tight_layout()\n",
    "plt.savefig('prediction_probability.png')\n",
    "plt.show()"
   ]
  },
  {
   "cell_type": "code",
   "execution_count": null,
   "metadata": {},
   "outputs": [],
   "source": []
  }
 ],
 "metadata": {
  "colab": {
   "name": "predictive_modeling.ipynb",
   "provenance": []
  },
  "kernelspec": {
   "display_name": "Python 3 (ipykernel)",
   "language": "python",
   "name": "python3"
  },
  "language_info": {
   "codemirror_mode": {
    "name": "ipython",
    "version": 3
   },
   "file_extension": ".py",
   "mimetype": "text/x-python",
   "name": "python",
   "nbconvert_exporter": "python",
   "pygments_lexer": "ipython3",
   "version": "3.9.7"
  }
 },
 "nbformat": 4,
 "nbformat_minor": 1
}
